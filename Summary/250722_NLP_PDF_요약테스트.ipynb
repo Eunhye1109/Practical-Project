{
  "nbformat": 4,
  "nbformat_minor": 0,
  "metadata": {
    "colab": {
      "provenance": [],
      "collapsed_sections": [
        "EogwM4gSJMXV"
      ],
      "toc_visible": true,
      "gpuType": "T4",
      "mount_file_id": "1P6B_qR8OpaCD3o5sHv2Jykv0XJ1W9vVz",
      "authorship_tag": "ABX9TyMyYncDBvyk8jWCVM6o8VHA",
      "include_colab_link": true
    },
    "kernelspec": {
      "name": "python3",
      "display_name": "Python 3"
    },
    "language_info": {
      "name": "python"
    },
    "accelerator": "GPU"
  },
  "cells": [
    {
      "cell_type": "markdown",
      "metadata": {
        "id": "view-in-github",
        "colab_type": "text"
      },
      "source": [
        "<a href=\"https://colab.research.google.com/github/Eunhye1109/Practical-Project/blob/EH/250722_NLP_PDF_%EC%9A%94%EC%95%BD%ED%85%8C%EC%8A%A4%ED%8A%B8.ipynb\" target=\"_parent\"><img src=\"https://colab.research.google.com/assets/colab-badge.svg\" alt=\"Open In Colab\"/></a>"
      ]
    },
    {
      "cell_type": "markdown",
      "source": [
        "# 01. finBERT모델 실험"
      ],
      "metadata": {
        "id": "599tDIoGBeWi"
      }
    },
    {
      "cell_type": "markdown",
      "source": [
        "✅ 전체 흐름 개요\n",
        "- 목표:\n",
        "지정된 폴더 내 PDF 사업보고서들을 FinBERT 기반 문장 감성 분석 및 요약\n",
        "\n",
        "- 폴더 경로:\n",
        "/content/drive/MyDrive/2. 취업 부업/7. SW개발자과정/3. 실전프로젝트/[실전] 재무 관련 데이터_호성 팀/PDF 사업 보고서\n",
        "\n",
        "- 사용 모델:\n",
        "FinBERT (감성 분석) + 추가로 Huggingface summarization 모델 (bart, t5 등)\n",
        "\n"
      ],
      "metadata": {
        "id": "DVwM6CXd8v_-"
      }
    },
    {
      "cell_type": "code",
      "source": [],
      "metadata": {
        "id": "zkk43GzR8vXh"
      },
      "execution_count": null,
      "outputs": []
    },
    {
      "cell_type": "code",
      "source": [],
      "metadata": {
        "id": "KolHaX2l-CAy"
      },
      "execution_count": null,
      "outputs": []
    },
    {
      "cell_type": "markdown",
      "source": [
        "## Step 1: Google Drive 마운트"
      ],
      "metadata": {
        "id": "OwXuoPwT-CVf"
      }
    },
    {
      "cell_type": "code",
      "execution_count": 23,
      "metadata": {
        "colab": {
          "base_uri": "https://localhost:8080/",
          "height": 318
        },
        "collapsed": true,
        "id": "xroWvmlW7_4Y",
        "outputId": "a69d5d59-8ff7-4d82-a901-88df6539a127"
      },
      "outputs": [
        {
          "output_type": "error",
          "ename": "KeyboardInterrupt",
          "evalue": "",
          "traceback": [
            "\u001b[0;31m---------------------------------------------------------------------------\u001b[0m",
            "\u001b[0;31mKeyboardInterrupt\u001b[0m                         Traceback (most recent call last)",
            "\u001b[0;32m/tmp/ipython-input-23-589980250.py\u001b[0m in \u001b[0;36m<cell line: 0>\u001b[0;34m()\u001b[0m\n\u001b[1;32m      1\u001b[0m \u001b[0;32mfrom\u001b[0m \u001b[0mgoogle\u001b[0m\u001b[0;34m.\u001b[0m\u001b[0mcolab\u001b[0m \u001b[0;32mimport\u001b[0m \u001b[0mdrive\u001b[0m\u001b[0;34m\u001b[0m\u001b[0;34m\u001b[0m\u001b[0m\n\u001b[0;32m----> 2\u001b[0;31m \u001b[0mdrive\u001b[0m\u001b[0;34m.\u001b[0m\u001b[0mmount\u001b[0m\u001b[0;34m(\u001b[0m\u001b[0;34m'/content/drive'\u001b[0m\u001b[0;34m)\u001b[0m\u001b[0;34m\u001b[0m\u001b[0;34m\u001b[0m\u001b[0m\n\u001b[0m",
            "\u001b[0;32m/usr/local/lib/python3.11/dist-packages/google/colab/drive.py\u001b[0m in \u001b[0;36mmount\u001b[0;34m(mountpoint, force_remount, timeout_ms, readonly)\u001b[0m\n\u001b[1;32m     98\u001b[0m \u001b[0;32mdef\u001b[0m \u001b[0mmount\u001b[0m\u001b[0;34m(\u001b[0m\u001b[0mmountpoint\u001b[0m\u001b[0;34m,\u001b[0m \u001b[0mforce_remount\u001b[0m\u001b[0;34m=\u001b[0m\u001b[0;32mFalse\u001b[0m\u001b[0;34m,\u001b[0m \u001b[0mtimeout_ms\u001b[0m\u001b[0;34m=\u001b[0m\u001b[0;36m120000\u001b[0m\u001b[0;34m,\u001b[0m \u001b[0mreadonly\u001b[0m\u001b[0;34m=\u001b[0m\u001b[0;32mFalse\u001b[0m\u001b[0;34m)\u001b[0m\u001b[0;34m:\u001b[0m\u001b[0;34m\u001b[0m\u001b[0;34m\u001b[0m\u001b[0m\n\u001b[1;32m     99\u001b[0m   \u001b[0;34m\"\"\"Mount your Google Drive at the specified mountpoint path.\"\"\"\u001b[0m\u001b[0;34m\u001b[0m\u001b[0;34m\u001b[0m\u001b[0m\n\u001b[0;32m--> 100\u001b[0;31m   return _mount(\n\u001b[0m\u001b[1;32m    101\u001b[0m       \u001b[0mmountpoint\u001b[0m\u001b[0;34m,\u001b[0m\u001b[0;34m\u001b[0m\u001b[0;34m\u001b[0m\u001b[0m\n\u001b[1;32m    102\u001b[0m       \u001b[0mforce_remount\u001b[0m\u001b[0;34m=\u001b[0m\u001b[0mforce_remount\u001b[0m\u001b[0;34m,\u001b[0m\u001b[0;34m\u001b[0m\u001b[0;34m\u001b[0m\u001b[0m\n",
            "\u001b[0;32m/usr/local/lib/python3.11/dist-packages/google/colab/drive.py\u001b[0m in \u001b[0;36m_mount\u001b[0;34m(mountpoint, force_remount, timeout_ms, ephemeral, readonly)\u001b[0m\n\u001b[1;32m    135\u001b[0m   )\n\u001b[1;32m    136\u001b[0m   \u001b[0;32mif\u001b[0m \u001b[0mephemeral\u001b[0m\u001b[0;34m:\u001b[0m\u001b[0;34m\u001b[0m\u001b[0;34m\u001b[0m\u001b[0m\n\u001b[0;32m--> 137\u001b[0;31m     _message.blocking_request(\n\u001b[0m\u001b[1;32m    138\u001b[0m         \u001b[0;34m'request_auth'\u001b[0m\u001b[0;34m,\u001b[0m\u001b[0;34m\u001b[0m\u001b[0;34m\u001b[0m\u001b[0m\n\u001b[1;32m    139\u001b[0m         \u001b[0mrequest\u001b[0m\u001b[0;34m=\u001b[0m\u001b[0;34m{\u001b[0m\u001b[0;34m'authType'\u001b[0m\u001b[0;34m:\u001b[0m \u001b[0;34m'dfs_ephemeral'\u001b[0m\u001b[0;34m}\u001b[0m\u001b[0;34m,\u001b[0m\u001b[0;34m\u001b[0m\u001b[0;34m\u001b[0m\u001b[0m\n",
            "\u001b[0;32m/usr/local/lib/python3.11/dist-packages/google/colab/_message.py\u001b[0m in \u001b[0;36mblocking_request\u001b[0;34m(request_type, request, timeout_sec, parent)\u001b[0m\n\u001b[1;32m    174\u001b[0m       \u001b[0mrequest_type\u001b[0m\u001b[0;34m,\u001b[0m \u001b[0mrequest\u001b[0m\u001b[0;34m,\u001b[0m \u001b[0mparent\u001b[0m\u001b[0;34m=\u001b[0m\u001b[0mparent\u001b[0m\u001b[0;34m,\u001b[0m \u001b[0mexpect_reply\u001b[0m\u001b[0;34m=\u001b[0m\u001b[0;32mTrue\u001b[0m\u001b[0;34m\u001b[0m\u001b[0;34m\u001b[0m\u001b[0m\n\u001b[1;32m    175\u001b[0m   )\n\u001b[0;32m--> 176\u001b[0;31m   \u001b[0;32mreturn\u001b[0m \u001b[0mread_reply_from_input\u001b[0m\u001b[0;34m(\u001b[0m\u001b[0mrequest_id\u001b[0m\u001b[0;34m,\u001b[0m \u001b[0mtimeout_sec\u001b[0m\u001b[0;34m)\u001b[0m\u001b[0;34m\u001b[0m\u001b[0;34m\u001b[0m\u001b[0m\n\u001b[0m",
            "\u001b[0;32m/usr/local/lib/python3.11/dist-packages/google/colab/_message.py\u001b[0m in \u001b[0;36mread_reply_from_input\u001b[0;34m(message_id, timeout_sec)\u001b[0m\n\u001b[1;32m     94\u001b[0m     \u001b[0mreply\u001b[0m \u001b[0;34m=\u001b[0m \u001b[0m_read_next_input_message\u001b[0m\u001b[0;34m(\u001b[0m\u001b[0;34m)\u001b[0m\u001b[0;34m\u001b[0m\u001b[0;34m\u001b[0m\u001b[0m\n\u001b[1;32m     95\u001b[0m     \u001b[0;32mif\u001b[0m \u001b[0mreply\u001b[0m \u001b[0;34m==\u001b[0m \u001b[0m_NOT_READY\u001b[0m \u001b[0;32mor\u001b[0m \u001b[0;32mnot\u001b[0m \u001b[0misinstance\u001b[0m\u001b[0;34m(\u001b[0m\u001b[0mreply\u001b[0m\u001b[0;34m,\u001b[0m \u001b[0mdict\u001b[0m\u001b[0;34m)\u001b[0m\u001b[0;34m:\u001b[0m\u001b[0;34m\u001b[0m\u001b[0;34m\u001b[0m\u001b[0m\n\u001b[0;32m---> 96\u001b[0;31m       \u001b[0mtime\u001b[0m\u001b[0;34m.\u001b[0m\u001b[0msleep\u001b[0m\u001b[0;34m(\u001b[0m\u001b[0;36m0.025\u001b[0m\u001b[0;34m)\u001b[0m\u001b[0;34m\u001b[0m\u001b[0;34m\u001b[0m\u001b[0m\n\u001b[0m\u001b[1;32m     97\u001b[0m       \u001b[0;32mcontinue\u001b[0m\u001b[0;34m\u001b[0m\u001b[0;34m\u001b[0m\u001b[0m\n\u001b[1;32m     98\u001b[0m     if (\n",
            "\u001b[0;31mKeyboardInterrupt\u001b[0m: "
          ]
        }
      ],
      "source": [
        "\n",
        "from google.colab import drive\n",
        "drive.mount('/content/drive')"
      ]
    },
    {
      "cell_type": "markdown",
      "source": [
        "## Step 2: PDF 폴더 경로 지정 및 파일 리스트 확보"
      ],
      "metadata": {
        "id": "9QjDJb-h-E9G"
      }
    },
    {
      "cell_type": "code",
      "source": [
        "import os\n",
        "\n",
        "# 정확한 폴더 경로\n",
        "pdf_dir = \"/content/drive/MyDrive/2. 취업 부업/7. SW개발자과정/3. 실전프로젝트/[실전] 재무 관련 데이터_호성 팀/PDF 사업 보고서\"\n",
        "\n",
        "# 폴더 존재 확인\n",
        "if not os.path.exists(pdf_dir):\n",
        "    raise FileNotFoundError(f\"폴더를 찾을 수 없습니다: {pdf_dir}\")\n",
        "\n",
        "# PDF 파일 목록 수집\n",
        "pdf_files = [os.path.join(pdf_dir, f) for f in os.listdir(pdf_dir) if f.endswith('.pdf')]\n",
        "\n",
        "# 리스트 확인\n",
        "print(f\"✅ 총 PDF 파일 수: {len(pdf_files)}\")\n",
        "for f in pdf_files[:5]:\n",
        "    print(\"📄\", f)\n"
      ],
      "metadata": {
        "colab": {
          "base_uri": "https://localhost:8080/"
        },
        "id": "YQfWFfhG8KWe",
        "outputId": "8371fd05-1b36-4688-9774-b2b291181d95"
      },
      "execution_count": 2,
      "outputs": [
        {
          "output_type": "stream",
          "name": "stdout",
          "text": [
            "✅ 총 PDF 파일 수: 3005\n",
            "📄 /content/drive/MyDrive/2. 취업 부업/7. SW개발자과정/3. 실전프로젝트/[실전] 재무 관련 데이터_호성 팀/PDF 사업 보고서/대주이엔티 사업보고서제출기한연장신고서 (2024.12).pdf\n",
            "📄 /content/drive/MyDrive/2. 취업 부업/7. SW개발자과정/3. 실전프로젝트/[실전] 재무 관련 데이터_호성 팀/PDF 사업 보고서/더테크놀로지 사업보고서제출기한연장신고서 (2024.12).pdf\n",
            "📄 /content/drive/MyDrive/2. 취업 부업/7. SW개발자과정/3. 실전프로젝트/[실전] 재무 관련 데이터_호성 팀/PDF 사업 보고서/씨앗 사업보고서제출기한연장신고서 (2024.12).pdf\n",
            "📄 /content/drive/MyDrive/2. 취업 부업/7. SW개발자과정/3. 실전프로젝트/[실전] 재무 관련 데이터_호성 팀/PDF 사업 보고서/동성제약 사업보고서 (2024.12).pdf\n",
            "📄 /content/drive/MyDrive/2. 취업 부업/7. SW개발자과정/3. 실전프로젝트/[실전] 재무 관련 데이터_호성 팀/PDF 사업 보고서/광동헬스바이오 사업보고서 (2024.12).pdf\n"
          ]
        }
      ]
    },
    {
      "cell_type": "code",
      "source": [],
      "metadata": {
        "id": "qdPLHyJL950G"
      },
      "execution_count": 2,
      "outputs": []
    },
    {
      "cell_type": "markdown",
      "source": [
        "## Step 3: PyMuPDF로 PDF 텍스트 추출"
      ],
      "metadata": {
        "id": "xa378S_a-Jv_"
      }
    },
    {
      "cell_type": "code",
      "source": [
        "!pip install -q PyMuPDF\n",
        "import fitz  # PyMuPDF\n",
        "\n",
        "def extract_text_from_pdf(pdf_path):\n",
        "    text = \"\"\n",
        "    doc = fitz.open(pdf_path)\n",
        "    for page in doc:\n",
        "        text += page.get_text()\n",
        "    return text\n"
      ],
      "metadata": {
        "id": "gobgcDP3-MnL"
      },
      "execution_count": 3,
      "outputs": []
    },
    {
      "cell_type": "markdown",
      "source": [
        "## Step 4: FinBERT 모델 로드 및 finbert_pipleline 정의"
      ],
      "metadata": {
        "id": "mkBMMMsW-1n7"
      }
    },
    {
      "cell_type": "code",
      "source": [
        "from transformers import BertTokenizer, BertForSequenceClassification, pipeline\n",
        "\n",
        "# FinBERT 모델 로드\n",
        "tokenizer = BertTokenizer.from_pretrained(\"yiyanghkust/finbert-tone\")\n",
        "model = BertForSequenceClassification.from_pretrained(\"yiyanghkust/finbert-tone\")\n",
        "\n",
        "# 감성 분석 파이프라인 생성\n",
        "finbert_pipeline = pipeline(\"sentiment-analysis\", model=model, tokenizer=tokenizer)\n"
      ],
      "metadata": {
        "colab": {
          "base_uri": "https://localhost:8080/"
        },
        "id": "FU3KKaNT-8Pw",
        "outputId": "289fa288-cbb8-4ef0-9207-c353fc6dbfe1"
      },
      "execution_count": 4,
      "outputs": [
        {
          "output_type": "stream",
          "name": "stderr",
          "text": [
            "/usr/local/lib/python3.11/dist-packages/huggingface_hub/utils/_auth.py:94: UserWarning: \n",
            "The secret `HF_TOKEN` does not exist in your Colab secrets.\n",
            "To authenticate with the Hugging Face Hub, create a token in your settings tab (https://huggingface.co/settings/tokens), set it as secret in your Google Colab and restart your session.\n",
            "You will be able to reuse this secret in all of your notebooks.\n",
            "Please note that authentication is recommended but still optional to access public models or datasets.\n",
            "  warnings.warn(\n",
            "Device set to use cuda:0\n"
          ]
        }
      ]
    },
    {
      "cell_type": "markdown",
      "source": [
        "## Step 5: 감성 분석 함수 정의\n",
        "\n"
      ],
      "metadata": {
        "id": "ar9jWLrI-PkX"
      }
    },
    {
      "cell_type": "code",
      "source": [
        "from nltk.tokenize import sent_tokenize\n",
        "\n",
        "def analyze_sentiment(text):\n",
        "    sentences = sent_tokenize(text)\n",
        "    results = []\n",
        "    for sentence in sentences:\n",
        "        if len(sentence.strip()) >= 30:  # 너무 짧은 문장은 제외\n",
        "            sentiment = finbert_pipeline(sentence)[0]\n",
        "            results.append((sentence, sentiment['label'], sentiment['score']))\n",
        "    return results\n"
      ],
      "metadata": {
        "id": "P4BFqbHh-RCb"
      },
      "execution_count": 5,
      "outputs": []
    },
    {
      "cell_type": "code",
      "source": [],
      "metadata": {
        "id": "r4kuNMK5-SL1"
      },
      "execution_count": 5,
      "outputs": []
    },
    {
      "cell_type": "markdown",
      "source": [
        "## Step 6: 첫 PDF 파일 분석 실행"
      ],
      "metadata": {
        "id": "rQIOX7P--TYS"
      }
    },
    {
      "cell_type": "code",
      "source": [
        "import nltk\n",
        "\n",
        "# Punkt 관련 전체 토크나이저 세트 재설치\n",
        "nltk.download('punkt')\n",
        "nltk.download('punkt_tab')\n",
        "nltk.download('tokenizers/punkt')\n",
        "nltk.download('tokenizers/punkt/english.pickle')\n"
      ],
      "metadata": {
        "colab": {
          "base_uri": "https://localhost:8080/"
        },
        "id": "zPnbgj8M-eYR",
        "outputId": "473cd7ed-8016-4756-a061-1be50aadb172"
      },
      "execution_count": 6,
      "outputs": [
        {
          "output_type": "stream",
          "name": "stderr",
          "text": [
            "[nltk_data] Downloading package punkt to /root/nltk_data...\n",
            "[nltk_data]   Package punkt is already up-to-date!\n",
            "[nltk_data] Downloading package punkt_tab to /root/nltk_data...\n",
            "[nltk_data]   Package punkt_tab is already up-to-date!\n",
            "[nltk_data] Error loading tokenizers/punkt: Package 'tokenizers/punkt'\n",
            "[nltk_data]     not found in index\n",
            "[nltk_data] Error loading tokenizers/punkt/english.pickle: Package\n",
            "[nltk_data]     'tokenizers/punkt/english.pickle' not found in index\n"
          ]
        },
        {
          "output_type": "execute_result",
          "data": {
            "text/plain": [
              "False"
            ]
          },
          "metadata": {},
          "execution_count": 6
        }
      ]
    },
    {
      "cell_type": "code",
      "source": [
        "\n",
        "# 예시용: 첫 번째 PDF 파일 선택\n",
        "sample_pdf = pdf_files[0]\n",
        "\n",
        "# 텍스트 추출\n",
        "pdf_text = extract_text_from_pdf(sample_pdf)\n",
        "\n",
        "# 감성 분석 실행\n",
        "results = analyze_sentiment(pdf_text)\n",
        "\n",
        "# 결과 집계\n",
        "pos = [r for r in results if r[1] == 'positive']\n",
        "neg = [r for r in results if r[1] == 'negative']\n",
        "neu = [r for r in results if r[1] == 'neutral']\n",
        "\n",
        "# 요약 출력\n",
        "print(f\"\\n📘 분석 대상: {os.path.basename(sample_pdf)}\")\n",
        "print(f\"🟢 긍정: {len(pos)} | 🔴 부정: {len(neg)} | ⚪ 중립: {len(neu)}\")\n",
        "\n",
        "print(\"\\n📌 대표 긍정 문장:\")\n",
        "for s in pos[:3]: print(\" -\", s[0])\n",
        "\n",
        "print(\"\\n📌 대표 부정 문장:\")\n",
        "for s in neg[:3]: print(\" -\", s[0])\n"
      ],
      "metadata": {
        "colab": {
          "base_uri": "https://localhost:8080/"
        },
        "id": "2VHWsAp8-T5F",
        "outputId": "f7bf7b86-c58e-4d78-cb3f-e1c3f1c9c364"
      },
      "execution_count": 7,
      "outputs": [
        {
          "output_type": "stream",
          "name": "stdout",
          "text": [
            "\n",
            "📘 분석 대상: 대주이엔티 사업보고서제출기한연장신고서 (2024.12).pdf\n",
            "🟢 긍정: 0 | 🔴 부정: 0 | ⚪ 중립: 0\n",
            "\n",
            "📌 대표 긍정 문장:\n",
            "\n",
            "📌 대표 부정 문장:\n"
          ]
        }
      ]
    },
    {
      "cell_type": "code",
      "source": [
        "!pip install pytesseract pdf2image\n",
        "from pdf2image import convert_from_path\n",
        "import pytesseract\n",
        "\n",
        "# OCR로 이미지에서 텍스트 추출\n",
        "def extract_text_ocr(pdf_path):\n",
        "    pages = convert_from_path(pdf_path, dpi=300)\n",
        "    text = \"\"\n",
        "    for page in pages:\n",
        "        text += pytesseract.image_to_string(page, lang='eng+kor')  # 한글도 가능하게\n",
        "    return text"
      ],
      "metadata": {
        "colab": {
          "base_uri": "https://localhost:8080/"
        },
        "id": "ay6aoCUj-U4l",
        "outputId": "29c6c159-d7ca-46db-b0f2-b3c1dba1c2b1"
      },
      "execution_count": 8,
      "outputs": [
        {
          "output_type": "stream",
          "name": "stdout",
          "text": [
            "Requirement already satisfied: pytesseract in /usr/local/lib/python3.11/dist-packages (0.3.13)\n",
            "Requirement already satisfied: pdf2image in /usr/local/lib/python3.11/dist-packages (1.17.0)\n",
            "Requirement already satisfied: packaging>=21.3 in /usr/local/lib/python3.11/dist-packages (from pytesseract) (25.0)\n",
            "Requirement already satisfied: Pillow>=8.0.0 in /usr/local/lib/python3.11/dist-packages (from pytesseract) (11.2.1)\n"
          ]
        }
      ]
    },
    {
      "cell_type": "code",
      "source": [
        " print(pdf_text[:500])"
      ],
      "metadata": {
        "colab": {
          "base_uri": "https://localhost:8080/"
        },
        "id": "HmcmkHAf_OXs",
        "outputId": "a08fa984-f960-41c8-a053-c0e3a8c8a023"
      },
      "execution_count": 9,
      "outputs": [
        {
          "output_type": "stream",
          "name": "stdout",
          "text": [
            "목                 차\n",
            "사업보고서 제출 기한 연장 신고서.............................................................................................................1\n",
            "사업보고서 제출 기한 연장 신고.................................................................................................................2\n",
            " \n",
            "사업보고서 제출 기한 연장 신고서\n",
            " \n",
            " \n",
            " \n",
            " \n",
            "                                    제 35 기 \n",
            " \n",
            "2024년 01월 01일\n",
            "부터\n",
            "2024년 12월 31일\n",
            "까지\n",
            "금융위원회\n",
            "한국거래소 귀중\n",
            "2025 년  3 월   21 일\n",
            "회      사      명 :\n",
            "대주이엔티 주식회사\n",
            "대   표    이   사 :\n",
            "황광수, 박주봉\n",
            "본  점  소  재  지 :\n",
            "인천 중구\n"
          ]
        }
      ]
    },
    {
      "cell_type": "code",
      "source": [],
      "metadata": {
        "id": "RDYa1ElBAINx"
      },
      "execution_count": 9,
      "outputs": []
    },
    {
      "cell_type": "markdown",
      "source": [
        "# 02. PDF 이슈 => BART 요약 모델 사용\n",
        "\n",
        "PDF라 finBERT 안됨"
      ],
      "metadata": {
        "id": "MzJXQs0sAIsf"
      }
    },
    {
      "cell_type": "code",
      "source": [
        "# STEP 1. 설치\n",
        "!pip install -q PyMuPDF transformers\n",
        "\n",
        "# STEP 2. PDF 텍스트 추출 함수\n",
        "import fitz  # PyMuPDF\n",
        "\n",
        "def extract_text_from_pdf(pdf_path):\n",
        "    text = \"\"\n",
        "    doc = fitz.open(pdf_path)\n",
        "    for page in doc:\n",
        "        text += page.get_text()\n",
        "    return text\n"
      ],
      "metadata": {
        "id": "xLiKSvVl_R6s"
      },
      "execution_count": 10,
      "outputs": []
    },
    {
      "cell_type": "code",
      "source": [
        "# STEP 3. BART 요약 모델 불러오기\n",
        "from transformers import BartTokenizer, BartForConditionalGeneration\n",
        "\n",
        "tokenizer = BartTokenizer.from_pretrained(\"facebook/bart-large-cnn\")\n",
        "model = BartForConditionalGeneration.from_pretrained(\"facebook/bart-large-cnn\")\n"
      ],
      "metadata": {
        "id": "Wt23JgTpADTA"
      },
      "execution_count": 11,
      "outputs": []
    },
    {
      "cell_type": "code",
      "source": [
        "# STEP 4. 요약 함수 정의 (긴 텍스트 분할)\n",
        "def bart_chunked_summarize(text, chunk_size=1000, max_chunks=5):\n",
        "    from transformers import BartTokenizer, BartForConditionalGeneration\n",
        "\n",
        "    # 전처리: 줄바꿈, 점선 제거\n",
        "    clean_text = text.replace('\\n', ' ').replace('·', '.').replace('▪', '-').strip()\n",
        "    sentences = clean_text.split('. ')  # 문장 단위 나누기\n",
        "\n",
        "    # chunk 자르기\n",
        "    chunks = []\n",
        "    chunk = \"\"\n",
        "    for sentence in sentences:\n",
        "        if len(chunk) + len(sentence) < chunk_size:\n",
        "            chunk += sentence + '. '\n",
        "        else:\n",
        "            chunks.append(chunk.strip())\n",
        "            chunk = sentence + '. '\n",
        "        if len(chunks) >= max_chunks:\n",
        "            break\n",
        "    if chunk and len(chunks) < max_chunks:\n",
        "        chunks.append(chunk.strip())\n",
        "\n",
        "    # 각 chunk 요약\n",
        "    summaries = []\n",
        "    for i, c in enumerate(chunks):\n",
        "        inputs = tokenizer([c], max_length=1024, return_tensors='pt', truncation=True)\n",
        "        summary_ids = model.generate(\n",
        "            inputs['input_ids'],\n",
        "            max_length=150,\n",
        "            min_length=40,\n",
        "            length_penalty=2.0,\n",
        "            num_beams=4,\n",
        "            early_stopping=True\n",
        "        )\n",
        "        summary = tokenizer.decode(summary_ids[0], skip_special_tokens=True)\n",
        "        summaries.append(f\"요약 {i+1}: {summary}\")\n",
        "\n",
        "    return '\\n\\n'.join(summaries)\n"
      ],
      "metadata": {
        "id": "d9betDYIADsA"
      },
      "execution_count": 12,
      "outputs": []
    },
    {
      "cell_type": "code",
      "source": [
        "# STEP 5. 경로 지정하고 실행\n",
        "# PDF 경로 입력\n",
        "pdf_path = \"/content/drive/MyDrive/2. 취업 부업/7. SW개발자과정/3. 실전프로젝트/[실전] 재무 관련 데이터_호성 팀/PDF 사업 보고서/강원랜드 사업보고서 (2024.12).pdf\"\n",
        "\n",
        "# 텍스트 추출\n",
        "text = extract_text_from_pdf(pdf_path)\n",
        "print(\"✅ 텍스트 추출 완료, 길이:\", len(text))\n",
        "\n",
        "# 요약 실행\n",
        "if len(text.strip()) < 100:\n",
        "    print(\"⚠️ PDF 내용이 너무 짧습니다. 요약 생략.\")\n",
        "else:\n",
        "    summary = bart_chunked_summarize(text)\n",
        "    print(\"📘 요약 결과:\\n\")\n",
        "    print(summary)\n"
      ],
      "metadata": {
        "colab": {
          "base_uri": "https://localhost:8080/"
        },
        "id": "7fnQVzruADuo",
        "outputId": "aa90fea0-27f1-4356-d074-0133915c7769"
      },
      "execution_count": 13,
      "outputs": [
        {
          "output_type": "stream",
          "name": "stdout",
          "text": [
            "✅ 텍스트 추출 완료, 길이: 334914\n",
            "📘 요약 결과:\n",
            "\n",
            "요약 1: 1. I.   회사의 개요............................................................................................................................................................................................................3 1.        “  고   서......................................................................................................................................4 3. “I.”   “ ” “’”“I’m sorry, I’ve got to go.’ “ “ I. ” I. ‘ ’     “What’s wrong with this picture?”\n",
            "\n",
            "요약 2: 1.     “   ‘ 개요’,   “   ””, “’”  ‘’  ”’ “,” ‘, ” ’, ’’. 2.   ”. “. ”,  ‚”,. “  “,  , ‘.’,.  .  ,. ”. .” , “;. ’. ‘;.‚’ ,  .,  ;.\n",
            "\n",
            "요약 3: 위험    ’관한   ‘’  “”  ’’ ’,  ”’”, ‘,’, “,” ‘;. ”,  ”‘, ”.’,.”. ’.”,.’. ‘.  ’ ‘“’;. ”., “. “;. ”; “:” “,  , ‚”: “., ”,. ”;\n",
            "\n",
            "요약 4: 연 포괄    “  회계”   “” (“ ”)     “  ”” “ ’’ (”’) (‘’ ”) “ “,” ”, ”,’, ‘”.’.”\n",
            "\n",
            "요약 5: 금    “�    ” (   ‘’ (  “”) (“’’) ( “ ” “, ”, ’”,   ’, “.” ) (‘”’), ”“,”  ‚’. “ ” (’'’). ”. ” ’ ’.’ ”,. ‘. ’,. ”., ‘, ‘;. ‘,. ’., “;. '”.\n"
          ]
        }
      ]
    },
    {
      "cell_type": "code",
      "source": [
        "#STEP 6. 전처리\n",
        "\n",
        "def clean_report_text(text):\n",
        "    # 줄바꿈 제거 및 점선 제거\n",
        "    text = text.replace('\\n', ' ')\n",
        "    text = text.replace('..............................................................................................', '')\n",
        "    # 기호 정리\n",
        "    for symbol in ['“', '”', '‘', '’', '•', '▪', '·', '″', \"'\", '\"']:\n",
        "        text = text.replace(symbol, '')\n",
        "    # 여러 공백 제거\n",
        "    import re\n",
        "    text = re.sub(r'\\s+', ' ', text)\n",
        "    return text.strip()\n"
      ],
      "metadata": {
        "id": "C5Df3DxaADw4"
      },
      "execution_count": 14,
      "outputs": []
    },
    {
      "cell_type": "code",
      "source": [
        "#STEP 7. 의미 있는 본문만 추출\n",
        "def extract_meaningful_section(text, keyword=\"개요\"):\n",
        "    start = text.find(keyword)\n",
        "    if start == -1:\n",
        "        return text[:3000]  # 못 찾으면 앞부분 일부라도 사용\n",
        "    else:\n",
        "        return text[start:start+5000]  # 해당 키워드부터 5000자 분량만 사용\n"
      ],
      "metadata": {
        "id": "wivUkgNGADzP"
      },
      "execution_count": 15,
      "outputs": []
    },
    {
      "cell_type": "code",
      "source": [
        "raw_text = extract_text_from_pdf(pdf_path)\n",
        "cleaned = clean_report_text(raw_text)\n",
        "meaningful = extract_meaningful_section(cleaned)\n",
        "summary = bart_chunked_summarize(meaningful, chunk_size=1000, max_chunks=3)\n",
        "print(summary)\n"
      ],
      "metadata": {
        "colab": {
          "base_uri": "https://localhost:8080/"
        },
        "id": "wkW8qV4XAD5P",
        "outputId": "e234ba6e-064e-4b35-fa11-22876940a147"
      },
      "execution_count": 16,
      "outputs": [
        {
          "output_type": "stream",
          "name": "stdout",
          "text": [
            "요약 1: 1.     ‘   회  개  요  1.2. II.  ‘ ’ ‘’   ’’ 1.3. III. ‘.’ 2. “’” 1.4. IV.\n",
            "\n",
            "요약 2: 1.      ‘현급  회계  금  한      ‘‘”’   “’” (“”) (’)’ (‘)” ’’ ””)(’, ‘, ”, ’) ”. ” “ (”),  ”,    “, “.”.\n",
            "\n",
            "요약 3: 기타    ‘‘  ’   ‘’ (‘) (’’) (  ’”) ( ‘,’ ’, ‘), ‘ ’ ‘.’ ) (”’,”, ”‘, “, ’.” ) ( ’), ’,.’ , ‘;’,. ‘,.”,. ’;. ‘,'’.\n"
          ]
        }
      ]
    },
    {
      "cell_type": "code",
      "source": [],
      "metadata": {
        "id": "9lwixRUoCD47"
      },
      "execution_count": 16,
      "outputs": []
    },
    {
      "cell_type": "markdown",
      "source": [
        "# 03. GPT API를 활용한 자동화 파이프라인"
      ],
      "metadata": {
        "id": "BST1B6mqDtr1"
      }
    },
    {
      "cell_type": "code",
      "source": [
        "# ✅ 최신 OpenAI SDK (v1.x) 기준 PDF 다중 요약 자동화 코드\n",
        "# - GPT-3.5-turbo 사용\n",
        "# - 사업 보고서의 핵심 내용을 약 10줄 이내로 요약\n",
        "\n",
        "import os\n",
        "import fitz  # PyMuPDF\n",
        "from tqdm import tqdm\n",
        "import openai\n",
        "\n",
        "# ✅ OpenAI 클라이언트 설정 (v1.x 문법)\n",
        "client = openai.OpenAI(api_key=\"\")  # 여기에 본인의 API 키 입력\n",
        "\n",
        "# ✅ PDF 텍스트 추출 함수\n",
        "def extract_text(pdf_path):\n",
        "    text = \"\"\n",
        "    doc = fitz.open(pdf_path)\n",
        "    for page in doc:\n",
        "        text += page.get_text()\n",
        "    return text\n",
        "\n",
        "# ✅ 텍스트 전처리 (줄바꿈 제거, 기호 정리 등)\n",
        "def clean_text(text):\n",
        "    import re\n",
        "    text = text.replace('\\n', ' ')\n",
        "    text = re.sub(r'[“”‘’•▪·″]', '', text)\n",
        "    text = re.sub(r'\\s+', ' ', text)\n",
        "    return text.strip()\n",
        "\n",
        "# ✅ 사업 개요 위주 텍스트 일부만 추출\n",
        "def extract_section(text, keyword=\"II. 사업의 내용\"):\n",
        "    start = text.find(keyword)\n",
        "    return text[start:start+5000] if start != -1 else text[:3000]\n",
        "\n",
        "# ✅ GPT 요약 함수 (최신 버전)\n",
        "def gpt_summary(prompt):\n",
        "    response = client.chat.completions.create(\n",
        "        model=\"gpt-3.5-turbo\",\n",
        "        messages=[\n",
        "            {\"role\": \"user\", \"content\": prompt}\n",
        "        ],\n",
        "        temperature=0.3,\n",
        "    )\n",
        "    return response.choices[0].message.content\n",
        "\n",
        "# ✅ PDF 하나 요약 실행 함수\n",
        "def summarize_file(pdf_path):\n",
        "    text = extract_text(pdf_path)\n",
        "    cleaned = clean_text(text)\n",
        "    section = extract_section(cleaned)\n",
        "    prompt = f\"다음은 사업보고서의 핵심 내용입니다. 약 10줄 이내로 요약해 주세요:\\n\\n{section}\"\n",
        "    return gpt_summary(prompt)\n",
        "\n",
        "# ✅ 폴더 내 max_files 개수만큼 PDF 순회 요약 실행\n",
        "def batch_summarize(input_dir, output_dir, max_files=20):\n",
        "    os.makedirs(output_dir, exist_ok=True)\n",
        "    files = [f for f in os.listdir(input_dir) if f.endswith(\".pdf\")][:max_files]  # ✨ 앞에서 20개만\n",
        "\n",
        "    for pdf_file in tqdm(files):\n",
        "        pdf_path = os.path.join(input_dir, pdf_file)\n",
        "        try:\n",
        "            summary = summarize_file(pdf_path)\n",
        "            with open(os.path.join(output_dir, pdf_file.replace(\".pdf\", \".txt\")), \"w\") as f:\n",
        "                f.write(summary)\n",
        "        except Exception as e:\n",
        "            print(f\"❌ 오류 발생: {pdf_file} - {e}\")\n",
        "\n",
        "# ✅ 실행 예시 (경로만 본인 환경에 맞게 수정)\n",
        "input_dir = \"/content/drive/MyDrive/2. 취업 부업/7. SW개발자과정/3. 실전프로젝트/[실전] 재무 관련 데이터_호성 팀/PDF 사업 보고서\"\n",
        "output_dir = \"/content/drive/MyDrive/2. 취업 부업/7. SW개발자과정/3. 실전프로젝트/[실전] 재무 관련 데이터_호성 팀/0722_PDF summaries\"\n",
        "batch_summarize(input_dir, output_dir)"
      ],
      "metadata": {
        "colab": {
          "base_uri": "https://localhost:8080/"
        },
        "id": "CXCgRpv8DyYG",
        "outputId": "0094dd92-49df-4bea-824b-74b2684e72e0"
      },
      "execution_count": 17,
      "outputs": [
        {
          "output_type": "stream",
          "name": "stderr",
          "text": [
            "  5%|▌         | 1/20 [00:02<00:46,  2.47s/it]"
          ]
        },
        {
          "output_type": "stream",
          "name": "stdout",
          "text": [
            "❌ 오류 발생: 대주이엔티 사업보고서제출기한연장신고서 (2024.12).pdf - Error code: 429 - {'error': {'message': 'You exceeded your current quota, please check your plan and billing details. For more information on this error, read the docs: https://platform.openai.com/docs/guides/error-codes/api-errors.', 'type': 'insufficient_quota', 'param': None, 'code': 'insufficient_quota'}}\n"
          ]
        },
        {
          "output_type": "stream",
          "name": "stderr",
          "text": [
            "\r 10%|█         | 2/20 [00:04<00:41,  2.30s/it]"
          ]
        },
        {
          "output_type": "stream",
          "name": "stdout",
          "text": [
            "❌ 오류 발생: 더테크놀로지 사업보고서제출기한연장신고서 (2024.12).pdf - Error code: 429 - {'error': {'message': 'You exceeded your current quota, please check your plan and billing details. For more information on this error, read the docs: https://platform.openai.com/docs/guides/error-codes/api-errors.', 'type': 'insufficient_quota', 'param': None, 'code': 'insufficient_quota'}}\n"
          ]
        },
        {
          "output_type": "stream",
          "name": "stderr",
          "text": [
            "\r 15%|█▌        | 3/20 [00:06<00:39,  2.30s/it]"
          ]
        },
        {
          "output_type": "stream",
          "name": "stdout",
          "text": [
            "❌ 오류 발생: 씨앗 사업보고서제출기한연장신고서 (2024.12).pdf - Error code: 429 - {'error': {'message': 'You exceeded your current quota, please check your plan and billing details. For more information on this error, read the docs: https://platform.openai.com/docs/guides/error-codes/api-errors.', 'type': 'insufficient_quota', 'param': None, 'code': 'insufficient_quota'}}\n"
          ]
        },
        {
          "output_type": "stream",
          "name": "stderr",
          "text": [
            "\r 20%|██        | 4/20 [00:09<00:37,  2.32s/it]"
          ]
        },
        {
          "output_type": "stream",
          "name": "stdout",
          "text": [
            "❌ 오류 발생: 동성제약 사업보고서 (2024.12).pdf - Error code: 429 - {'error': {'message': 'You exceeded your current quota, please check your plan and billing details. For more information on this error, read the docs: https://platform.openai.com/docs/guides/error-codes/api-errors.', 'type': 'insufficient_quota', 'param': None, 'code': 'insufficient_quota'}}\n"
          ]
        },
        {
          "output_type": "stream",
          "name": "stderr",
          "text": [
            "\r 25%|██▌       | 5/20 [00:11<00:34,  2.32s/it]"
          ]
        },
        {
          "output_type": "stream",
          "name": "stdout",
          "text": [
            "❌ 오류 발생: 광동헬스바이오 사업보고서 (2024.12).pdf - Error code: 429 - {'error': {'message': 'You exceeded your current quota, please check your plan and billing details. For more information on this error, read the docs: https://platform.openai.com/docs/guides/error-codes/api-errors.', 'type': 'insufficient_quota', 'param': None, 'code': 'insufficient_quota'}}\n"
          ]
        },
        {
          "output_type": "stream",
          "name": "stderr",
          "text": [
            "\r 30%|███       | 6/20 [00:13<00:32,  2.30s/it]"
          ]
        },
        {
          "output_type": "stream",
          "name": "stdout",
          "text": [
            "❌ 오류 발생: 바이오텐 사업보고서 (2024.12).pdf - Error code: 429 - {'error': {'message': 'You exceeded your current quota, please check your plan and billing details. For more information on this error, read the docs: https://platform.openai.com/docs/guides/error-codes/api-errors.', 'type': 'insufficient_quota', 'param': None, 'code': 'insufficient_quota'}}\n"
          ]
        },
        {
          "output_type": "stream",
          "name": "stderr",
          "text": [
            "\r 35%|███▌      | 7/20 [00:16<00:29,  2.26s/it]"
          ]
        },
        {
          "output_type": "stream",
          "name": "stdout",
          "text": [
            "❌ 오류 발생: KB제30호스팩 사업보고서 (2024.12).pdf - Error code: 429 - {'error': {'message': 'You exceeded your current quota, please check your plan and billing details. For more information on this error, read the docs: https://platform.openai.com/docs/guides/error-codes/api-errors.', 'type': 'insufficient_quota', 'param': None, 'code': 'insufficient_quota'}}\n"
          ]
        },
        {
          "output_type": "stream",
          "name": "stderr",
          "text": [
            "\r 40%|████      | 8/20 [00:18<00:27,  2.30s/it]"
          ]
        },
        {
          "output_type": "stream",
          "name": "stdout",
          "text": [
            "❌ 오류 발생: 진도 [기재정정]사업보고서 (2024.12).pdf - Error code: 429 - {'error': {'message': 'You exceeded your current quota, please check your plan and billing details. For more information on this error, read the docs: https://platform.openai.com/docs/guides/error-codes/api-errors.', 'type': 'insufficient_quota', 'param': None, 'code': 'insufficient_quota'}}\n"
          ]
        },
        {
          "output_type": "stream",
          "name": "stderr",
          "text": [
            "\r 45%|████▌     | 9/20 [00:20<00:25,  2.29s/it]"
          ]
        },
        {
          "output_type": "stream",
          "name": "stdout",
          "text": [
            "❌ 오류 발생: 대한약품 사업보고서 (2024.12).pdf - Error code: 429 - {'error': {'message': 'You exceeded your current quota, please check your plan and billing details. For more information on this error, read the docs: https://platform.openai.com/docs/guides/error-codes/api-errors.', 'type': 'insufficient_quota', 'param': None, 'code': 'insufficient_quota'}}\n"
          ]
        },
        {
          "output_type": "stream",
          "name": "stderr",
          "text": [
            "\r 50%|█████     | 10/20 [00:23<00:23,  2.37s/it]"
          ]
        },
        {
          "output_type": "stream",
          "name": "stdout",
          "text": [
            "❌ 오류 발생: 이렘 사업보고서 (2024.12).pdf - Error code: 429 - {'error': {'message': 'You exceeded your current quota, please check your plan and billing details. For more information on this error, read the docs: https://platform.openai.com/docs/guides/error-codes/api-errors.', 'type': 'insufficient_quota', 'param': None, 'code': 'insufficient_quota'}}\n"
          ]
        },
        {
          "output_type": "stream",
          "name": "stderr",
          "text": [
            "\r 55%|█████▌    | 11/20 [00:25<00:21,  2.34s/it]"
          ]
        },
        {
          "output_type": "stream",
          "name": "stdout",
          "text": [
            "❌ 오류 발생: 이엠텍 사업보고서 (2024.12).pdf - Error code: 429 - {'error': {'message': 'You exceeded your current quota, please check your plan and billing details. For more information on this error, read the docs: https://platform.openai.com/docs/guides/error-codes/api-errors.', 'type': 'insufficient_quota', 'param': None, 'code': 'insufficient_quota'}}\n"
          ]
        },
        {
          "output_type": "stream",
          "name": "stderr",
          "text": [
            "\r 60%|██████    | 12/20 [00:27<00:18,  2.31s/it]"
          ]
        },
        {
          "output_type": "stream",
          "name": "stdout",
          "text": [
            "❌ 오류 발생: 영림원소프트랩 사업보고서 (2024.12).pdf - Error code: 429 - {'error': {'message': 'You exceeded your current quota, please check your plan and billing details. For more information on this error, read the docs: https://platform.openai.com/docs/guides/error-codes/api-errors.', 'type': 'insufficient_quota', 'param': None, 'code': 'insufficient_quota'}}\n"
          ]
        },
        {
          "output_type": "stream",
          "name": "stderr",
          "text": [
            "\r 65%|██████▌   | 13/20 [00:30<00:16,  2.38s/it]"
          ]
        },
        {
          "output_type": "stream",
          "name": "stdout",
          "text": [
            "❌ 오류 발생: 한솔로지스틱스 사업보고서 (2024.12).pdf - Error code: 429 - {'error': {'message': 'You exceeded your current quota, please check your plan and billing details. For more information on this error, read the docs: https://platform.openai.com/docs/guides/error-codes/api-errors.', 'type': 'insufficient_quota', 'param': None, 'code': 'insufficient_quota'}}\n"
          ]
        },
        {
          "output_type": "stream",
          "name": "stderr",
          "text": [
            "\r 70%|███████   | 14/20 [00:32<00:14,  2.35s/it]"
          ]
        },
        {
          "output_type": "stream",
          "name": "stdout",
          "text": [
            "❌ 오류 발생: 안국약품 사업보고서 (2024.12).pdf - Error code: 429 - {'error': {'message': 'You exceeded your current quota, please check your plan and billing details. For more information on this error, read the docs: https://platform.openai.com/docs/guides/error-codes/api-errors.', 'type': 'insufficient_quota', 'param': None, 'code': 'insufficient_quota'}}\n"
          ]
        },
        {
          "output_type": "stream",
          "name": "stderr",
          "text": [
            "\r 75%|███████▌  | 15/20 [00:34<00:11,  2.29s/it]"
          ]
        },
        {
          "output_type": "stream",
          "name": "stdout",
          "text": [
            "❌ 오류 발생: 삼부토건 사업보고서제출기한연장신고서 (2024.12).pdf - Error code: 429 - {'error': {'message': 'You exceeded your current quota, please check your plan and billing details. For more information on this error, read the docs: https://platform.openai.com/docs/guides/error-codes/api-errors.', 'type': 'insufficient_quota', 'param': None, 'code': 'insufficient_quota'}}\n"
          ]
        },
        {
          "output_type": "stream",
          "name": "stderr",
          "text": [
            "\r 80%|████████  | 16/20 [00:37<00:09,  2.34s/it]"
          ]
        },
        {
          "output_type": "stream",
          "name": "stdout",
          "text": [
            "❌ 오류 발생: 서울바이오시스 사업보고서 (2024.12).pdf - Error code: 429 - {'error': {'message': 'You exceeded your current quota, please check your plan and billing details. For more information on this error, read the docs: https://platform.openai.com/docs/guides/error-codes/api-errors.', 'type': 'insufficient_quota', 'param': None, 'code': 'insufficient_quota'}}\n"
          ]
        },
        {
          "output_type": "stream",
          "name": "stderr",
          "text": [
            "\r 85%|████████▌ | 17/20 [00:39<00:06,  2.30s/it]"
          ]
        },
        {
          "output_type": "stream",
          "name": "stdout",
          "text": [
            "❌ 오류 발생: 세토피아 사업보고서제출기한연장신고서 (2024.12).pdf - Error code: 429 - {'error': {'message': 'You exceeded your current quota, please check your plan and billing details. For more information on this error, read the docs: https://platform.openai.com/docs/guides/error-codes/api-errors.', 'type': 'insufficient_quota', 'param': None, 'code': 'insufficient_quota'}}\n"
          ]
        },
        {
          "output_type": "stream",
          "name": "stderr",
          "text": [
            "\r 90%|█████████ | 18/20 [00:41<00:04,  2.35s/it]"
          ]
        },
        {
          "output_type": "stream",
          "name": "stdout",
          "text": [
            "❌ 오류 발생: 선샤인푸드 사업보고서 (2024.12).pdf - Error code: 429 - {'error': {'message': 'You exceeded your current quota, please check your plan and billing details. For more information on this error, read the docs: https://platform.openai.com/docs/guides/error-codes/api-errors.', 'type': 'insufficient_quota', 'param': None, 'code': 'insufficient_quota'}}\n"
          ]
        },
        {
          "output_type": "stream",
          "name": "stderr",
          "text": [
            "\r 95%|█████████▌| 19/20 [00:44<00:02,  2.33s/it]"
          ]
        },
        {
          "output_type": "stream",
          "name": "stdout",
          "text": [
            "❌ 오류 발생: SBI인베스트먼트 사업보고서 (2024.12).pdf - Error code: 429 - {'error': {'message': 'You exceeded your current quota, please check your plan and billing details. For more information on this error, read the docs: https://platform.openai.com/docs/guides/error-codes/api-errors.', 'type': 'insufficient_quota', 'param': None, 'code': 'insufficient_quota'}}\n"
          ]
        },
        {
          "output_type": "stream",
          "name": "stderr",
          "text": [
            "100%|██████████| 20/20 [00:46<00:00,  2.33s/it]"
          ]
        },
        {
          "output_type": "stream",
          "name": "stdout",
          "text": [
            "❌ 오류 발생: 유안타제12호스팩 사업보고서 (2024.12).pdf - Error code: 429 - {'error': {'message': 'You exceeded your current quota, please check your plan and billing details. For more information on this error, read the docs: https://platform.openai.com/docs/guides/error-codes/api-errors.', 'type': 'insufficient_quota', 'param': None, 'code': 'insufficient_quota'}}\n"
          ]
        },
        {
          "output_type": "stream",
          "name": "stderr",
          "text": [
            "\n"
          ]
        }
      ]
    },
    {
      "cell_type": "code",
      "source": [],
      "metadata": {
        "id": "1vELFlBiDz2a"
      },
      "execution_count": 17,
      "outputs": []
    },
    {
      "cell_type": "code",
      "source": [],
      "metadata": {
        "id": "Zf8kPhDBG1WA"
      },
      "execution_count": 17,
      "outputs": []
    },
    {
      "cell_type": "markdown",
      "source": [
        "# KoBART Summarization"
      ],
      "metadata": {
        "id": "EogwM4gSJMXV"
      }
    },
    {
      "cell_type": "markdown",
      "source": [
        "- 모델명: digit82/kobart-summarization\n",
        "\n",
        "- 장점:\n",
        "\n",
        "  - 문서형 긴 텍스트도 요약 가능\n",
        "\n",
        "  - HuggingFace 기반이므로 로컬 또는 Colab에서도 사용 가능\n",
        "\n",
        "  - 한국어 학습 최적화됨 (AIHub 뉴스 요약 데이터 기반)"
      ],
      "metadata": {
        "id": "4mZ7Y2g9Nk8S"
      }
    },
    {
      "cell_type": "code",
      "source": [
        "#1. 필요한 패키지 설치\n",
        "\n",
        "!pip install transformers\n",
        "!pip install torch\n",
        "!pip install sentencepiece\n",
        "!pip install pdfplumber\n",
        "!pip install transformers sentencepiece\n"
      ],
      "metadata": {
        "colab": {
          "base_uri": "https://localhost:8080/"
        },
        "id": "QGD43QDCG5fS",
        "outputId": "7260378e-2b97-49a6-e66f-55e8deabbf76"
      },
      "execution_count": 18,
      "outputs": [
        {
          "output_type": "stream",
          "name": "stdout",
          "text": [
            "Requirement already satisfied: transformers in /usr/local/lib/python3.11/dist-packages (4.53.2)\n",
            "Requirement already satisfied: filelock in /usr/local/lib/python3.11/dist-packages (from transformers) (3.18.0)\n",
            "Requirement already satisfied: huggingface-hub<1.0,>=0.30.0 in /usr/local/lib/python3.11/dist-packages (from transformers) (0.33.4)\n",
            "Requirement already satisfied: numpy>=1.17 in /usr/local/lib/python3.11/dist-packages (from transformers) (2.0.2)\n",
            "Requirement already satisfied: packaging>=20.0 in /usr/local/lib/python3.11/dist-packages (from transformers) (25.0)\n",
            "Requirement already satisfied: pyyaml>=5.1 in /usr/local/lib/python3.11/dist-packages (from transformers) (6.0.2)\n",
            "Requirement already satisfied: regex!=2019.12.17 in /usr/local/lib/python3.11/dist-packages (from transformers) (2024.11.6)\n",
            "Requirement already satisfied: requests in /usr/local/lib/python3.11/dist-packages (from transformers) (2.32.3)\n",
            "Requirement already satisfied: tokenizers<0.22,>=0.21 in /usr/local/lib/python3.11/dist-packages (from transformers) (0.21.2)\n",
            "Requirement already satisfied: safetensors>=0.4.3 in /usr/local/lib/python3.11/dist-packages (from transformers) (0.5.3)\n",
            "Requirement already satisfied: tqdm>=4.27 in /usr/local/lib/python3.11/dist-packages (from transformers) (4.67.1)\n",
            "Requirement already satisfied: fsspec>=2023.5.0 in /usr/local/lib/python3.11/dist-packages (from huggingface-hub<1.0,>=0.30.0->transformers) (2025.3.2)\n",
            "Requirement already satisfied: typing-extensions>=3.7.4.3 in /usr/local/lib/python3.11/dist-packages (from huggingface-hub<1.0,>=0.30.0->transformers) (4.14.1)\n",
            "Requirement already satisfied: hf-xet<2.0.0,>=1.1.2 in /usr/local/lib/python3.11/dist-packages (from huggingface-hub<1.0,>=0.30.0->transformers) (1.1.5)\n",
            "Requirement already satisfied: charset-normalizer<4,>=2 in /usr/local/lib/python3.11/dist-packages (from requests->transformers) (3.4.2)\n",
            "Requirement already satisfied: idna<4,>=2.5 in /usr/local/lib/python3.11/dist-packages (from requests->transformers) (3.10)\n",
            "Requirement already satisfied: urllib3<3,>=1.21.1 in /usr/local/lib/python3.11/dist-packages (from requests->transformers) (2.4.0)\n",
            "Requirement already satisfied: certifi>=2017.4.17 in /usr/local/lib/python3.11/dist-packages (from requests->transformers) (2025.7.14)\n",
            "Requirement already satisfied: torch in /usr/local/lib/python3.11/dist-packages (2.6.0+cu124)\n",
            "Requirement already satisfied: filelock in /usr/local/lib/python3.11/dist-packages (from torch) (3.18.0)\n",
            "Requirement already satisfied: typing-extensions>=4.10.0 in /usr/local/lib/python3.11/dist-packages (from torch) (4.14.1)\n",
            "Requirement already satisfied: networkx in /usr/local/lib/python3.11/dist-packages (from torch) (3.5)\n",
            "Requirement already satisfied: jinja2 in /usr/local/lib/python3.11/dist-packages (from torch) (3.1.6)\n",
            "Requirement already satisfied: fsspec in /usr/local/lib/python3.11/dist-packages (from torch) (2025.3.2)\n",
            "Requirement already satisfied: nvidia-cuda-nvrtc-cu12==12.4.127 in /usr/local/lib/python3.11/dist-packages (from torch) (12.4.127)\n",
            "Requirement already satisfied: nvidia-cuda-runtime-cu12==12.4.127 in /usr/local/lib/python3.11/dist-packages (from torch) (12.4.127)\n",
            "Requirement already satisfied: nvidia-cuda-cupti-cu12==12.4.127 in /usr/local/lib/python3.11/dist-packages (from torch) (12.4.127)\n",
            "Requirement already satisfied: nvidia-cudnn-cu12==9.1.0.70 in /usr/local/lib/python3.11/dist-packages (from torch) (9.1.0.70)\n",
            "Requirement already satisfied: nvidia-cublas-cu12==12.4.5.8 in /usr/local/lib/python3.11/dist-packages (from torch) (12.4.5.8)\n",
            "Requirement already satisfied: nvidia-cufft-cu12==11.2.1.3 in /usr/local/lib/python3.11/dist-packages (from torch) (11.2.1.3)\n",
            "Requirement already satisfied: nvidia-curand-cu12==10.3.5.147 in /usr/local/lib/python3.11/dist-packages (from torch) (10.3.5.147)\n",
            "Requirement already satisfied: nvidia-cusolver-cu12==11.6.1.9 in /usr/local/lib/python3.11/dist-packages (from torch) (11.6.1.9)\n",
            "Requirement already satisfied: nvidia-cusparse-cu12==12.3.1.170 in /usr/local/lib/python3.11/dist-packages (from torch) (12.3.1.170)\n",
            "Requirement already satisfied: nvidia-cusparselt-cu12==0.6.2 in /usr/local/lib/python3.11/dist-packages (from torch) (0.6.2)\n",
            "Requirement already satisfied: nvidia-nccl-cu12==2.21.5 in /usr/local/lib/python3.11/dist-packages (from torch) (2.21.5)\n",
            "Requirement already satisfied: nvidia-nvtx-cu12==12.4.127 in /usr/local/lib/python3.11/dist-packages (from torch) (12.4.127)\n",
            "Requirement already satisfied: nvidia-nvjitlink-cu12==12.4.127 in /usr/local/lib/python3.11/dist-packages (from torch) (12.4.127)\n",
            "Requirement already satisfied: triton==3.2.0 in /usr/local/lib/python3.11/dist-packages (from torch) (3.2.0)\n",
            "Requirement already satisfied: sympy==1.13.1 in /usr/local/lib/python3.11/dist-packages (from torch) (1.13.1)\n",
            "Requirement already satisfied: mpmath<1.4,>=1.1.0 in /usr/local/lib/python3.11/dist-packages (from sympy==1.13.1->torch) (1.3.0)\n",
            "Requirement already satisfied: MarkupSafe>=2.0 in /usr/local/lib/python3.11/dist-packages (from jinja2->torch) (3.0.2)\n",
            "Requirement already satisfied: sentencepiece in /usr/local/lib/python3.11/dist-packages (0.2.0)\n"
          ]
        }
      ]
    },
    {
      "cell_type": "code",
      "source": [],
      "metadata": {
        "colab": {
          "base_uri": "https://localhost:8080/"
        },
        "id": "tRvXVtMnG83W",
        "outputId": "344dd0ea-5008-4ee2-c86b-b66120e11740"
      },
      "execution_count": 19,
      "outputs": [
        {
          "output_type": "stream",
          "name": "stdout",
          "text": [
            "Requirement already satisfied: pdfplumber in /usr/local/lib/python3.11/dist-packages (0.11.7)\n",
            "Requirement already satisfied: pdfminer.six==20250506 in /usr/local/lib/python3.11/dist-packages (from pdfplumber) (20250506)\n",
            "Requirement already satisfied: Pillow>=9.1 in /usr/local/lib/python3.11/dist-packages (from pdfplumber) (11.2.1)\n",
            "Requirement already satisfied: pypdfium2>=4.18.0 in /usr/local/lib/python3.11/dist-packages (from pdfplumber) (4.30.0)\n",
            "Requirement already satisfied: charset-normalizer>=2.0.0 in /usr/local/lib/python3.11/dist-packages (from pdfminer.six==20250506->pdfplumber) (3.4.2)\n",
            "Requirement already satisfied: cryptography>=36.0.0 in /usr/local/lib/python3.11/dist-packages (from pdfminer.six==20250506->pdfplumber) (43.0.3)\n",
            "Requirement already satisfied: cffi>=1.12 in /usr/local/lib/python3.11/dist-packages (from cryptography>=36.0.0->pdfminer.six==20250506->pdfplumber) (1.17.1)\n",
            "Requirement already satisfied: pycparser in /usr/local/lib/python3.11/dist-packages (from cffi>=1.12->cryptography>=36.0.0->pdfminer.six==20250506->pdfplumber) (2.22)\n",
            "Requirement already satisfied: transformers in /usr/local/lib/python3.11/dist-packages (4.53.2)\n",
            "Requirement already satisfied: sentencepiece in /usr/local/lib/python3.11/dist-packages (0.2.0)\n",
            "Requirement already satisfied: filelock in /usr/local/lib/python3.11/dist-packages (from transformers) (3.18.0)\n",
            "Requirement already satisfied: huggingface-hub<1.0,>=0.30.0 in /usr/local/lib/python3.11/dist-packages (from transformers) (0.33.4)\n",
            "Requirement already satisfied: numpy>=1.17 in /usr/local/lib/python3.11/dist-packages (from transformers) (2.0.2)\n",
            "Requirement already satisfied: packaging>=20.0 in /usr/local/lib/python3.11/dist-packages (from transformers) (25.0)\n",
            "Requirement already satisfied: pyyaml>=5.1 in /usr/local/lib/python3.11/dist-packages (from transformers) (6.0.2)\n",
            "Requirement already satisfied: regex!=2019.12.17 in /usr/local/lib/python3.11/dist-packages (from transformers) (2024.11.6)\n",
            "Requirement already satisfied: requests in /usr/local/lib/python3.11/dist-packages (from transformers) (2.32.3)\n",
            "Requirement already satisfied: tokenizers<0.22,>=0.21 in /usr/local/lib/python3.11/dist-packages (from transformers) (0.21.2)\n",
            "Requirement already satisfied: safetensors>=0.4.3 in /usr/local/lib/python3.11/dist-packages (from transformers) (0.5.3)\n",
            "Requirement already satisfied: tqdm>=4.27 in /usr/local/lib/python3.11/dist-packages (from transformers) (4.67.1)\n",
            "Requirement already satisfied: fsspec>=2023.5.0 in /usr/local/lib/python3.11/dist-packages (from huggingface-hub<1.0,>=0.30.0->transformers) (2025.3.2)\n",
            "Requirement already satisfied: typing-extensions>=3.7.4.3 in /usr/local/lib/python3.11/dist-packages (from huggingface-hub<1.0,>=0.30.0->transformers) (4.14.1)\n",
            "Requirement already satisfied: hf-xet<2.0.0,>=1.1.2 in /usr/local/lib/python3.11/dist-packages (from huggingface-hub<1.0,>=0.30.0->transformers) (1.1.5)\n",
            "Requirement already satisfied: charset-normalizer<4,>=2 in /usr/local/lib/python3.11/dist-packages (from requests->transformers) (3.4.2)\n",
            "Requirement already satisfied: idna<4,>=2.5 in /usr/local/lib/python3.11/dist-packages (from requests->transformers) (3.10)\n",
            "Requirement already satisfied: urllib3<3,>=1.21.1 in /usr/local/lib/python3.11/dist-packages (from requests->transformers) (2.4.0)\n",
            "Requirement already satisfied: certifi>=2017.4.17 in /usr/local/lib/python3.11/dist-packages (from requests->transformers) (2025.7.14)\n"
          ]
        }
      ]
    },
    {
      "cell_type": "code",
      "source": [
        "# 2. Google Drive 연동 및 PDF 텍스트 추출\n",
        "\n",
        "import pdfplumber\n",
        "from google.colab import drive\n",
        "\n",
        "# 구글 드라이브 마운트\n",
        "drive.mount('/content/drive')\n",
        "\n",
        "# PDF 경로\n",
        "pdf_path = \"/content/drive/MyDrive/2. 취업 부업/7. SW개발자과정/3. 실전프로젝트/[실전] 재무 관련 데이터_호성 팀/PDF 사업 보고서/강원랜드 사업보고서 (2024.12).pdf\"\n",
        "\n",
        "# 텍스트 추출\n",
        "all_text = \"\"\n",
        "with pdfplumber.open(pdf_path) as pdf:\n",
        "    for page in pdf.pages:\n",
        "        all_text += page.extract_text() + \"\\n\"\n",
        "\n",
        "print(\"✅ 텍스트 추출 완료. 전체 길이:\", len(all_text))\n"
      ],
      "metadata": {
        "colab": {
          "base_uri": "https://localhost:8080/"
        },
        "id": "AeyHPuuuN5oq",
        "outputId": "fea7ffd9-cc96-4b27-f249-70a2749b63da"
      },
      "execution_count": 20,
      "outputs": [
        {
          "output_type": "stream",
          "name": "stdout",
          "text": [
            "Drive already mounted at /content/drive; to attempt to forcibly remount, call drive.mount(\"/content/drive\", force_remount=True).\n",
            "✅ 텍스트 추출 완료. 전체 길이: 326924\n"
          ]
        }
      ]
    },
    {
      "cell_type": "code",
      "source": [
        "# 3. KoBART 요약 모델 로딩\n",
        "\n",
        "from transformers import BartForConditionalGeneration, PreTrainedTokenizerFast\n",
        "\n",
        "model = BartForConditionalGeneration.from_pretrained('digit82/kobart-summarization')\n",
        "tokenizer = PreTrainedTokenizerFast.from_pretrained('digit82/kobart-summarization')\n"
      ],
      "metadata": {
        "colab": {
          "base_uri": "https://localhost:8080/"
        },
        "id": "S6cKynveN7UY",
        "outputId": "39f20e16-327e-4fce-8c50-644e18d0ea44"
      },
      "execution_count": 21,
      "outputs": [
        {
          "output_type": "stream",
          "name": "stderr",
          "text": [
            "You passed along `num_labels=3` with an incompatible id to label map: {'0': 'NEGATIVE', '1': 'POSITIVE'}. The number of labels will be overwritten to 2.\n"
          ]
        }
      ]
    },
    {
      "cell_type": "code",
      "source": [],
      "metadata": {
        "id": "tl2WFWrOOPZP"
      },
      "execution_count": null,
      "outputs": []
    },
    {
      "cell_type": "code",
      "source": [
        "# 4. 슬라이딩 윈도우 방식 요약 실행\n",
        "\n",
        "import re\n",
        "\n",
        "# 전처리: 공백 정리\n",
        "clean_text = re.sub(r'\\s+', ' ', all_text)\n",
        "\n",
        "# 슬라이딩 윈도우 요약\n",
        "window_size = 3000\n",
        "step_size = 2500\n",
        "summaries = []\n",
        "\n",
        "for i in range(0, len(clean_text), step_size):\n",
        "    chunk = clean_text[i:i+window_size]\n",
        "    input_ids = tokenizer.encode(chunk, return_tensors='pt', max_length=1024, truncation=True)\n",
        "    summary_ids = model.generate(input_ids, max_length=200, min_length=60, length_penalty=2.0, num_beams=4, early_stopping=True)\n",
        "    summary_text = tokenizer.decode(summary_ids[0], skip_special_tokens=True)\n",
        "    summaries.append(summary_text)\n",
        "    print(f\"🔹 {i//step_size + 1}번째 요약 완료\")\n",
        "\n",
        "# 전체 요약 연결\n",
        "final_summary = \"\\n\\n\".join(summaries)\n",
        "print(\"📘 전체 종합 요약 결과:\\n\")\n",
        "print(final_summary)\n"
      ],
      "metadata": {
        "id": "P4JpltcnN7hH"
      },
      "execution_count": 22,
      "outputs": []
    },
    {
      "cell_type": "code",
      "source": [],
      "metadata": {
        "id": "GUXhCnxnN7jW"
      },
      "execution_count": 22,
      "outputs": []
    },
    {
      "cell_type": "code",
      "source": [],
      "metadata": {
        "id": "lXt_SnS5N7le"
      },
      "execution_count": 22,
      "outputs": []
    },
    {
      "cell_type": "code",
      "source": [],
      "metadata": {
        "id": "1vcLkZavN7nd"
      },
      "execution_count": 22,
      "outputs": []
    },
    {
      "cell_type": "code",
      "source": [],
      "metadata": {
        "id": "9o574q-RN7pg"
      },
      "execution_count": 22,
      "outputs": []
    },
    {
      "cell_type": "code",
      "source": [],
      "metadata": {
        "id": "1aatwQEQN7rQ"
      },
      "execution_count": 22,
      "outputs": []
    }
  ]
}
