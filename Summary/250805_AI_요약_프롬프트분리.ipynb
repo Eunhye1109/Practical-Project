{
  "nbformat": 4,
  "nbformat_minor": 0,
  "metadata": {
    "colab": {
      "provenance": []
    },
    "kernelspec": {
      "name": "python3",
      "display_name": "Python 3"
    },
    "language_info": {
      "name": "python"
    }
  },
  "cells": [
    {
      "cell_type": "code",
      "source": [
        "# ✅ 1. gpt_prompts.py 불러오기\n",
        "import importlib.util\n",
        "import sys\n"
      ],
      "metadata": {
        "id": "PwopiYV_Ih__"
      },
      "execution_count": 5,
      "outputs": []
    },
    {
      "cell_type": "markdown",
      "source": [],
      "metadata": {
        "id": "OmikiuDfJpfu"
      }
    },
    {
      "cell_type": "code",
      "execution_count": 9,
      "metadata": {
        "id": "Sp0TDar4GXq3",
        "colab": {
          "base_uri": "https://localhost:8080/"
        },
        "outputId": "d120963b-e384-4282-c79e-7babee4159cd"
      },
      "outputs": [
        {
          "output_type": "stream",
          "name": "stdout",
          "text": [
            "✅ 250805_gpt_prompts 모듈 로딩 성공\n"
          ]
        }
      ],
      "source": [
        "\n",
        "def load_prompt_module():\n",
        "    prompt_module_path = \"/content/drive/MyDrive/250805_gpt_prompts.py\"  # 코랩에서 파일 업로드 경로\n",
        "    spec = importlib.util.spec_from_file_location(\"gpt_prompts\", prompt_module_path)\n",
        "    module = importlib.util.module_from_spec(spec)\n",
        "    sys.modules[\"gpt_prompts\"] = module\n",
        "    spec.loader.exec_module(module)\n",
        "    return module\n",
        "\n",
        "# 모듈 불러오기\n",
        "prompt_module = load_prompt_module()\n",
        "build_summary_prompt = prompt_module.build_summary_prompt\n",
        "build_news_summary_prompt = prompt_module.build_news_summary_prompt\n",
        "\n",
        "print(\"✅ 250805_gpt_prompts 모듈 로딩 성공\")"
      ]
    },
    {
      "cell_type": "code",
      "source": [],
      "metadata": {
        "id": "gEwFhNmeHia5"
      },
      "execution_count": null,
      "outputs": []
    }
  ]
}