{
  "nbformat": 4,
  "nbformat_minor": 0,
  "metadata": {
    "colab": {
      "provenance": [],
      "toc_visible": true,
      "mount_file_id": "1YC3_qbMtvBPZuZbNSyJNmL2GZr-hhHqM",
      "authorship_tag": "ABX9TyMhhwTZbeihPlvIWebyxkZn",
      "include_colab_link": true
    },
    "kernelspec": {
      "name": "python3",
      "display_name": "Python 3"
    },
    "language_info": {
      "name": "python"
    }
  },
  "cells": [
    {
      "cell_type": "markdown",
      "metadata": {
        "id": "view-in-github",
        "colab_type": "text"
      },
      "source": [
        "<a href=\"https://colab.research.google.com/github/Eunhye1109/Practical-Project/blob/EH/250723_AI%EC%9A%94%EC%95%BD_KoBART_summarization.ipynb\" target=\"_parent\"><img src=\"https://colab.research.google.com/assets/colab-badge.svg\" alt=\"Open In Colab\"/></a>"
      ]
    },
    {
      "cell_type": "markdown",
      "source": [],
      "metadata": {
        "id": "6BDhfm0W9T2G"
      }
    },
    {
      "cell_type": "code",
      "source": [
        "# ✅ 0. 필수 패키지 설치\n",
        "!pip install -q sentence-transformers\n",
        "!pip install -q transformers\n",
        "!pip install -q PyMuPDF\n",
        "\n",
        "# ✅ 1. 임포트\n",
        "import os\n",
        "import re\n",
        "import fitz  # PyMuPDF\n",
        "import torch\n",
        "from sentence_transformers import SentenceTransformer, util\n",
        "from transformers import pipeline\n"
      ],
      "metadata": {
        "colab": {
          "base_uri": "https://localhost:8080/"
        },
        "id": "YF_fTNmK-RxH",
        "outputId": "29134e23-f995-4559-8214-9e2d222336a3"
      },
      "execution_count": 1,
      "outputs": [
        {
          "output_type": "stream",
          "name": "stdout",
          "text": [
            "\u001b[2K   \u001b[90m━━━━━━━━━━━━━━━━━━━━━━━━━━━━━━━━━━━━━━━━\u001b[0m \u001b[32m363.4/363.4 MB\u001b[0m \u001b[31m4.7 MB/s\u001b[0m eta \u001b[36m0:00:00\u001b[0m\n",
            "\u001b[2K   \u001b[90m━━━━━━━━━━━━━━━━━━━━━━━━━━━━━━━━━━━━━━━━\u001b[0m \u001b[32m13.8/13.8 MB\u001b[0m \u001b[31m64.2 MB/s\u001b[0m eta \u001b[36m0:00:00\u001b[0m\n",
            "\u001b[2K   \u001b[90m━━━━━━━━━━━━━━━━━━━━━━━━━━━━━━━━━━━━━━━━\u001b[0m \u001b[32m24.6/24.6 MB\u001b[0m \u001b[31m51.1 MB/s\u001b[0m eta \u001b[36m0:00:00\u001b[0m\n",
            "\u001b[2K   \u001b[90m━━━━━━━━━━━━━━━━━━━━━━━━━━━━━━━━━━━━━━━━\u001b[0m \u001b[32m883.7/883.7 kB\u001b[0m \u001b[31m34.6 MB/s\u001b[0m eta \u001b[36m0:00:00\u001b[0m\n",
            "\u001b[2K   \u001b[90m━━━━━━━━━━━━━━━━━━━━━━━━━━━━━━━━━━━━━━━━\u001b[0m \u001b[32m664.8/664.8 MB\u001b[0m \u001b[31m2.0 MB/s\u001b[0m eta \u001b[36m0:00:00\u001b[0m\n",
            "\u001b[2K   \u001b[90m━━━━━━━━━━━━━━━━━━━━━━━━━━━━━━━━━━━━━━━━\u001b[0m \u001b[32m211.5/211.5 MB\u001b[0m \u001b[31m6.9 MB/s\u001b[0m eta \u001b[36m0:00:00\u001b[0m\n",
            "\u001b[2K   \u001b[90m━━━━━━━━━━━━━━━━━━━━━━━━━━━━━━━━━━━━━━━━\u001b[0m \u001b[32m56.3/56.3 MB\u001b[0m \u001b[31m16.6 MB/s\u001b[0m eta \u001b[36m0:00:00\u001b[0m\n",
            "\u001b[2K   \u001b[90m━━━━━━━━━━━━━━━━━━━━━━━━━━━━━━━━━━━━━━━━\u001b[0m \u001b[32m127.9/127.9 MB\u001b[0m \u001b[31m7.6 MB/s\u001b[0m eta \u001b[36m0:00:00\u001b[0m\n",
            "\u001b[2K   \u001b[90m━━━━━━━━━━━━━━━━━━━━━━━━━━━━━━━━━━━━━━━━\u001b[0m \u001b[32m207.5/207.5 MB\u001b[0m \u001b[31m4.2 MB/s\u001b[0m eta \u001b[36m0:00:00\u001b[0m\n",
            "\u001b[2K   \u001b[90m━━━━━━━━━━━━━━━━━━━━━━━━━━━━━━━━━━━━━━━━\u001b[0m \u001b[32m21.1/21.1 MB\u001b[0m \u001b[31m17.5 MB/s\u001b[0m eta \u001b[36m0:00:00\u001b[0m\n",
            "\u001b[2K   \u001b[90m━━━━━━━━━━━━━━━━━━━━━━━━━━━━━━━━━━━━━━━━\u001b[0m \u001b[32m24.1/24.1 MB\u001b[0m \u001b[31m74.2 MB/s\u001b[0m eta \u001b[36m0:00:00\u001b[0m\n",
            "\u001b[?25h"
          ]
        }
      ]
    },
    {
      "cell_type": "code",
      "source": [
        "# ✅ 필요 라이브러리 설치 (처음 실행 시)\n",
        "!pip install sentence-transformers transformers pdfplumber --quiet\n",
        "!pip install -q sentence-transformers transformers\n",
        "\n",
        "!pip install sentence-transformers transformers --quiet\n"
      ],
      "metadata": {
        "id": "_47uKUB57cHi"
      },
      "execution_count": 45,
      "outputs": []
    },
    {
      "cell_type": "code",
      "source": [
        "# ✅ 0. 필수 패키지 설치\n",
        "!pip install -q sentence-transformers transformers PyMuPDF\n",
        "\n",
        "# ✅ 1. 임포트\n",
        "import os\n",
        "import re\n",
        "import fitz  # PyMuPDF\n",
        "import torch\n",
        "from transformers import AutoTokenizer, AutoModelForSeq2SeqLM\n",
        "from sentence_transformers import SentenceTransformer, util"
      ],
      "metadata": {
        "id": "hk7AJ71A_ngm"
      },
      "execution_count": 59,
      "outputs": []
    },
    {
      "cell_type": "code",
      "source": [
        "# ✅ 2. KoBART 요약 모델 로딩\n",
        "tokenizer_kobart = AutoTokenizer.from_pretrained(\"digit82/kobart-summarization\")\n",
        "model_kobart = AutoModelForSeq2SeqLM.from_pretrained(\"digit82/kobart-summarization\")\n",
        "\n",
        "def summarize_kobart(text, max_length=60, min_length=20):\n",
        "    inputs = tokenizer_kobart([text], max_length=512, truncation=True, return_tensors=\"pt\")\n",
        "    summary_ids = model_kobart.generate(\n",
        "        inputs[\"input_ids\"],\n",
        "        max_length=max_length,\n",
        "        min_length=min_length,\n",
        "        num_beams=4,\n",
        "        early_stopping=True\n",
        "    )\n",
        "    return tokenizer_kobart.decode(summary_ids[0], skip_special_tokens=True)\n",
        "\n",
        "# ✅ 3. 기업명 입력\n",
        "company = input(\"요약할 기업명을 입력하세요: \").strip()\n",
        "\n",
        "# ✅ 4. 경로 설정 및 PDF 검색\n",
        "pdf_dir = \"/content/drive/MyDrive/2. 취업 부업/7. SW개발자과정/3. 실전프로젝트/[실전] 재무 관련 데이터_호성 팀/PDF 사업 보고서\"\n",
        "\n",
        "if not os.path.exists(pdf_dir):\n",
        "    print(\"❌ 경로가 존재하지 않습니다.\")\n",
        "else:\n",
        "    files = os.listdir(pdf_dir)\n",
        "    matched = [f for f in files if company in f and f.endswith(\".pdf\")]\n",
        "\n",
        "    if not matched:\n",
        "        print(f\"❌ '{company}' 관련 PDF 파일을 찾을 수 없습니다.\")\n",
        "    else:\n",
        "        pdf_file = os.path.join(pdf_dir, matched[0])\n",
        "        print(f\"✅ 찾은 파일: {pdf_file}\")\n",
        "\n",
        "        # ✅ 5. PDF 텍스트 추출\n",
        "        with fitz.open(pdf_file) as doc:\n",
        "            raw_text = \"\"\n",
        "            for page in doc:\n",
        "                raw_text += page.get_text()\n",
        "\n",
        "        # ✅ 6. 전처리 및 문장 나누기\n",
        "        text = re.sub(r'\\[\\d+\\]', '', raw_text)\n",
        "        text = re.sub(r'\\n+', ' ', text)\n",
        "        sentences = re.split(r'(?<=[.?!])\\s+', text)\n",
        "\n",
        "        def is_valid_sentence(s):\n",
        "            if len(s.strip()) < 10: return False\n",
        "            digits = sum(c.isdigit() for c in s)\n",
        "            if digits / max(len(s), 1) > 0.2: return False\n",
        "            if len(re.findall(r'[가-힣a-zA-Z]', s)) < 5: return False\n",
        "            return True\n",
        "\n",
        "        filtered_sentences = [s.strip() for s in sentences if is_valid_sentence(s)]\n",
        "        print(f\"📚 정제된 문장 수: {len(filtered_sentences)}\")\n",
        "\n",
        "        # ✅ 7. SBERT 임베딩 및 주제 정의\n",
        "        model_sbert = SentenceTransformer(\"paraphrase-multilingual-MiniLM-L12-v2\")\n",
        "        sentence_embeddings = model_sbert.encode(filtered_sentences, convert_to_tensor=True)\n",
        "\n",
        "        topics = {\n",
        "            \"📊 재무 요약\": \"재무 성과 및 수익에 대한 요약\",\n",
        "            \"🛡️ 리스크 및 부채\": \"부채 및 재무 리스크\",\n",
        "            \"🚀 사업 전략 및 성장\": \"성장 전략과 비즈니스 계획\",\n",
        "            \"🔬 기술 및 R&D\": \"기술 투자 및 연구개발\",\n",
        "            \"🌐 글로벌 진출\": \"해외 시장 및 글로벌 전략\",\n",
        "            \"🏢 조직 및 인력\": \"조직 구성 및 인력 운영\"\n",
        "        }\n",
        "        topic_embeddings = model_sbert.encode(list(topics.values()), convert_to_tensor=True)\n",
        "\n",
        "        # ✅ 8. 토픽별 요약 수행\n",
        "        summary_result = {}\n",
        "        for i, topic in enumerate(topics.keys()):\n",
        "            cosine_scores = util.pytorch_cos_sim(topic_embeddings[i], sentence_embeddings)[0]\n",
        "            top_k = torch.topk(cosine_scores, k=min(5, len(filtered_sentences)))\n",
        "            top_sentences = [filtered_sentences[idx] for idx in top_k.indices]\n",
        "            joined_text = \" \".join(top_sentences)\n",
        "            summary = summarize_kobart(joined_text)\n",
        "            summary_result[topic] = summary.strip()\n",
        "\n",
        "        # ✅ 9. 결과 출력 및 저장\n",
        "        final_output = \"\"\n",
        "        for sec, s in summary_result.items():\n",
        "            final_output += f\"\\n\\n## {sec}\\n- {s.strip()}\\n\"\n",
        "\n",
        "        output_path = pdf_file.replace(\".pdf\", \"_요약결과.txt\")\n",
        "        with open(output_path, \"w\", encoding=\"utf-8\") as f:\n",
        "            f.write(final_output.strip())\n",
        "\n",
        "        print(\"✅ 요약 완료! 저장 위치:\", output_path)"
      ],
      "metadata": {
        "colab": {
          "base_uri": "https://localhost:8080/"
        },
        "collapsed": true,
        "id": "qObQYOaD5BUq",
        "outputId": "3c982199-9b1d-46b4-ffe4-a04ac5a3f2a0"
      },
      "execution_count": 60,
      "outputs": [
        {
          "output_type": "stream",
          "name": "stderr",
          "text": [
            "You passed along `num_labels=3` with an incompatible id to label map: {'0': 'NEGATIVE', '1': 'POSITIVE'}. The number of labels will be overwritten to 2.\n"
          ]
        },
        {
          "output_type": "stream",
          "name": "stdout",
          "text": [
            "요약할 기업명을 입력하세요: 일동제약\n",
            "❌ '일동제약' 관련 PDF 파일을 찾을 수 없습니다.\n"
          ]
        }
      ]
    },
    {
      "cell_type": "code",
      "source": [
        "import unicodedata\n",
        "\n",
        "# 회사명 정리\n",
        "company = input(\"요약할 기업명을 입력하세요: \").strip()\n",
        "company = unicodedata.normalize(\"NFC\", company)\n",
        "\n",
        "# 경로 설정\n",
        "pdf_dir = \"/content/drive/MyDrive/2. 취업 부업/7. SW개발자과정/3. 실전프로젝트/[실전] 재무 관련 데이터_호성 팀/PDF 사업 보고서\"\n",
        "\n",
        "if not os.path.exists(pdf_dir):\n",
        "    print(\"❌ 경로가 존재하지 않습니다.\")\n",
        "else:\n",
        "    files = os.listdir(pdf_dir)\n",
        "\n",
        "    # 파일명 정규화 후 비교\n",
        "    matched = [f for f in files if company in unicodedata.normalize(\"NFC\", f) and f.endswith(\".pdf\")]\n",
        "\n",
        "    if not matched:\n",
        "        print(f\"❌ '{company}' 관련 PDF 파일을 찾을 수 없습니다.\")\n",
        "    else:\n",
        "        print(f\"✅ 찾은 파일: {matched[0]}\")\n"
      ],
      "metadata": {
        "colab": {
          "base_uri": "https://localhost:8080/"
        },
        "id": "Bq2kEX9JEIAY",
        "outputId": "a8815248-9b41-4fc3-91dd-9a8423254e05"
      },
      "execution_count": 61,
      "outputs": [
        {
          "output_type": "stream",
          "name": "stdout",
          "text": [
            "요약할 기업명을 입력하세요: 일동제약\n",
            "✅ 찾은 파일: 일동제약 사업보고서 (2024.12).pdf\n"
          ]
        }
      ]
    },
    {
      "cell_type": "code",
      "source": [],
      "metadata": {
        "id": "FWdW2ysUIUZX"
      },
      "execution_count": null,
      "outputs": []
    },
    {
      "cell_type": "markdown",
      "source": [
        "## 최종 우리말 요약 기능"
      ],
      "metadata": {
        "id": "xzVrvBJTIUv3"
      }
    },
    {
      "cell_type": "code",
      "source": [
        "# ✅ 0. 패키지 설치 (코랩에서 필요 시 실행)\n",
        "!pip install -q sentence-transformers transformers PyMuPDF\n",
        "\n",
        "# ✅ 1. 임포트\n",
        "import os, re, unicodedata\n",
        "import fitz  # PyMuPDF\n",
        "import torch\n",
        "from sentence_transformers import SentenceTransformer, util\n",
        "from transformers import AutoTokenizer, AutoModelForSeq2SeqLM\n",
        "\n",
        "# ✅ 2. KoBART 요약 모델 로딩\n",
        "tokenizer_kobart = AutoTokenizer.from_pretrained(\"digit82/kobart-summarization\", use_fast=False)\n",
        "model_kobart = AutoModelForSeq2SeqLM.from_pretrained(\"digit82/kobart-summarization\")\n",
        "\n",
        "def summarize_kobart(text, max_length=120, min_length=30):\n",
        "    inputs = tokenizer_kobart([text], max_length=512, truncation=True, return_tensors=\"pt\")\n",
        "    summary_ids = model_kobart.generate(\n",
        "        inputs[\"input_ids\"],\n",
        "        max_length=max_length,\n",
        "        min_length=min_length,\n",
        "        num_beams=4,\n",
        "        early_stopping=True\n",
        "    )\n",
        "    return tokenizer_kobart.decode(summary_ids[0], skip_special_tokens=True)\n",
        "\n",
        "# ✅ 3. SBERT 임베딩 모델\n",
        "model_sbert = SentenceTransformer(\"paraphrase-multilingual-MiniLM-L12-v2\")\n",
        "\n",
        "# ✅ 4. 사용자 입력\n",
        "company = input(\"요약할 기업명을 입력하세요: \").strip()\n",
        "company = unicodedata.normalize(\"NFC\", company)\n",
        "\n",
        "# ✅ 5. PDF 파일 읽기 (정확한 경로로 수정)\n",
        "pdf_dir = \"/content/drive/MyDrive/2. 취업 부업/7. SW개발자과정/3. 실전프로젝트/[실전] 재무 관련 데이터_호성 팀/PDF 사업 보고서\"\n",
        "assert os.path.exists(pdf_dir), \"경로가 존재하지 않습니다.\"\n",
        "\n",
        "\n",
        "files = os.listdir(pdf_dir)\n",
        "matched = [f for f in files\n",
        "           if company in unicodedata.normalize(\"NFC\", f) and f.lower().endswith(\".pdf\")]\n",
        "\n",
        "if not matched:\n",
        "    raise FileNotFoundError(f\"❌ '{company}' 관련 PDF 파일이 없습니다.\")\n",
        "pdf_path = os.path.join(pdf_dir, matched[0])\n",
        "print(\"✅ 찾은 PDF:\", pdf_path)\n",
        "\n",
        "# ✅ 6. PDF → 텍스트 추출\n",
        "doc = fitz.open(pdf_path)\n",
        "raw_text = \"\"\n",
        "for page in doc:\n",
        "    raw_text += page.get_text()\n",
        "doc.close()\n",
        "\n",
        "# ✅ 7. 전처리: 문장 분리 및 필터링\n",
        "text = re.sub(r'\\[\\d+\\]', '', raw_text)\n",
        "text = re.sub(r'\\s+', ' ', text)\n",
        "sentences = re.split(r'(?<=[.?!])\\s+', text)\n",
        "\n",
        "def is_valid(s):\n",
        "    s = s.strip()\n",
        "    if len(s) < 10: return False\n",
        "    if sum(c.isdigit() for c in s) / max(len(s),1) > 0.2: return False\n",
        "    if len(re.findall(r'[가-힣a-zA-Z]', s)) < 5: return False\n",
        "    return True\n",
        "\n",
        "filtered = [s for s in sentences if is_valid(s)]\n",
        "print(\"📚 유효 문장 수:\", len(filtered))\n",
        "\n",
        "# ✅ 8. 임베딩 계산\n",
        "sent_embed = model_sbert.encode(filtered, convert_to_tensor=True)\n",
        "\n",
        "topics = {\n",
        "    # \"📊 재무 요약\": \"재무 성과 및 수익\",\n",
        "    # \"🛡️ 리스크 및 부채\": \"부채 및 리스크\",\n",
        "    # \"🚀 사업 전략\": \"사업 전략 및 성장 계획\",\n",
        "    # \"🔬 기술 및 R&D\": \"기술 투자 및 연구개발\",\n",
        "    # \"🌐 글로벌 진출\": \"글로벌 진출 및 해외 시장\",\n",
        "    \"📊 재무 요약\": \"최근 3개년 손익계산서를 기준으로 매출액, 영업이익, 당기순이익 등의 주요 재무성과를 종합적으로 요약한 내용입니다.\",\n",
        "    \"🛡️ 리스크 및 부채\": \"기업의 주요 부채 현황, 유동성 및 지급능력 리스크, 채무불이행 가능성, 지급보증 및 담보제공 등에 관한 내용입니다.\",\n",
        "    \"🚀 사업 전략\": \"신규 사업 추진, 투자계획, 매출 증대를 위한 전략, 사업 다각화 방안 및 향후 중장기 성장계획에 관한 설명입니다.\",\n",
        "    \"🔬 기술 및 R&D\": \"연구개발 투자 현황, 주요 신약 및 기술 파이프라인 진행상황, 기술 제휴 및 연구성과에 대한 요약입니다.\",\n",
        "    \"🌐 글로벌 진출\": \"해외시장 매출 비중, 글로벌 파트너십 체결, 수출 확대, 현지법인 설립 등 글로벌 진출 전략 및 성과에 관한 내용입니다.\",\n",
        "\n",
        "}\n",
        "\n",
        "topic_embed = model_sbert.encode(list(topics.values()), convert_to_tensor=True)\n",
        "\n",
        "# ✅ 9. 주제별 문장 추출 & 요약\n",
        "result = {}\n",
        "for i, title in enumerate(topics.keys()):\n",
        "    sims = util.pytorch_cos_sim(topic_embed[i], sent_embed)[0]\n",
        "    topk = torch.topk(sims, k=min(5, len(filtered)))\n",
        "    sel = [filtered[idx] for idx in topk.indices]\n",
        "    joined = \" \".join(sel)\n",
        "    result[title] = summarize_kobart(joined)\n",
        "\n",
        "# ✅ 10. 결과 출력\n",
        "print(\"\\n\\n======= 요약 결과 =======\")\n",
        "for sec, summ in result.items():\n",
        "    print(f\"\\n## {sec}\\n{summ}\")\n"
      ],
      "metadata": {
        "colab": {
          "base_uri": "https://localhost:8080/"
        },
        "id": "HBGrl26yET9k",
        "outputId": "a5c81043-f029-467b-f3d6-210f1973ce7c"
      },
      "execution_count": 67,
      "outputs": [
        {
          "output_type": "stream",
          "name": "stderr",
          "text": [
            "You passed along `num_labels=3` with an incompatible id to label map: {'0': 'NEGATIVE', '1': 'POSITIVE'}. The number of labels will be overwritten to 2.\n"
          ]
        },
        {
          "output_type": "stream",
          "name": "stdout",
          "text": [
            "요약할 기업명을 입력하세요: 알피바이오\n",
            "✅ 찾은 PDF: /content/drive/MyDrive/2. 취업 부업/7. SW개발자과정/3. 실전프로젝트/[실전] 재무 관련 데이터_호성 팀/PDF 사업 보고서/알피바이오 사업보고서 (2024.12).pdf\n",
            "📚 유효 문장 수: 698\n",
            "\n",
            "\n",
            "======= 요약 결과 =======\n",
            "\n",
            "## 📊 재무 요약\n",
            "출자 목적 출자회사수 총 출자금액 상장 비상장 계 기초 장부 가액 증가(감소) 기말 장부 가액 취득 (처분) 평가 손익 경영참여 - - - - - - - - - - - - - - - - - - - - - - - - - - - - - - - - - - - - - - - - - - - - - - - - - - - - - - - - - - - - - - - - - - - - - - - - - - - - - - - -\n",
            "\n",
            "## 🛡️ 리스크 및 부채\n",
            "당기법인세 자산과 부채는 법적으로 상계할 수 있는 권 리를 회사가 보유하고 있고, 순액으로 결제할 의도가 있거나 자산을 실현하는 동시에 부채를 결제하려는 의도가 있는 경우에 상계한다.\n",
            "\n",
            "## 🚀 사업 전략\n",
            "정부의 정책기조 가 시장활성화를 위한 기조가 지속되고 있으며 앞으로 바이오의약품의 성장, 외자사와의 전략적 제휴, 개별 종목들의 연구성과나 수출계약 등이 지속적으로 부각되며 향후 경제성장을 이끌 주력산업으로 성장할 것으로 예상된다.\n",
            "\n",
            "## 🔬 기술 및 R&D\n",
            "바이오의약품의 성장, 외자사와의 전략적 제휴, 개별 종목들의 연구성과나 수출계약 등이 지속적으로 부각되며 향후 경제성장을 이끌 주력산업으로 성장할 것으로 예상된다.\n",
            "\n",
            "## 🌐 글로벌 진출\n",
            "제약시장은 앞으로 바이오의약품의 성장, 외자사와의 전략적 제휴, 개별 종목들의 연구성과나 수출계약 등이 지속적으로 부각되며 향후 경제성장을 이끌 주력산업으로 성장할 것으로 예상된다.\n"
          ]
        }
      ]
    },
    {
      "cell_type": "markdown",
      "source": [
        "## 쉬운 말 요약 버전"
      ],
      "metadata": {
        "id": "bg9anMN9Kppx"
      }
    },
    {
      "cell_type": "code",
      "source": [
        "# ✅ 0. 패키지 설치 (코랩에서 필요 시 실행)\n",
        "!pip install -q sentence-transformers transformers PyMuPDF\n",
        "\n",
        "# ✅ 1. 임포트\n",
        "import os, re, unicodedata\n",
        "import fitz  # PyMuPDF\n",
        "import torch\n",
        "from sentence_transformers import SentenceTransformer, util\n",
        "from transformers import AutoTokenizer, AutoModelForSeq2SeqLM\n",
        "\n",
        "# ✅ 2. KoBART 요약 모델 로딩\n",
        "tokenizer_kobart = AutoTokenizer.from_pretrained(\"digit82/kobart-summarization\", use_fast=False)\n",
        "model_kobart = AutoModelForSeq2SeqLM.from_pretrained(\"digit82/kobart-summarization\")\n",
        "\n",
        "def summarize_kobart(text, max_length=120, min_length=30):\n",
        "    inputs = tokenizer_kobart([text], max_length=512, truncation=True, return_tensors=\"pt\")\n",
        "    summary_ids = model_kobart.generate(\n",
        "        inputs[\"input_ids\"],\n",
        "        max_length=max_length,\n",
        "        min_length=min_length,\n",
        "        num_beams=4,\n",
        "        early_stopping=True\n",
        "    )\n",
        "    return tokenizer_kobart.decode(summary_ids[0], skip_special_tokens=True)\n",
        "\n",
        "# ✅ 3. 쉬운 문장 후처리 함수\n",
        "def simplify_korean(text):\n",
        "    text = text.replace(\"해당\", \"이\")\n",
        "    text = text.replace(\"의하여\", \"로 인해\")\n",
        "    text = text.replace(\"하고자 한다\", \"하려고 한다\")\n",
        "    text = text.replace(\"있습니다\", \"있어요\")\n",
        "    text = text.replace(\"되었습니다\", \"됐어요\")\n",
        "    text = text.replace(\"하고 있습니다\", \"하고 있어요\")\n",
        "    text = text.replace(\"수 있습니다\", \"수 있어요\")\n",
        "    text = text.replace(\"수 없습니다\", \"할 수 없어요\")\n",
        "    text = text.replace(\"제공하고 있습니다\", \"제공 중이에요\")\n",
        "    return text\n",
        "\n",
        "# ✅ 4. SBERT 임베딩 모델\n",
        "model_sbert = SentenceTransformer(\"paraphrase-multilingual-MiniLM-L12-v2\")\n",
        "\n",
        "# ✅ 5. 사용자 입력\n",
        "company = input(\"요약할 기업명을 입력하세요: \").strip()\n",
        "company = unicodedata.normalize(\"NFC\", company)\n",
        "\n",
        "# ✅ 6. PDF 파일 경로 설정\n",
        "pdf_dir = \"/content/drive/MyDrive/2. 취업 부업/7. SW개발자과정/3. 실전프로젝트/[실전] 재무 관련 데이터_호성 팀/PDF 사업 보고서\"\n",
        "assert os.path.exists(pdf_dir), \"경로가 존재하지 않습니다.\"\n",
        "\n",
        "files = os.listdir(pdf_dir)\n",
        "matched = [f for f in files\n",
        "           if company in unicodedata.normalize(\"NFC\", f) and f.lower().endswith(\".pdf\")]\n",
        "\n",
        "if not matched:\n",
        "    raise FileNotFoundError(f\"❌ '{company}' 관련 PDF 파일이 없습니다.\")\n",
        "pdf_path = os.path.join(pdf_dir, matched[0])\n",
        "print(\"✅ 찾은 PDF:\", pdf_path)\n",
        "\n",
        "# ✅ 7. PDF → 텍스트 추출\n",
        "doc = fitz.open(pdf_path)\n",
        "raw_text = \"\"\n",
        "for page in doc:\n",
        "    raw_text += page.get_text()\n",
        "doc.close()\n",
        "\n",
        "# ✅ 8. 전처리: 문장 분리 및 필터링\n",
        "text = re.sub(r'\\[\\d+\\]', '', raw_text)\n",
        "text = re.sub(r'\\s+', ' ', text)\n",
        "sentences = re.split(r'(?<=[.?!])\\s+', text)\n",
        "\n",
        "def is_valid(s):\n",
        "    s = s.strip()\n",
        "    if len(s) < 10: return False\n",
        "    if sum(c.isdigit() for c in s) / max(len(s),1) > 0.2: return False\n",
        "    if len(re.findall(r'[가-힣a-zA-Z]', s)) < 5: return False\n",
        "    return True\n",
        "\n",
        "filtered = [s for s in sentences if is_valid(s)]\n",
        "print(\"📚 유효 문장 수:\", len(filtered))\n",
        "\n",
        "# ✅ 9. 임베딩 계산\n",
        "sent_embed = model_sbert.encode(filtered, convert_to_tensor=True)\n",
        "\n",
        "topics = {\n",
        "    \"📊 재무 요약\": \"최근 3개년 손익계산서를 기준으로 매출액, 영업이익, 당기순이익 등의 주요 재무성과를 종합적으로 요약한 내용입니다.\",\n",
        "    \"🛡️ 리스크 및 부채\": \"기업의 주요 부채 현황, 유동성 및 지급능력 리스크, 채무불이행 가능성, 지급보증 및 담보제공 등에 관한 내용입니다.\",\n",
        "    \"🚀 사업 전략\": \"신규 사업 추진, 투자계획, 매출 증대를 위한 전략, 사업 다각화 방안 및 향후 중장기 성장계획에 관한 설명입니다.\",\n",
        "    \"🔬 기술 및 R&D\": \"연구개발 투자 현황, 주요 신약 및 기술 파이프라인 진행상황, 기술 제휴 및 연구성과에 대한 요약입니다.\",\n",
        "    \"🌐 글로벌 진출\": \"해외시장 매출 비중, 글로벌 파트너십 체결, 수출 확대, 현지법인 설립 등 글로벌 진출 전략 및 성과에 관한 내용입니다.\",\n",
        "}\n",
        "\n",
        "topic_embed = model_sbert.encode(list(topics.values()), convert_to_tensor=True)\n",
        "\n",
        "# ✅ 10. 주제별 문장 추출 & 요약 + 쉬운 말 변환\n",
        "result = {}\n",
        "for i, title in enumerate(topics.keys()):\n",
        "    sims = util.pytorch_cos_sim(topic_embed[i], sent_embed)[0]\n",
        "    topk = torch.topk(sims, k=min(5, len(filtered)))\n",
        "    sel = [filtered[idx] for idx in topk.indices]\n",
        "    joined = \" \".join(sel)\n",
        "    summarized = summarize_kobart(joined)\n",
        "    simplified = simplify_korean(summarized)\n",
        "    result[title] = simplified\n",
        "\n",
        "# ✅ 11. 결과 출력\n",
        "print(\"\\n\\n======= 요약 결과 (쉬운 말) =======\")\n",
        "for sec, summ in result.items():\n",
        "    print(f\"\\n## {sec}\")\n",
        "    for line in summ.split(\". \"):\n",
        "        print(f\"- {line.strip()}.\")\n"
      ],
      "metadata": {
        "colab": {
          "base_uri": "https://localhost:8080/"
        },
        "id": "bwDYUb5PEcTv",
        "outputId": "6b18817a-1585-4b88-af95-2d1399862608"
      },
      "execution_count": null,
      "outputs": [
        {
          "output_type": "stream",
          "name": "stderr",
          "text": [
            "You passed along `num_labels=3` with an incompatible id to label map: {'0': 'NEGATIVE', '1': 'POSITIVE'}. The number of labels will be overwritten to 2.\n"
          ]
        }
      ]
    },
    {
      "cell_type": "code",
      "source": [],
      "metadata": {
        "colab": {
          "base_uri": "https://localhost:8080/"
        },
        "id": "4RuNY4F5_Sim",
        "outputId": "2429abd1-eb1a-42e7-8b69-ef9294931ff0"
      },
      "execution_count": 69,
      "outputs": [
        {
          "output_type": "stream",
          "name": "stdout",
          "text": [
            "\n",
            "\n",
            "======= 요약 결과 (쉬운 말) =======\n",
            "\n",
            "## 📊 재무 요약\n",
            "- (4) 당기말 및 전기말 현재 투자부동산의 공정가치는 다음과 같으며 (4) 당기말 및 전기말 현재 투자부동산의 공정가치는 다음과 같다..\n",
            "\n",
            "## 🛡️ 리스크 및 부채\n",
            "- 당기법인세자산과 부채는 법적으로 상계할 수 있는 권리를 회사가 보유하고 있고, 순액으로 결제할 의도가 있거나 자산을 실현하는 동시에 부채를 결제하려는 의도가 있는 경우에 상계하여 재무상태표에 순액으로 표시하고 있다..\n",
            "\n",
            "## 🚀 사업 전략\n",
            "- 배당절차 개선방안 이행 관련 향후 계획 당사는 배당 절차 개선방안에 대해 타상장리츠사 및 당사 사업현황 등을 고려하여 도입을 검토하겠다..\n",
            "\n",
            "## 🔬 기술 및 R&D\n",
            "- 배당절차 개선방안 이행 관련 향후 계획 당사는 배당 절차 개선방안에 대해 타상장리츠사 및 당사 사업현황 등을 고려하여 도입을 검토하겠다..\n",
            "\n",
            "## 🌐 글로벌 진출\n",
            "- 100.0 삼성물산(주) Vista Contracting and Investment Global Pte.는 100.0 삼성물산(주) Vista Contracting and Investment Global Pte.의 주요 매출처 및 매출액은 아래와 같으며 주요계약 및 연구개발활동, 주요계약 및 연구개발활동.............................................................................................................................................................\n"
          ]
        }
      ]
    },
    {
      "cell_type": "code",
      "source": [],
      "metadata": {
        "id": "69wZBzGELdHo"
      },
      "execution_count": null,
      "outputs": []
    }
  ]
}
