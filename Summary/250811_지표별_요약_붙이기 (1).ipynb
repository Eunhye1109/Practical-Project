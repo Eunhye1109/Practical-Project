{
  "nbformat": 4,
  "nbformat_minor": 0,
  "metadata": {
    "colab": {
      "provenance": [],
      "toc_visible": true
    },
    "kernelspec": {
      "name": "python3",
      "display_name": "Python 3"
    },
    "language_info": {
      "name": "python"
    }
  },
  "cells": [
    {
      "cell_type": "markdown",
      "source": [],
      "metadata": {
        "id": "Y5Lek2yu6g02"
      }
    },
    {
      "cell_type": "markdown",
      "source": [
        "## 더미데이터 + 테스트"
      ],
      "metadata": {
        "id": "l3Hor-AK1LQj"
      }
    },
    {
      "cell_type": "markdown",
      "source": [
        "#### 세팅값(거의 default값)"
      ],
      "metadata": {
        "id": "yCkSgiw16kZJ"
      }
    },
    {
      "cell_type": "code",
      "source": [
        "# file: test_gpt_graph_summary.py\n",
        "# -*- coding: utf-8 -*-\n",
        "\n",
        "import os\n",
        "import json\n",
        "from statistics import mean, pstdev\n",
        "from typing import List, Dict, Any, Optional\n",
        "import numpy as np\n",
        "\n",
        "# -----------------------------\n",
        "# OpenAI (optional)\n",
        "# -----------------------------\n",
        "OPENAI_API_KEY = os.getenv(\"OPENAI_API_KEY\", \"\")\n",
        "try:\n",
        "    from openai import OpenAI\n",
        "    _OPENAI_AVAILABLE = True\n",
        "except Exception:\n",
        "    OpenAI = None\n",
        "    _OPENAI_AVAILABLE = False\n",
        "\n",
        "# -----------------------------\n",
        "# 분석 함수\n",
        "# -----------------------------\n",
        "def _linear_fit(values: List[float]) -> (float, float):\n",
        "    x = np.arange(len(values), dtype=float)\n",
        "    y = np.array(values, dtype=float)\n",
        "    coef = float(np.polyfit(x, y, 1)[0])\n",
        "    yhat = np.poly1d(np.polyfit(x, y, 1))(x)\n",
        "    ss_res = float(np.sum((y - yhat) ** 2))\n",
        "    ss_tot = float(np.sum((y - np.mean(y)) ** 2))\n",
        "    r2 = 0.0 if ss_tot == 0 else 1.0 - (ss_res / ss_tot)\n",
        "    return coef, r2\n",
        "\n",
        "def _volatility(values: List[float]) -> float:\n",
        "    if len(values) < 2:\n",
        "        return 0.0\n",
        "    mu = mean(values)\n",
        "    if mu == 0:\n",
        "        return 0.0\n",
        "    sd = pstdev(values)\n",
        "    return float(sd / mu)\n",
        "\n",
        "def _zscore_anomalies(labels: List[str], values: List[float], thresh: float = 2.0) -> List[Dict[str, Any]]:\n",
        "    if len(values) < 2:\n",
        "        return []\n",
        "    mu = mean(values)\n",
        "    sd = pstdev(values)\n",
        "    if sd == 0:\n",
        "        return []\n",
        "    out = []\n",
        "    for lab, val in zip(labels, values):\n",
        "        z = (val - mu) / sd\n",
        "        if abs(z) >= thresh:\n",
        "            out.append({\"label\": lab, \"value\": float(val), \"zscore\": float(z), \"note\": \"피크\" if z > 0 else \"저점\"})\n",
        "    return out\n",
        "\n",
        "def _trend_label_and_score(slope: float, r2: float, vol: float) -> (str, float):\n",
        "    if abs(slope) < 1e-8:\n",
        "        base = \"flat\"\n",
        "        score = max(0.0, 1 - vol)\n",
        "    else:\n",
        "        base = \"up\" if slope > 0 else \"down\"\n",
        "        score = min(1.0, max(0.0, (abs(slope) / (abs(slope) + 1)) * 0.6 + r2 * 0.4))\n",
        "    if vol >= 0.15 and base == \"flat\":\n",
        "        base = \"volatile\"\n",
        "        score *= 0.5\n",
        "    return base, float(round(score, 3))\n",
        "\n",
        "def analyze(labels: List[str], values: List[float]) -> Dict[str, Any]:\n",
        "    slope, r2 = _linear_fit(values)\n",
        "    vol = _volatility(values)\n",
        "    anoms = _zscore_anomalies(labels, values, 2.0)\n",
        "    tlabel, tscore = _trend_label_and_score(slope, r2, vol)\n",
        "    return {\n",
        "        \"slope\": float(slope),\n",
        "        \"r2\": float(round(r2, 4)),\n",
        "        \"volatility\": float(round(vol, 4)),\n",
        "        \"trend\": tlabel,\n",
        "        \"trend_score\": float(round(tscore, 3)),\n",
        "        \"anomalies\": anoms,\n",
        "    }\n",
        "\n",
        "# -----------------------------\n",
        "# GPT 요약\n",
        "# -----------------------------\n",
        "def gpt_summary(metric_name: str, labels: List[str], values: List[float],\n",
        "                company: str, unit: str, freq: str, ana: Dict[str, Any]) -> Optional[str]:\n",
        "    # ✅ GPT 키 없으면 건너뜀\n",
        "    if not OPENAI_API_KEY or not _OPENAI_AVAILABLE:\n",
        "        return None\n",
        "\n",
        "    client = OpenAI(api_key=OPENAI_API_KEY)\n",
        "\n",
        "    # ✅ 프롬프트에 넣을 추가 지표들 계산(최근 변화, 피크/저점)\n",
        "    last_label = labels[-1]\n",
        "    last_val = float(values[-1])\n",
        "    prev_val = float(values[-2]) if len(values) >= 2 else last_val\n",
        "    delta_abs = last_val - prev_val\n",
        "    delta_pct = 0.0 if prev_val == 0 else (delta_abs / prev_val) * 100.0\n",
        "\n",
        "    peak_idx = int(np.argmax(values))\n",
        "    trough_idx = int(np.argmin(values))\n",
        "    peak_label, peak_val = labels[peak_idx], float(values[peak_idx])\n",
        "    trough_label, trough_val = labels[trough_idx], float(values[trough_idx])\n",
        "\n",
        "    # ✅ 프롬프트 본문 (분석치 + 컨텍스트 반영)\n",
        "    prompt = f\"\"\"다음 시계열 그래프를 한국어로 중학생도 알아볼 수 있을 만큼 쉽고 간단하게 요약해줘.\n",
        "\n",
        "[컨텍스트]\n",
        "- 회사: {company or \"해당 기업\"}\n",
        "- 지표: {metric_name}\n",
        "- 단위: {unit or \"\"}\n",
        "- 빈도: {freq or \"\"}\n",
        "\n",
        "[데이터]\n",
        "- 라벨: {labels}\n",
        "- 값: {[float(v) for v in values]}\n",
        "\n",
        "[사전 분석치]\n",
        "- 선형 기울기: {ana[\"slope\"]:.4f}\n",
        "- 결정계수 R^2: {ana[\"r2\"]:.2f}\n",
        "- 변동성: {ana[\"volatility\"]:.2f}\n",
        "- 이상치 개수: {len(ana[\"anomalies\"])}\n",
        "\n",
        "[포인트]\n",
        "- 최근값: {last_label} = {last_val}\n",
        "- 직전 대비 변화: {delta_abs:+.2f} ({delta_pct:+.2f}%)\n",
        "- 최고치: {peak_label} = {peak_val}\n",
        "- 최저치: {trough_label} = {trough_val}\n",
        "\n",
        "[지시]\n",
        "1) 전반적인 흐름과 최근 변화 중심으로 **2~3문장**으로 써라.\n",
        "2) 숫자 비교는 1~2개만 핵심만 써라(예: \"최근 분기 -3%\").\n",
        "3) 과대해석 금지. 불확실하면 '가능성/추정'으로 표현.\n",
        "4) 이모지·과장 표현·불필요한 기호 금지.\n",
        "5) 중학생 수준의 쉬운 말로, 이 흐름과 변화가 무엇을 의미하는지 간단한 해석을 덧붙일 것.\n",
        "\"\"\"\n",
        "\n",
        "    resp = client.chat.completions.create(\n",
        "        model=\"gpt-4o-mini\",\n",
        "        messages=[\n",
        "            {\"role\": \"system\", \"content\": \"너는 차트 아래 들어갈 쉽고 객관적인 한국어 요약을 작성한다.\"},\n",
        "            {\"role\": \"user\", \"content\": prompt}\n",
        "        ],\n",
        "        temperature=0.2,\n",
        "        max_tokens=320,\n",
        "    )\n",
        "    return (resp.choices[0].message.content or \"\").strip()\n"
      ],
      "metadata": {
        "id": "kiGxm-kq1KmF"
      },
      "execution_count": 24,
      "outputs": []
    },
    {
      "cell_type": "markdown",
      "source": [
        "#### 변경값(현재 더미데이터 넣은 상태)"
      ],
      "metadata": {
        "id": "FPNvxd-D6qTk"
      }
    },
    {
      "cell_type": "code",
      "source": [
        "# -----------------------------\n",
        "# 테스트 실행\n",
        "# -----------------------------\n",
        "if __name__ == \"__main__\":\n",
        "    # 더미 데이터\n",
        "    labels = [\"2024-Q1\", \"2024-Q2\", \"2024-Q3\", \"2024-Q4\", \"2025-Q1\"] # ★★★labels 값 변경!!!\n",
        "    values = [120, 135, 142, 160, 155] # ★★★ values 값 변경!!!\n",
        "\n",
        "    ana = analyze(labels, values)\n",
        "\n",
        "    # ✅ 실제 값으로 전달(중괄호 플레이스홀더 제거)\n",
        "    company = \"삼성전자\"\n",
        "    unit = \"억 원\"\n",
        "    freq = \"quarterly\"\n",
        "\n",
        "    summary_text = gpt_summary(\"매출액\", labels, values, company, unit, freq, ana)\n",
        "    if not summary_text:\n",
        "        dir_kor = {\"up\": \"상승\", \"down\": \"하락\", \"flat\": \"횡보\", \"volatile\": \"변동성 확대\"}[ana[\"trend\"]]\n",
        "        summary_text = f\"전반적으로 {dir_kor} 흐름이 관찰됩니다(R²={ana['r2']:.2f}).\"\n",
        "        if ana[\"anomalies\"]:\n",
        "            a = ana[\"anomalies\"][-1]\n",
        "            summary_text += f\" {a['label']} 시점에 이상치(값 {a['value']})가 있습니다.\"\n",
        "\n",
        "    print(\"\\n📊 분석 결과\")\n",
        "    print(json.dumps(ana, ensure_ascii=False, indent=2))\n",
        "    print(\"\\n📝 요약 결과\")\n",
        "    print(summary_text)"
      ],
      "metadata": {
        "colab": {
          "base_uri": "https://localhost:8080/"
        },
        "id": "p8r9oRap3QLH",
        "outputId": "d15dd887-000b-48c5-afeb-ac756b7bd15b"
      },
      "execution_count": 25,
      "outputs": [
        {
          "output_type": "stream",
          "name": "stdout",
          "text": [
            "\n",
            "📊 분석 결과\n",
            "{\n",
            "  \"slope\": 9.49999999999999,\n",
            "  \"r2\": 0.8803,\n",
            "  \"volatility\": 0.1006,\n",
            "  \"trend\": \"up\",\n",
            "  \"trend_score\": 0.895,\n",
            "  \"anomalies\": []\n",
            "}\n",
            "\n",
            "📝 요약 결과\n",
            "삼성전자의 매출액은 2024년 1분기 120억 원에서 시작해 2024년 4분기에는 160억 원으로 증가했습니다. 하지만 2025년 1분기에는 155억 원으로 줄어들어 최근 분기에서 -3%의 감소가 있었습니다. 이 변화는 매출이 전반적으로 상승하다가 최근에 약간 줄어든 것을 보여주며, 앞으로의 매출 흐름에 대한 주의가 필요할 수 있습니다.\n"
          ]
        }
      ]
    },
    {
      "cell_type": "markdown",
      "source": [],
      "metadata": {
        "id": "_eq0tCld6svp"
      }
    },
    {
      "cell_type": "code",
      "source": [],
      "metadata": {
        "id": "bmVbNM6a1Kjs"
      },
      "execution_count": null,
      "outputs": []
    },
    {
      "cell_type": "code",
      "source": [],
      "metadata": {
        "id": "idbG9BGW1Khd"
      },
      "execution_count": null,
      "outputs": []
    }
  ]
}