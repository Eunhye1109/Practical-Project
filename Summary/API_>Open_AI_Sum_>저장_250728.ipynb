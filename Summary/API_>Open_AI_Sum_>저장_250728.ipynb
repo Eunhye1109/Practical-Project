{
  "nbformat": 4,
  "nbformat_minor": 0,
  "metadata": {
    "colab": {
      "provenance": [],
      "mount_file_id": "1m4yqpkdUh09sGNuAwdX1aSyUp7DrYSgu",
      "authorship_tag": "ABX9TyMD/JlTLYYy7Sodh3XicbI/",
      "include_colab_link": true
    },
    "kernelspec": {
      "name": "python3",
      "display_name": "Python 3"
    },
    "language_info": {
      "name": "python"
    }
  },
  "cells": [
    {
      "cell_type": "markdown",
      "metadata": {
        "id": "view-in-github",
        "colab_type": "text"
      },
      "source": [
        "<a href=\"https://colab.research.google.com/github/Eunhye1109/Practical-Project/blob/EH/API_%3EOpen_AI_Sum_%3E%EC%A0%80%EC%9E%A5_250728.ipynb\" target=\"_parent\"><img src=\"https://colab.research.google.com/assets/colab-badge.svg\" alt=\"Open In Colab\"/></a>"
      ]
    },
    {
      "cell_type": "code",
      "execution_count": 4,
      "metadata": {
        "colab": {
          "base_uri": "https://localhost:8080/"
        },
        "id": "-MJ7p4ez7UFy",
        "outputId": "5a80c6d4-a370-4c76-e8dd-db67326f1b41"
      },
      "outputs": [
        {
          "output_type": "stream",
          "name": "stdout",
          "text": [
            "Requirement already satisfied: requests in /usr/local/lib/python3.11/dist-packages (2.32.3)\n",
            "Requirement already satisfied: PyMuPDF in /usr/local/lib/python3.11/dist-packages (1.26.3)\n",
            "Requirement already satisfied: openai in /usr/local/lib/python3.11/dist-packages (1.97.1)\n",
            "Requirement already satisfied: python-dotenv in /usr/local/lib/python3.11/dist-packages (1.1.1)\n",
            "Requirement already satisfied: tqdm in /usr/local/lib/python3.11/dist-packages (4.67.1)\n",
            "Requirement already satisfied: charset-normalizer<4,>=2 in /usr/local/lib/python3.11/dist-packages (from requests) (3.4.2)\n",
            "Requirement already satisfied: idna<4,>=2.5 in /usr/local/lib/python3.11/dist-packages (from requests) (3.10)\n",
            "Requirement already satisfied: urllib3<3,>=1.21.1 in /usr/local/lib/python3.11/dist-packages (from requests) (2.5.0)\n",
            "Requirement already satisfied: certifi>=2017.4.17 in /usr/local/lib/python3.11/dist-packages (from requests) (2025.7.14)\n",
            "Requirement already satisfied: anyio<5,>=3.5.0 in /usr/local/lib/python3.11/dist-packages (from openai) (4.9.0)\n",
            "Requirement already satisfied: distro<2,>=1.7.0 in /usr/local/lib/python3.11/dist-packages (from openai) (1.9.0)\n",
            "Requirement already satisfied: httpx<1,>=0.23.0 in /usr/local/lib/python3.11/dist-packages (from openai) (0.28.1)\n",
            "Requirement already satisfied: jiter<1,>=0.4.0 in /usr/local/lib/python3.11/dist-packages (from openai) (0.10.0)\n",
            "Requirement already satisfied: pydantic<3,>=1.9.0 in /usr/local/lib/python3.11/dist-packages (from openai) (2.11.7)\n",
            "Requirement already satisfied: sniffio in /usr/local/lib/python3.11/dist-packages (from openai) (1.3.1)\n",
            "Requirement already satisfied: typing-extensions<5,>=4.11 in /usr/local/lib/python3.11/dist-packages (from openai) (4.14.1)\n",
            "Requirement already satisfied: httpcore==1.* in /usr/local/lib/python3.11/dist-packages (from httpx<1,>=0.23.0->openai) (1.0.9)\n",
            "Requirement already satisfied: h11>=0.16 in /usr/local/lib/python3.11/dist-packages (from httpcore==1.*->httpx<1,>=0.23.0->openai) (0.16.0)\n",
            "Requirement already satisfied: annotated-types>=0.6.0 in /usr/local/lib/python3.11/dist-packages (from pydantic<3,>=1.9.0->openai) (0.7.0)\n",
            "Requirement already satisfied: pydantic-core==2.33.2 in /usr/local/lib/python3.11/dist-packages (from pydantic<3,>=1.9.0->openai) (2.33.2)\n",
            "Requirement already satisfied: typing-inspection>=0.4.0 in /usr/local/lib/python3.11/dist-packages (from pydantic<3,>=1.9.0->openai) (0.4.1)\n"
          ]
        }
      ],
      "source": [
        "pip install requests PyMuPDF openai python-dotenv tqdm\n"
      ]
    },
    {
      "cell_type": "code",
      "source": [
        "import os\n",
        "import io\n",
        "import re\n",
        "import zipfile\n",
        "import requests\n",
        "import fitz  # PyMuPDF\n",
        "from dotenv import load_dotenv\n",
        "from tqdm import tqdm\n",
        "import openai\n",
        "import pandas as pd\n",
        "import requests\n",
        "import zipfile\n",
        "from tqdm import tqdm\n",
        "\n",
        "\n",
        "# ---------------------------\n",
        "# 0. 환경 변수 로드 & 설정\n",
        "# ---------------------------\n",
        "load_dotenv()\n",
        "DART_API_KEY = os.getenv(\"DART_API_KEY\", \"입력하세요\")  # 사용자가 제공한 키\n",
        "OPENAI_API_KEY = os.getenv(\"OPENAI_API_KEY\", \"입력하세요\")  # 본인 키 입력 or .env\n",
        "openai_client = openai.OpenAI(api_key=OPENAI_API_KEY)\n",
        "\n",
        "# ---------------------------\n",
        "\n",
        "# 0. corp_code 다운로드 및 변환\n",
        "import requests, zipfile, xml.etree.ElementTree as ET\n",
        "import pandas as pd\n",
        "\n",
        "def download_corp_code(api_key: str, save_path: str = \"CORPCODE.csv\"):\n",
        "    url = f\"https://opendart.fss.or.kr/api/corpCode.xml?crtfc_key={api_key}\"\n",
        "    zip_path = \"corp_code.zip\"\n",
        "\n",
        "# ---------------------------\n"
      ],
      "metadata": {
        "id": "PpEgPxhr7nxg"
      },
      "execution_count": 28,
      "outputs": []
    },
    {
      "cell_type": "code",
      "source": [
        "# 1. DART 원본 문서(zip) 다운로드\n",
        "# ---------------------------\n",
        "def download_dart_document_zip(crtfc_key: str, rcept_no: str) -> bytes:\n",
        "    \"\"\"\n",
        "    DART document.xml 엔드포인트로부터 zip 바이너리를 받아서 bytes로 반환.\n",
        "    에러가 나면 status/message를 출력하고 예외 발생.\n",
        "    \"\"\"\n",
        "    url = \"https://opendart.fss.or.kr/api/document.xml\"\n",
        "    params = {\n",
        "        \"crtfc_key\": crtfc_key,\n",
        "        \"rcept_no\": rcept_no\n",
        "    }\n",
        "    resp = requests.get(url, params=params, stream=True)\n",
        "    if resp.status_code != 200:\n",
        "        raise RuntimeError(f\"HTTP {resp.status_code} - {resp.text[:500]}\")\n",
        "    content = resp.content\n",
        "    if not content.startswith(b'PK'):\n",
        "        text = content.decode('utf-8', errors='ignore')\n",
        "        status = re.search(r\"<status>(.*?)</status>\", text)\n",
        "        message = re.search(r\"<message>(.*?)</message>\", text)\n",
        "        s = status.group(1) if status else \"UNKNOWN\"\n",
        "        m = message.group(1) if message else text[:200]\n",
        "        raise RuntimeError(f\"DART API error - status: {s}, message: {m}\")\n",
        "    return content\n",
        "\n",
        "# ---------------------------\n",
        "# 2. Zip 해제 & PDF/XML 파일 추출\n",
        "# ---------------------------\n",
        "def extract_documents_from_zip(zip_bytes: bytes, out_dir: str = None):\n",
        "    pdf_files = []\n",
        "    xml_files = []\n",
        "    with zipfile.ZipFile(io.BytesIO(zip_bytes)) as zf:\n",
        "        for name in zf.namelist():\n",
        "            data = zf.read(name)\n",
        "            if name.lower().endswith(\".pdf\"):\n",
        "                pdf_files.append((name, data))\n",
        "            elif name.lower().endswith(\".xml\"):\n",
        "                xml_files.append((name, data))\n",
        "            if out_dir:\n",
        "                os.makedirs(out_dir, exist_ok=True)\n",
        "                with open(os.path.join(out_dir, os.path.basename(name)), \"wb\") as f:\n",
        "                    f.write(data)\n",
        "    return pdf_files, xml_files\n",
        "\n",
        "# ---------------------------\n",
        "# 3. PDF 및 XML 텍스트 추출\n",
        "# ---------------------------\n",
        "def pdf_bytes_to_text(pdf_bytes: bytes) -> str:\n",
        "    with fitz.open(stream=pdf_bytes, filetype=\"pdf\") as doc:\n",
        "        return \"\".join([page.get_text() for page in doc])\n",
        "\n",
        "def xml_bytes_to_text(xml_bytes: bytes) -> str:\n",
        "    text = xml_bytes.decode(\"utf-8\", errors=\"ignore\")\n",
        "    return re.sub(r\"<[^>]+>\", \" \", text)\n",
        "\n",
        "# ---------------------------\n",
        "# 4. 전처리 및 요약 로직 동일\n",
        "# ---------------------------\n",
        "# (이전 전처리/토픽/요약 관련 코드 동일 유지)\n",
        "\n",
        "# ---------------------------\n",
        "# 5. 메인 플로우\n",
        "# ---------------------------\n",
        "if __name__ == \"__main__\":\n",
        "    company_name = input(\"기업명을 입력하세요: \").strip()\n",
        "    rcept_no = get_receipt_number_by_company(company_name, DART_API_KEY)  # 필수 인자 추가\n",
        "\n",
        "    print(\"📥 Zip 다운로드 중...\")\n",
        "    zip_bytes = download_dart_document_zip(DART_API_KEY, rcept_no)\n",
        "\n",
        "    print(\"🗂 PDF/XML 추출 중...\")\n",
        "    pdf_files, xml_files = extract_documents_from_zip(zip_bytes)\n",
        "    print(\"📦 압축 파일 내부 목록:\")\n",
        "    for name, _ in pdf_files + xml_files:\n",
        "        print(f\" - {name}\")\n",
        "\n",
        "    all_text = []\n",
        "    if pdf_files:\n",
        "        print(\"📄 PDF 텍스트 추출 중...\")\n",
        "        for name, data in pdf_files:\n",
        "            try:\n",
        "                t = pdf_bytes_to_text(data)\n",
        "                if t.strip():\n",
        "                    all_text.append(t)\n",
        "            except Exception as e:\n",
        "                print(f\"⚠️ {name} 추출 실패: {e}\")\n",
        "    elif xml_files:\n",
        "        print(\"📄 XML 텍스트 추출 중...\")\n",
        "        for name, data in xml_files:\n",
        "            try:\n",
        "                t = xml_bytes_to_text(data)\n",
        "                if t.strip():\n",
        "                    all_text.append(t)\n",
        "            except Exception as e:\n",
        "                print(f\"⚠️ {name} 추출 실패: {e}\")\n",
        "    else:\n",
        "        raise RuntimeError(\"❌ ZIP 내에 PDF 또는 XML 파일이 없습니다.\")\n",
        "\n",
        "    merged_text = preprocess_text(\"\\n\".join(all_text))\n",
        "    sentences = [s for s in split_sentences(merged_text) if is_valid_sentence(s)]\n",
        "    print(f\"📚 전처리 후 문장 수: {len(sentences)}\")\n",
        "\n",
        "    results = summarize_all(company_name, sentences)\n",
        "\n",
        "   # ✅ 파일 저장 경로에 기업명 및 API 호출 정보 포함\n",
        "save_path = f\"{rcept_no}_{company_name}_GPT요약_API_호출.txt\"\n",
        "with open(save_path, \"w\", encoding=\"utf-8\") as f:\n",
        "    for sec, summ in results.items():\n",
        "        if \"해당 토픽 관련 정보 없음.\" in summ:\n",
        "            continue\n",
        "        f.write(f\"\\n\\n## {sec}\\n{summ}\")\n",
        "\n",
        "print(f\"\\n✅ 요약 저장 경로: {os.path.abspath(save_path)}\")\n",
        "\n",
        "# ✅ 저장 파일 내용 출력\n",
        "with open(save_path, \"r\", encoding=\"utf-8\") as f:\n",
        "    print(f.read())\n",
        "\n",
        "# ✅ 압축 해제된 파일 경로 출력\n",
        "print(\"\\n📁 압축 해제된 파일 경로:\")\n",
        "print(f\"→ 현재 디렉토리 기준: {os.getcwd()}\")\n",
        "if pdf_files or xml_files:\n",
        "    for name, _ in pdf_files + xml_files:\n",
        "        print(f\"   - {os.path.abspath(os.path.join(os.getcwd(), name))}\")\n"
      ],
      "metadata": {
        "colab": {
          "base_uri": "https://localhost:8080/"
        },
        "id": "zcNeSL9B7ilm",
        "outputId": "302cc65e-588f-45f9-d3ca-1f3539102eb8"
      },
      "execution_count": 38,
      "outputs": [
        {
          "output_type": "stream",
          "name": "stdout",
          "text": [
            "기업명을 입력하세요: LG\n",
            "📥 Zip 다운로드 중...\n",
            "🗂 PDF/XML 추출 중...\n",
            "📦 압축 파일 내부 목록:\n",
            " - 20250728000359.xml\n",
            "📄 XML 텍스트 추출 중...\n",
            "📚 전처리 후 문장 수: 849\n"
          ]
        },
        {
          "output_type": "stream",
          "name": "stderr",
          "text": [
            "Summarizing by topic: 100%|██████████| 5/5 [00:23<00:00,  4.76s/it]"
          ]
        },
        {
          "output_type": "stream",
          "name": "stdout",
          "text": [
            "\n",
            "✅ 요약 저장 경로: /content/20250728000359_LG_GPT요약_API_호출.txt\n",
            "\n",
            "\n",
            "## 📊 재무 요약\n",
            "최근 3개년 동안 LG의 매출액은 꾸준히 증가하여 2022년 262,522백만원, 2023년 278,943백만원, 2024년 288,707백만원을 기록했습니다. 영업이익은 2022년 48,213백만원에서 2023년 54,950백만원으로 상승한 후, 2024년에는 56,283백만원으로 증가했습니다. 당기순이익은 2022년 45,275백만원에서 2023년 48,262백만원으로 증가했으나, 2024년에는 32,453백만원으로 감소했습니다. 이러한 재무 성과는 LG의 지속적인 연구개발 투자와 개량신약 개발에 대한 집중적인 노력이 반영된 결과로 보입니다.\n",
            "\n",
            "## 🛡️ 리스크 및 부채\n",
            "LG는 변동이자부 장기차입금으로 인해 시장이자율 변동위험에 노출되어 있으며, 이를 관리하기 위해 고정이자율차입금과 변동이자율차입금의 균형을 유지하고 있습니다. 유동부채는 최근 48,195백만원으로 감소하였으며, 비유동부채는 19,527백만원으로 증가했습니다. 부채총계는 67,722백만원으로 이전보다 감소하였습니다. 금융자산과 부채는 공정가치로 평가되며, 유동성 리스크 관리를 위해 자산과 부채를 유동/비유동으로 구분하여 관리하고 있습니다. 담보 제공 및 지급보증과 관련된 구체적인 수치는 제공되지 않았습니다.\n",
            "\n",
            "## 🚀 사업 전략\n",
            "LG의 사업보고서에 따르면, 회사는 지속적인 R&D 투자를 통해 개량신약 및 신 제제 개선품목을 출시하고 있으며, 매출액 대비 11% 이상의 연구개발비를 투자하고 있습니다. 또한, 첨단 생산 설비 및 시설에 대한 투자를 지속하여 최신 설비와 장비를 구축하고, 우수한 품질의 의약품 생산에 집중하고 있습니다. LG는 신약 개발에도 지속적으로 투자하고 있으며, 이러한 노력을 통해 업계 최상위 수준의 R&D 능력을 유지하고 있습니다.\n",
            "\n",
            "## 🔬 기술 및 R&D\n",
            "LG는 연구개발(R&D)에 매출액 대비 11% 이상을 지속적으로 투자하며, 총 17개의 개량신약 및 신 제제 개선품목을 출시했습니다. 연구개발 조직은 세종, 전동, 서울에 위치한 세 개의 연구소로 구성되어 있으며, 총 75명의 연구인력을 보유하고 있습니다. 현재 진행 중인 연구개발 프로젝트로는 순환기질환 치료제 UI022, UI023의 국내 품목허가 심사와 호흡기질환 치료제 UI064의 임상 3상이 있습니다. LG는 또한 다양한 기술 제휴를 통해 글로벌 시장 진출을 확대하고 있으며, 특히 태국 시장 진출을 위한 MCQ Medical Co.Ltd.와의 계약을 체결하여 현지 허가 취득 후 제품을 유통할 계획입니다.\n",
            "\n",
            "## 🌐 글로벌 진출\n",
            "LG는 해외 시장 전략으로 글로벌 제약사 및 바이어와의 계약을 통한 기술 수출과 해외 임상을 통해 유럽, 중동, 아프리카 등으로의 진출을 목표로 하고 있습니다. 수출 비중은 전체 매출의 10% 내외이며, 해외 지사를 통한 현지 공장 생산 및 판매 방법을 확대할 계획입니다. 특히, 동남아 및 남미 지역에 판매망을 보유하고 수출을 강화하고 있으며, 해외 법인을 통해 수출 및 매출 확대를 도모하고 있습니다.\n",
            "\n",
            "📁 압축 해제된 파일 경로:\n",
            "→ 현재 디렉토리 기준: /content\n",
            "   - /content/20250728000359.xml\n"
          ]
        },
        {
          "output_type": "stream",
          "name": "stderr",
          "text": [
            "\n"
          ]
        }
      ]
    },
    {
      "cell_type": "code",
      "source": [
        "\n",
        "    # ✅ 압축 해제된 파일 경로 출력\n",
        "    print(\"\\n📁 압축 해제된 파일 경로:\")\n",
        "    print(f\"→ 현재 디렉토리 기준: {os.getcwd()}\")\n",
        "    if pdf_files or xml_files:\n",
        "        for name, _ in pdf_files + xml_files:\n",
        "            print(f\"   - {os.path.abspath(os.path.join(os.getcwd(), name))}\")\n",
        "\n",
        "    # ✅ 요약 결과 저장 경로 출력\n",
        "    print(f\"\\n📝 요약 결과 저장 경로: {os.path.abspath(save_path)}\")\n"
      ],
      "metadata": {
        "colab": {
          "base_uri": "https://localhost:8080/"
        },
        "id": "kpqIND87Khdl",
        "outputId": "59ae9f78-2856-4690-f92b-399f6ec6a151"
      },
      "execution_count": 34,
      "outputs": [
        {
          "output_type": "stream",
          "name": "stdout",
          "text": [
            "\n",
            "📁 압축 해제된 파일 경로:\n",
            "→ 현재 디렉토리 기준: /content\n",
            "   - /content/20250728000359.xml\n",
            "\n",
            "📝 요약 결과 저장 경로: /content/20250728000359_GPT요약.txt\n"
          ]
        }
      ]
    },
    {
      "cell_type": "code",
      "source": [],
      "metadata": {
        "id": "obEX5pbxJbKW"
      },
      "execution_count": null,
      "outputs": []
    }
  ]
}
