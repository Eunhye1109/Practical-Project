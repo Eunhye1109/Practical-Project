{
  "nbformat": 4,
  "nbformat_minor": 0,
  "metadata": {
    "colab": {
      "provenance": [],
      "authorship_tag": "ABX9TyNxKvqtpoB1f6fOlL2KZj+y",
      "include_colab_link": true
    },
    "kernelspec": {
      "name": "python3",
      "display_name": "Python 3"
    },
    "language_info": {
      "name": "python"
    }
  },
  "cells": [
    {
      "cell_type": "markdown",
      "metadata": {
        "id": "view-in-github",
        "colab_type": "text"
      },
      "source": [
        "<a href=\"https://colab.research.google.com/github/Eunhye1109/Practical-Project/blob/EH/250728_OpenAI_2%EC%B0%A8_test_%EC%B5%9C%EC%9D%80%ED%98%9C.ipynb\" target=\"_parent\"><img src=\"https://colab.research.google.com/assets/colab-badge.svg\" alt=\"Open In Colab\"/></a>"
      ]
    },
    {
      "cell_type": "markdown",
      "source": [
        "## 1차 OpenAI 자연어처리 성공 코드"
      ],
      "metadata": {
        "id": "KLoRBQzHv0LN"
      }
    },
    {
      "cell_type": "code",
      "source": [
        "# ✅ 0. 필수 설치\n",
        "!pip install --quiet openai PyMuPDF\n",
        "\n",
        "# ✅ 1. Google Drive 마운트\n",
        "from google.colab import drive\n",
        "drive.mount('/content/drive')\n",
        "\n",
        "# ✅ 2. 임포트\n",
        "import os, re, unicodedata\n",
        "import fitz\n",
        "import openai\n",
        "import torch\n",
        "from sentence_transformers import SentenceTransformer, util"
      ],
      "metadata": {
        "colab": {
          "base_uri": "https://localhost:8080/"
        },
        "id": "i0zr93qSvzcZ",
        "outputId": "77db291d-48f4-4c87-e341-f69e89c4feb5"
      },
      "execution_count": null,
      "outputs": [
        {
          "output_type": "stream",
          "name": "stdout",
          "text": [
            "\u001b[2K   \u001b[90m━━━━━━━━━━━━━━━━━━━━━━━━━━━━━━━━━━━━━━━━\u001b[0m \u001b[32m24.1/24.1 MB\u001b[0m \u001b[31m70.1 MB/s\u001b[0m eta \u001b[36m0:00:00\u001b[0m\n",
            "\u001b[?25hMounted at /content/drive\n"
          ]
        }
      ]
    },
    {
      "cell_type": "code",
      "source": [
        "# ✅ 3. OpenAI 최신 방식 (openai>=1.0.0)\n",
        "client = openai.OpenAI(api_key=\"키를 입력하세요\")  # ← 본인의 키 입력\n",
        "\n",
        "# ✅ 4. 사용자 입력\n",
        "company = input(\"요약할 기업명을 입력하세요: \").strip()\n",
        "company = unicodedata.normalize(\"NFC\", company)\n",
        "\n",
        "# ✅ 5. PDF 폴더 직접 지정\n",
        "search_folder = \"/content/drive/MyDrive/2. 취업 부업/7. SW개발자과정/3. 실전프로젝트/[실전] 재무 관련 데이터_호성 팀/PDF 사업 보고서\"\n",
        "assert os.path.exists(search_folder), \"❌ 지정한 PDF 폴더 경로가 존재하지 않습니다.\"\n",
        "\n",
        "# ✅ 6. PDF 파일 탐색\n",
        "files = os.listdir(search_folder)\n",
        "matched = [f for f in files if company in unicodedata.normalize(\"NFC\", f) and f.lower().endswith(\".pdf\")]\n",
        "if not matched:\n",
        "    raise FileNotFoundError(f\"❌ '{company}' 관련 PDF 파일을 찾을 수 없습니다.\")\n",
        "pdf_path = os.path.join(search_folder, matched[0])\n",
        "print(\"✅ 찾은 PDF:\", pdf_path)\n",
        "\n",
        "# ✅ 7. PDF → 텍스트 추출\n",
        "with fitz.open(pdf_path) as doc:\n",
        "    raw_text = \"\".join([page.get_text() for page in doc])\n",
        "\n",
        "# ✅ 8. 텍스트 전처리 및 문장 필터링\n",
        "text = re.sub(r'\\[\\d+\\]', '', raw_text)\n",
        "text = re.sub(r'\\s+', ' ', text)\n",
        "sentences = re.split(r'(?<=[.?!])\\s+', text)\n",
        "\n",
        "def is_valid(s):\n",
        "    s = s.strip()\n",
        "    return len(s) > 10 and sum(c.isdigit() for c in s)/len(s) < 0.2 and len(re.findall(r'[가-힣a-zA-Z]', s)) >= 5\n",
        "\n",
        "filtered = [s for s in sentences if is_valid(s)]\n",
        "print(f\"📚 유효 문장 수: {len(filtered)}\")\n",
        "\n",
        "# ✅ 9. 요약 주제 정의\n",
        "topics = {\n",
        "    \"📊 재무 요약\": \"최근 3개년 손익계산서를 기준으로 매출액, 영업이익, 당기순이익 등을 요약하세요.\",\n",
        "    \"🛡️ 리스크 및 부채\": \"부채, 유동성 리스크, 지급보증, 담보 제공 등과 관련된 내용을 요약하세요.\",\n",
        "    \"🚀 사업 전략\": \"신규 사업, 투자 계획, 성장 전략 등을 요약하세요.\",\n",
        "    \"🔬 기술 및 R&D\": \"연구개발 현황, 기술 파이프라인, 기술 제휴 등을 요약하세요.\",\n",
        "    \"🌐 글로벌 진출\": \"해외 시장 전략, 수출 확대, 해외 법인 관련 내용을 요약하세요.\",\n",
        "    }\n",
        "\n",
        "# ✅ 10. GPT 요약 함수\n",
        "def gpt_summarize_section(text, topic_instruction):\n",
        "    prompt = f\"\"\"다음은 한국 기업의 사업보고서 일부입니다.\n",
        "\n",
        "요약 주제:\n",
        "{topic_instruction}\n",
        "\n",
        "아래 텍스트를 기반으로 한 문단(3~5문장)으로 요약해 주세요.\n",
        "\n",
        "<본문>\n",
        "{text[:2000]}\"\"\"  # 토큰 초과 방지\n",
        "\n",
        "    try:\n",
        "        response = client.chat.completions.create(\n",
        "            model=\"gpt-4o\",\n",
        "            messages=[{\"role\": \"user\", \"content\": prompt}],\n",
        "            temperature=0.4,\n",
        "        )\n",
        "        return response.choices[0].message.content.strip()\n",
        "    except Exception as e:\n",
        "        return f\"❌ 요약 실패: {e}\"\n",
        "\n",
        "# ✅ 11. 요약 실행\n",
        "text_sample = \" \".join(filtered[:300])\n",
        "results = {}\n",
        "for sec, inst in topics.items():\n",
        "    results[sec] = gpt_summarize_section(text_sample, inst)\n",
        "\n",
        "# ✅ 12. 결과 출력 및 저장\n",
        "output_txt = \"\"\n",
        "for sec, summ in results.items():\n",
        "    output_txt += f\"\\n\\n## {sec}\\n{summ}\"\n",
        "\n",
        "output_path = pdf_path.replace(\".pdf\", \"_GPT요약.txt\")\n",
        "with open(output_path, \"w\", encoding=\"utf-8\") as f:\n",
        "    f.write(output_txt.strip())\n",
        "\n",
        "print(\"✅ GPT 요약 완료! 저장 위치:\", output_path)\n",
        "print(output_txt)\n"
      ],
      "metadata": {
        "colab": {
          "base_uri": "https://localhost:8080/"
        },
        "id": "gcYkhmZDv5BN",
        "outputId": "b9871617-aa6f-4665-c38d-7cc4efb1bcaa"
      },
      "execution_count": null,
      "outputs": [
        {
          "output_type": "stream",
          "name": "stdout",
          "text": [
            "요약할 기업명을 입력하세요: 카카오\n",
            "✅ 찾은 PDF: /content/drive/MyDrive/2. 취업 부업/7. SW개발자과정/3. 실전프로젝트/[실전] 재무 관련 데이터_호성 팀/PDF 사업 보고서/카카오 [기재정정]사업보고서 (2024.12).pdf\n",
            "📚 유효 문장 수: 3499\n",
            "✅ GPT 요약 완료! 저장 위치: /content/drive/MyDrive/2. 취업 부업/7. SW개발자과정/3. 실전프로젝트/[실전] 재무 관련 데이터_호성 팀/PDF 사업 보고서/카카오 [기재정정]사업보고서 (2024.12)_GPT요약.txt\n",
            "\n",
            "\n",
            "## 📊 재무 요약\n",
            "최근 3개년 동안의 손익계산서를 기준으로 살펴보면, 이 한국 기업의 매출액은 꾸준히 증가하고 있는 추세를 보였습니다. 영업이익 또한 매출액 증가에 따라 상승세를 유지하며, 기업의 운영 효율성이 개선되고 있음을 나타냅니다. 당기순이익 역시 긍정적인 흐름을 보이며, 기업의 전반적인 재무 건전성이 강화되고 있음을 시사합니다. 이러한 재무 성과는 기업의 지속 가능한 성장 가능성을 뒷받침하고 있습니다.\n",
            "\n",
            "## 🛡️ 리스크 및 부채\n",
            "이 기업의 사업보고서에서는 부채와 관련하여 기업의 현재 부채 수준과 상환 계획을 명시하고 있습니다. 유동성 리스크는 단기적인 자금 조달의 어려움과 관련된 위험 요소로 언급되며, 이를 완화하기 위한 대책이 포함되어 있습니다. 또한, 기업은 특정 거래에 대해 지급보증을 제공하고 있으며, 이에 따른 재무적 영향을 평가하고 있습니다. 마지막으로, 담보 제공과 관련하여 기업이 보유한 자산을 담보로 제공한 내역과 그에 따른 책임이 설명되어 있습니다.\n",
            "\n",
            "## 🚀 사업 전략\n",
            "이 기업은 제조서비스업 분야에서의 성장을 위해 신규 사업을 추진하고 있으며, 이를 통해 시장 점유율을 확대하고자 합니다. 또한, 최신 기술 도입과 생산 설비 확장을 위한 투자를 계획하고 있어, 장기적으로는 제품 다양화와 품질 향상을 목표로 하고 있습니다. 이러한 전략은 경쟁력 강화를 통해 글로벌 시장에서의 입지를 강화하는 데 중점을 두고 있습니다.\n",
            "\n",
            "## 🔬 기술 및 R&D\n",
            "이 한국 기업의 사업보고서에 따르면, 연구개발 활동은 주요 전략적 초점으로 자리 잡고 있습니다. 회사는 다양한 기술 파이프라인을 구축하여 혁신적인 제품 개발을 추진하고 있으며, 이를 통해 시장 경쟁력을 강화하고 있습니다. 또한, 기술 제휴를 통해 외부 전문 지식과 자원을 활용하여 기술 개발을 가속화하고 있으며, 이러한 협력은 새로운 시장 진출과 기술적 우위를 확보하는 데 기여하고 있습니다. 연구개발과 기술 제휴는 회사의 장기적인 성장과 지속 가능한 발전을 위한 핵심 요소로 작용하고 있습니다.\n",
            "\n",
            "## 🌐 글로벌 진출\n",
            "이 한국 기업은 해외 시장에서의 경쟁력을 강화하기 위해 다양한 전략을 추진하고 있습니다. 수출 확대를 위해 주요 해외 시장에 맞춤형 제품과 서비스를 제공하며, 현지 고객의 요구에 부응하는 마케팅 전략을 수립하고 있습니다. 또한, 해외 법인의 설립 및 운영을 통해 글로벌 네트워크를 확장하고 있으며, 이를 통해 현지 시장에 대한 접근성을 높이고 있습니다. 이러한 전략은 장기적으로 기업의 글로벌 시장 점유율을 높이는 데 기여할 것으로 기대됩니다.\n"
          ]
        }
      ]
    },
    {
      "cell_type": "code",
      "source": [],
      "metadata": {
        "id": "zbsGpX2Wv-W-"
      },
      "execution_count": null,
      "outputs": []
    },
    {
      "cell_type": "markdown",
      "source": [
        "## 2차 자연어처리 성공 코드"
      ],
      "metadata": {
        "id": "gpjheagev-5P"
      }
    },
    {
      "cell_type": "code",
      "source": [
        "# ✅ 13. 2차 요약 시작: 1차 요약 기반 Executive Summary 생성\n",
        "\n",
        "# 2차 요약 주제 정의 (원하면 자유롭게 커스터마이즈 가능)\n",
        "second_topics = {\n",
        "    \"📊 재무 요약\": \"최근 3개년 손익계산서를 기준으로 매출액, 영업이익, 당기순이익 등을 요약하세요.\",\n",
        "    \"🛡️ 리스크 및 부채\": \"부채, 유동성 리스크, 지급보증, 담보 제공 등과 관련된 내용을 요약하세요.\",\n",
        "    \"🚀 사업 전략\": \"신규 사업, 투자 계획, 성장 전략 등을 요약하세요.\",\n",
        "    \"🔬 기술 및 R&D\": \"연구개발 현황, 기술 파이프라인, 기술 제휴 등을 요약하세요.\",\n",
        "    \"🌐 글로벌 진출\": \"해외 시장 전략, 수출 확대, 해외 법인 관련 내용을 요약하세요.\",\n",
        "}\n",
        "\n",
        "# GPT 호출 함수\n",
        "def gpt_second_pass(first_summary_text: str, topics: dict) -> str:\n",
        "    output_lines = []\n",
        "    for sec, inst in topics.items():\n",
        "        prompt = f\"\"\"당신은 금융 애널리스트입니다. 다음은 기업의 1차 요약본입니다.\n",
        "\n",
        "[요약 주제]\n",
        "{inst}\n",
        "\n",
        "[1차 요약]\n",
        "{first_summary_text}\n",
        "\n",
        "위 내용을 기반으로, 한 문장 내로, 그리고 중학생도 이해할 수 있을 만큼 쉬운 말로, 그러나 명확하고 구체적인 수치와 사례 기반으로 요약하세요.\n",
        "'이 한국 기업은', 이라는 말 대신 '이 기업은' 으로 대체하세요.\n",
        "\n",
        "\"\"\"\n",
        "        try:\n",
        "            resp = client.chat.completions.create(\n",
        "                model=\"gpt-4o\",\n",
        "                messages=[{\"role\": \"user\", \"content\": prompt}],\n",
        "                temperature=0.3,\n",
        "            )\n",
        "            content = resp.choices[0].message.content.strip()\n",
        "        except Exception as e:\n",
        "            content = f\"❌ 오류 발생: {e}\"\n",
        "        output_lines.append(f\"\\n\\n## {sec}\\n{content}\")\n",
        "    return \"# 2차 요약 결과\\n\" + \"\".join(output_lines).strip()\n",
        "\n",
        "\n",
        "# ✅ 14. 1차 요약 텍스트 불러오기\n",
        "with open(output_path, \"r\", encoding=\"utf-8\") as f:\n",
        "    first_summary_text = f.read()\n",
        "\n",
        "# ✅ 15. 2차 요약 생성\n",
        "second_summary_text = gpt_second_pass(first_summary_text, second_topics)\n",
        "\n",
        "# ✅ 16. 저장 경로 정의 및 저장\n",
        "second_output_path = output_path.replace(\"_GPT요약.txt\", \"_GPT2차요약.md\")\n",
        "with open(second_output_path, \"w\", encoding=\"utf-8\") as f:\n",
        "    f.write(second_summary_text)\n",
        "\n",
        "# ✅ 17. 완료 출력\n",
        "print(\"✅ 2차 요약 완료! 저장 위치:\", second_output_path)\n",
        "print(second_summary_text)\n"
      ],
      "metadata": {
        "colab": {
          "base_uri": "https://localhost:8080/"
        },
        "id": "VEj-BscVwAPR",
        "outputId": "bdf683c1-1b87-47b5-c4cb-972759ab61c8"
      },
      "execution_count": null,
      "outputs": [
        {
          "output_type": "stream",
          "name": "stdout",
          "text": [
            "✅ 2차 요약 완료! 저장 위치: /content/drive/MyDrive/2. 취업 부업/7. SW개발자과정/3. 실전프로젝트/[실전] 재무 관련 데이터_호성 팀/PDF 사업 보고서/카카오 [기재정정]사업보고서 (2024.12)_GPT2차요약.md\n",
            "# 2차 요약 결과\n",
            "## 📊 재무 요약\n",
            "이 기업은 지난 3년 동안 매출과 이익이 꾸준히 증가하고 있으며, 부채 관리와 기술 개발에 집중하면서 글로벌 시장에서도 입지를 넓히고 있습니다.\n",
            "\n",
            "## 🛡️ 리스크 및 부채\n",
            "이 기업은 부채를 관리하고 유동성 리스크를 줄이기 위해 상환 계획을 세우고 있으며, 특정 거래에 대해 지급보증을 제공하고 보유 자산을 담보로 활용하고 있습니다.\n",
            "\n",
            "## 🚀 사업 전략\n",
            "이 기업은 매출과 이익이 꾸준히 증가하고 있으며, 새로운 사업과 기술 개발에 투자하여 글로벌 시장에서 더 많은 제품을 팔고, 해외에 더 많은 지사를 세우려는 계획을 가지고 있습니다.\n",
            "\n",
            "## 🔬 기술 및 R&D\n",
            "이 기업은 다양한 기술 개발과 외부 협력을 통해 혁신적인 제품을 만들고 있으며, 이를 통해 시장에서 더 많은 경쟁력을 얻고 있습니다.\n",
            "\n",
            "## 🌐 글로벌 진출\n",
            "이 기업은 해외 시장에서 경쟁력을 높이기 위해 맞춤형 제품과 서비스를 제공하고, 해외 법인을 설립하여 수출을 늘리고 있습니다.\n"
          ]
        }
      ]
    },
    {
      "cell_type": "code",
      "source": [],
      "metadata": {
        "id": "G4NJZ1SwwuS5"
      },
      "execution_count": null,
      "outputs": []
    }
  ]
}