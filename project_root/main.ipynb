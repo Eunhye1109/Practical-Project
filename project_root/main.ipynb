{
 "cells": [
  {
   "cell_type": "markdown",
   "id": "ec84ce36-7b8e-4b25-a71f-6de5a20deb4c",
   "metadata": {},
   "source": [
    "# 메인 실행 진입점"
   ]
  },
  {
   "cell_type": "code",
   "execution_count": null,
   "id": "bc684157-edff-41dc-a7d0-388f5db612fb",
   "metadata": {},
   "outputs": [],
   "source": [
    "# main.py\n",
    "\n",
    "\"\"\"\n",
    "[사용법]\n",
    "단일 기업명을 입력하면 지정된 지표 분석 결과를 출력합니다.\n",
    "- 분석 항목: ROE, 부채비율, 유동비율, 영업이익률, 매출 성장률\n",
    "- 추후 plot/csv 저장 등 확장 가능\n",
    "\"\"\"\n",
    "\n",
    "from config import YEARS\n",
    "from utils.api import get_corp_code_dict\n",
    "\n",
    "from analysis.roe import calculate_roe\n",
    "from analysis.debt_ratio import calculate_debt_ratio\n",
    "from analysis.liquidity_ratio import calculate_liquidity_ratio\n",
    "from analysis.operating_margin import calculate_operating_margin\n",
    "from analysis.growth_metrics import calculate_sales_growth\n",
    "\n",
    "\n",
    "def run_full_analysis(corp_name: str):\n",
    "    corp_code_dict = get_corp_code_dict()\n",
    "    corp_code = corp_code_dict.get(corp_name)\n",
    "\n",
    "    if not corp_code:\n",
    "        print(f\"❌ 기업 코드 없음: {corp_name}\")\n",
    "        return\n",
    "\n",
    "    print(f\"\\n📊 {corp_name} 재무 지표 분석 결과\\n{'-'*40}\")\n",
    "    for year in YEARS:\n",
    "        roe = calculate_roe(corp_code, year)\n",
    "        debt = calculate_debt_ratio(corp_code, year)\n",
    "        liquid = calculate_liquidity_ratio(corp_code, year)\n",
    "        op_margin = calculate_operating_margin(corp_code, year)\n",
    "        growth = calculate_sales_growth(corp_code, year)\n",
    "\n",
    "        print(f\"[{year}]\")\n",
    "        print(f\"  ROE: {roe}%\")\n",
    "        print(f\"  부채비율: {debt}%\")\n",
    "        print(f\"  유동비율: {liquid}%\")\n",
    "        print(f\"  영업이익률: {op_margin}%\")\n",
    "        print(f\"  매출성장률: {growth}%\\n\")\n",
    "\n",
    "\n",
    "if __name__ == \"__main__\":\n",
    "    # 테스트용 예시\n",
    "    run_full_analysis(\"삼성전자\")\n"
   ]
  }
 ],
 "metadata": {
  "kernelspec": {
   "display_name": "Python [conda env:base] *",
   "language": "python",
   "name": "conda-base-py"
  },
  "language_info": {
   "codemirror_mode": {
    "name": "ipython",
    "version": 3
   },
   "file_extension": ".py",
   "mimetype": "text/x-python",
   "name": "python",
   "nbconvert_exporter": "python",
   "pygments_lexer": "ipython3",
   "version": "3.12.7"
  }
 },
 "nbformat": 4,
 "nbformat_minor": 5
}
