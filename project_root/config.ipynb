{
 "cells": [
  {
   "cell_type": "markdown",
   "id": "952f3c85-d69d-4549-8bbe-fe5548fa8b98",
   "metadata": {},
   "source": [
    "# 공통 설정"
   ]
  },
  {
   "cell_type": "code",
   "execution_count": null,
   "id": "e590c5d9-4b4b-4fc4-9f72-943fa8c3aa90",
   "metadata": {},
   "outputs": [],
   "source": [
    "# config.py\n",
    "\n",
    "\"\"\"\n",
    "[설정 파일]\n",
    "공통으로 사용하는 API KEY, 연도 목록 등을 정의\n",
    "\"\"\"\n",
    "\n",
    "API_KEY = \"YOUR_API_KEY_HERE\"  # 🔐 반드시 본인의 DART API 키로 교체하세요\n",
    "\n",
    "# 분석 대상 연도 (최근 3년 등으로 수정 가능)\n",
    "YEARS = [2021, 2022, 2023]\n",
    "\n",
    "# 결과 저장 경로 (선택)\n",
    "RESULT_DIR = \"./results/\"\n"
   ]
  }
 ],
 "metadata": {
  "kernelspec": {
   "display_name": "Python [conda env:base] *",
   "language": "python",
   "name": "conda-base-py"
  },
  "language_info": {
   "codemirror_mode": {
    "name": "ipython",
    "version": 3
   },
   "file_extension": ".py",
   "mimetype": "text/x-python",
   "name": "python",
   "nbconvert_exporter": "python",
   "pygments_lexer": "ipython3",
   "version": "3.12.7"
  }
 },
 "nbformat": 4,
 "nbformat_minor": 5
}
