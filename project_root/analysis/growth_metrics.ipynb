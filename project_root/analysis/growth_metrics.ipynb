{
 "cells": [
  {
   "cell_type": "markdown",
   "id": "d8ecf855-8534-4cce-b271-da47f7ebddb3",
   "metadata": {},
   "source": [
    "# 매출 성장률 등 기타 항목"
   ]
  },
  {
   "cell_type": "code",
   "execution_count": null,
   "id": "96ef377b-99cd-4f07-b900-942dbd3e3764",
   "metadata": {},
   "outputs": [],
   "source": []
  },
  {
   "cell_type": "code",
   "execution_count": null,
   "id": "12a2afa6-e95e-41e3-847e-eebb68a40488",
   "metadata": {},
   "outputs": [],
   "source": [
    "# analysis/growth_metrics.py\n",
    "\n",
    "\"\"\"\n",
    "[지표명] 매출 성장률 (Sales Growth Rate)\n",
    "[사용 컬럼]\n",
    "- 매출액 (당기, 전기)\n",
    "\n",
    "[공식]\n",
    "성장률 (%) = ((당기 매출 - 전기 매출) / 전기 매출) * 100\n",
    "\"\"\"\n",
    "\n",
    "from utils.api import fetch_financial_data\n",
    "from utils.parser import parse_amount\n",
    "\n",
    "def get_sales(corp_code: str, year: int) -> int | None:\n",
    "    \"\"\"특정 연도의 매출액을 반환합니다.\"\"\"\n",
    "    data = fetch_financial_data(corp_code, year)\n",
    "    if not data or \"list\" not in data:\n",
    "        return None\n",
    "\n",
    "    for item in data[\"list\"]:\n",
    "        name = item.get(\"account_nm\", \"\")\n",
    "        val = parse_amount(item.get(\"thstrm_amount\"))\n",
    "\n",
    "        if (\"매출액\" in name or \"수익\" in name or \"매출\" in name):\n",
    "            return val\n",
    "\n",
    "    return None\n",
    "\n",
    "def calculate_sales_growth(corp_code: str, year: int) -> float | None:\n",
    "    \"\"\"전년도 대비 해당 연도의 매출 성장률을 계산합니다.\"\"\"\n",
    "    current_sales = get_sales(corp_code, year)\n",
    "    prev_sales = get_sales(corp_code, year - 1)\n",
    "\n",
    "    if current_sales and prev_sales and prev_sales != 0:\n",
    "        return round(((current_sales - prev_sales) / prev_sales) * 100, 2)\n",
    "\n",
    "    return None\n"
   ]
  }
 ],
 "metadata": {
  "kernelspec": {
   "display_name": "Python [conda env:base] *",
   "language": "python",
   "name": "conda-base-py"
  },
  "language_info": {
   "codemirror_mode": {
    "name": "ipython",
    "version": 3
   },
   "file_extension": ".py",
   "mimetype": "text/x-python",
   "name": "python",
   "nbconvert_exporter": "python",
   "pygments_lexer": "ipython3",
   "version": "3.12.7"
  }
 },
 "nbformat": 4,
 "nbformat_minor": 5
}
