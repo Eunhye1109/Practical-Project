{
 "cells": [
  {
   "cell_type": "markdown",
   "id": "de7ce4bb-790d-4a20-8008-bd5e08dc464c",
   "metadata": {},
   "source": [
    "# ROE 계산 함수"
   ]
  },
  {
   "cell_type": "markdown",
   "id": "e04ec58c-574e-4676-8d3c-7cd10decbd66",
   "metadata": {},
   "source": [
    "## 1. ROE란 무엇일까요\n",
    "\n",
    "ROE(자기자본이익률)는 1년간 벌어들인 당기순이익을 자본총계로 나누어 계산합니다.\n",
    "\n",
    "여기서 당기순이익은 기업이 각종 비용을 뺀 최종적으로 벌어들인 돈이며, 자본총계는 자산에서 부채를 제외한 것으로 주주의 몫입니다.\n",
    "\n",
    "즉, ROE는 주주의 돈으로 얼만큼의 이익을 냈는지 알 수 있는 지표입니다."
   ]
  },
  {
   "cell_type": "code",
   "execution_count": null,
   "id": "197812d2-67e3-4f88-89d8-6c8c51878861",
   "metadata": {},
   "outputs": [],
   "source": [
    "# analysis/roe.py\n",
    "\n",
    "\"\"\"\n",
    "[지표명] ROE (자기자본이익률)\n",
    "[사용 컬럼]\n",
    "- 당기순이익 (순이익)\n",
    "- 자본총계\n",
    "\n",
    "[공식]\n",
    "ROE (%) = (당기순이익 / 자본총계) * 100\n",
    "\"\"\"\n",
    "\n",
    "from utils.api import fetch_financial_data\n",
    "from utils.parser import parse_amount\n",
    "\n",
    "def calculate_roe(corp_code: str, year: int) -> float | None:\n",
    "    \"\"\"주어진 기업 코드와 연도에 대해 ROE를 계산합니다.\"\"\"\n",
    "    data = fetch_financial_data(corp_code, year)\n",
    "    if not data or \"list\" not in data:\n",
    "        return None\n",
    "\n",
    "    net_income = None\n",
    "    equity = None\n",
    "\n",
    "    for item in data[\"list\"]:\n",
    "        name = item.get(\"account_nm\", \"\")\n",
    "        val = parse_amount(item.get(\"thstrm_amount\"))\n",
    "\n",
    "        if \"순이익\" in name and net_income is None:\n",
    "            net_income = val\n",
    "        elif (\"자본총계\" in name or \"총자본\" in name) and equity is None:\n",
    "            equity = val\n",
    "\n",
    "    if net_income and equity and equity != 0:\n",
    "        return round((net_income / equity) * 100, 2)\n",
    "\n",
    "    return None\n"
   ]
  }
 ],
 "metadata": {
  "kernelspec": {
   "display_name": "Python [conda env:base] *",
   "language": "python",
   "name": "conda-base-py"
  },
  "language_info": {
   "codemirror_mode": {
    "name": "ipython",
    "version": 3
   },
   "file_extension": ".py",
   "mimetype": "text/x-python",
   "name": "python",
   "nbconvert_exporter": "python",
   "pygments_lexer": "ipython3",
   "version": "3.12.7"
  }
 },
 "nbformat": 4,
 "nbformat_minor": 5
}
