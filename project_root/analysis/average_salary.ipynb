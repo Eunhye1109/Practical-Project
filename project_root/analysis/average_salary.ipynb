{
 "cells": [
  {
   "cell_type": "code",
   "execution_count": null,
   "id": "51c97541-12db-4c14-967f-dffaa2543069",
   "metadata": {},
   "outputs": [],
   "source": [
    "# 평균 급여 계산용\n",
    "\n",
    "# analysis/average_salary.py\n",
    "\n",
    "\"\"\"\n",
    "[지표명] 평균 급여\n",
    "[출처] 사업보고서 - '종업원 현황' 항목\n",
    "\"\"\"\n",
    "\n",
    "def extract_average_salary(corp_code: str, year: int) -> int | None:\n",
    "    # 사업보고서 내 평균 보수 항목 파싱\n",
    "    ...\n"
   ]
  }
 ],
 "metadata": {
  "kernelspec": {
   "display_name": "Python [conda env:base] *",
   "language": "python",
   "name": "conda-base-py"
  },
  "language_info": {
   "codemirror_mode": {
    "name": "ipython",
    "version": 3
   },
   "file_extension": ".py",
   "mimetype": "text/x-python",
   "name": "python",
   "nbconvert_exporter": "python",
   "pygments_lexer": "ipython3",
   "version": "3.12.7"
  }
 },
 "nbformat": 4,
 "nbformat_minor": 5
}
