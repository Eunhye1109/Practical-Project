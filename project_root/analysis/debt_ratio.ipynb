{
 "cells": [
  {
   "cell_type": "markdown",
   "id": "720e673f-1131-4bdd-8cb9-c02e54601830",
   "metadata": {},
   "source": [
    "# 부채비율 계산 함수"
   ]
  },
  {
   "cell_type": "code",
   "execution_count": null,
   "id": "c8f38717-b9a4-4fb0-88f3-6de1c0a3acbd",
   "metadata": {},
   "outputs": [],
   "source": [
    "# analysis/debt_ratio.py\n",
    "\n",
    "\"\"\"\n",
    "[지표명] 부채비율 (Debt Ratio)\n",
    "[사용 컬럼]\n",
    "- 총부채 (부채총계)\n",
    "- 자본총계\n",
    "\n",
    "[공식]\n",
    "부채비율 (%) = (총부채 / 자본총계) * 100\n",
    "\"\"\"\n",
    "\n",
    "from utils.api import fetch_financial_data\n",
    "from utils.parser import parse_amount\n",
    "\n",
    "def calculate_debt_ratio(corp_code: str, year: int) -> float | None:\n",
    "    \"\"\"주어진 기업 코드와 연도에 대해 부채비율을 계산합니다.\"\"\"\n",
    "    data = fetch_financial_data(corp_code, year)\n",
    "    if not data or \"list\" not in data:\n",
    "        return None\n",
    "\n",
    "    total_liabilities = None\n",
    "    equity = None\n",
    "\n",
    "    for item in data[\"list\"]:\n",
    "        name = item.get(\"account_nm\", \"\")\n",
    "        val = parse_amount(item.get(\"thstrm_amount\"))\n",
    "\n",
    "        if (\"부채총계\" in name or \"총부채\" in name) and total_liabilities is None:\n",
    "            total_liabilities = val\n",
    "        elif (\"자본총계\" in name or \"총자본\" in name) and equity is None:\n",
    "            equity = val\n",
    "\n",
    "    if total_liabilities and equity and equity != 0:\n",
    "        return round((total_liabilities / equity) * 100, 2)\n",
    "\n",
    "    return None\n"
   ]
  }
 ],
 "metadata": {
  "kernelspec": {
   "display_name": "Python [conda env:base] *",
   "language": "python",
   "name": "conda-base-py"
  },
  "language_info": {
   "codemirror_mode": {
    "name": "ipython",
    "version": 3
   },
   "file_extension": ".py",
   "mimetype": "text/x-python",
   "name": "python",
   "nbconvert_exporter": "python",
   "pygments_lexer": "ipython3",
   "version": "3.12.7"
  }
 },
 "nbformat": 4,
 "nbformat_minor": 5
}
