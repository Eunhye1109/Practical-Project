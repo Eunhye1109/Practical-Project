{
 "cells": [
  {
   "cell_type": "markdown",
   "id": "adbb5817-8f0f-434f-9dc6-e7d15023e6ea",
   "metadata": {},
   "source": [
    "# 유동비율 계산 함수"
   ]
  },
  {
   "cell_type": "code",
   "execution_count": null,
   "id": "31469d6a-2f92-4b66-b725-53bd759aadd6",
   "metadata": {},
   "outputs": [],
   "source": [
    "# analysis/liquidity_ratio.py\n",
    "\n",
    "\"\"\"\n",
    "[지표명] 유동비율 (Liquidity Ratio)\n",
    "[사용 컬럼]\n",
    "- 유동자산\n",
    "- 유동부채\n",
    "\n",
    "[공식]\n",
    "유동비율 (%) = (유동자산 / 유동부채) * 100\n",
    "\"\"\"\n",
    "\n",
    "from utils.api import fetch_financial_data\n",
    "from utils.parser import parse_amount\n",
    "\n",
    "def calculate_liquidity_ratio(corp_code: str, year: int) -> float | None:\n",
    "    \"\"\"주어진 기업 코드와 연도에 대해 유동비율을 계산합니다.\"\"\"\n",
    "    data = fetch_financial_data(corp_code, year)\n",
    "    if not data or \"list\" not in data:\n",
    "        return None\n",
    "\n",
    "    current_assets = None\n",
    "    current_liabilities = None\n",
    "\n",
    "    for item in data[\"list\"]:\n",
    "        name = item.get(\"account_nm\", \"\")\n",
    "        val = parse_amount(item.get(\"thstrm_amount\"))\n",
    "\n",
    "        if \"유동자산\" in name and current_assets is None:\n",
    "            current_assets = val\n",
    "        elif \"유동부채\" in name and current_liabilities is None:\n",
    "            current_liabilities = val\n",
    "\n",
    "    if current_assets and current_liabilities and current_liabilities != 0:\n",
    "        return round((current_assets / current_liabilities) * 100, 2)\n",
    "\n",
    "    return None\n"
   ]
  }
 ],
 "metadata": {
  "kernelspec": {
   "display_name": "Python [conda env:base] *",
   "language": "python",
   "name": "conda-base-py"
  },
  "language_info": {
   "codemirror_mode": {
    "name": "ipython",
    "version": 3
   },
   "file_extension": ".py",
   "mimetype": "text/x-python",
   "name": "python",
   "nbconvert_exporter": "python",
   "pygments_lexer": "ipython3",
   "version": "3.12.7"
  }
 },
 "nbformat": 4,
 "nbformat_minor": 5
}
