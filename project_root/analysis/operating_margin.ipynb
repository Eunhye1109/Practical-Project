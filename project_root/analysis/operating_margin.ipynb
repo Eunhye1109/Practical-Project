{
 "cells": [
  {
   "cell_type": "markdown",
   "id": "0d20e2f9-3f9f-46c8-b007-d2ea3381ce5a",
   "metadata": {},
   "source": [
    "# 영업이익률"
   ]
  },
  {
   "cell_type": "code",
   "execution_count": null,
   "id": "030863a4-2e4d-448d-b1cf-5dcb70743c55",
   "metadata": {},
   "outputs": [],
   "source": [
    "# analysis/operating_margin.py\n",
    "\n",
    "\"\"\"\n",
    "[지표명] 영업이익률 (Operating Profit Margin)\n",
    "[사용 컬럼]\n",
    "- 영업이익\n",
    "- 매출액 (또는 수익)\n",
    "\n",
    "[공식]\n",
    "영업이익률 (%) = (영업이익 / 매출액) * 100\n",
    "\"\"\"\n",
    "\n",
    "from utils.api import fetch_financial_data\n",
    "from utils.parser import parse_amount\n",
    "\n",
    "def calculate_operating_margin(corp_code: str, year: int) -> float | None:\n",
    "    \"\"\"주어진 기업 코드와 연도에 대해 영업이익률을 계산합니다.\"\"\"\n",
    "    data = fetch_financial_data(corp_code, year)\n",
    "    if not data or \"list\" not in data:\n",
    "        return None\n",
    "\n",
    "    operating_income = None\n",
    "    revenue = None\n",
    "\n",
    "    for item in data[\"list\"]:\n",
    "        name = item.get(\"account_nm\", \"\")\n",
    "        val = parse_amount(item.get(\"thstrm_amount\"))\n",
    "\n",
    "        if \"영업이익\" in name and operating_income is None:\n",
    "            operating_income = val\n",
    "        elif (\"매출액\" in name or \"수익\" in name or \"매출\" in name) and revenue is None:\n",
    "            revenue = val\n",
    "\n",
    "    if operating_income and revenue and revenue != 0:\n",
    "        return round((operating_income / revenue) * 100, 2)\n",
    "\n",
    "    return None\n"
   ]
  }
 ],
 "metadata": {
  "kernelspec": {
   "display_name": "Python [conda env:base] *",
   "language": "python",
   "name": "conda-base-py"
  },
  "language_info": {
   "codemirror_mode": {
    "name": "ipython",
    "version": 3
   },
   "file_extension": ".py",
   "mimetype": "text/x-python",
   "name": "python",
   "nbconvert_exporter": "python",
   "pygments_lexer": "ipython3",
   "version": "3.12.7"
  }
 },
 "nbformat": 4,
 "nbformat_minor": 5
}
