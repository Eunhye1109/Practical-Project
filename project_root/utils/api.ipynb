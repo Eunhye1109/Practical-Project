{
 "cells": [
  {
   "cell_type": "markdown",
   "id": "d59b11af-5a1c-4bb1-be85-175cf33949c1",
   "metadata": {},
   "source": [
    "# 기업 코드, API 요청"
   ]
  },
  {
   "cell_type": "code",
   "execution_count": null,
   "id": "49b3948d-7418-4176-87f9-e9793a3fe104",
   "metadata": {},
   "outputs": [],
   "source": [
    "# utils/api.py\n",
    "\n",
    "\"\"\"\n",
    "[기능] DART API 관련 공통 유틸\n",
    "- 기업 코드 조회\n",
    "- 재무 데이터 요청\n",
    "\"\"\"\n",
    "\n",
    "import requests\n",
    "import zipfile\n",
    "import io\n",
    "import xml.etree.ElementTree as ET\n",
    "import os\n",
    "from config import API_KEY\n",
    "\n",
    "CORP_XML_PATH = \"CORPCODE.xml\"\n",
    "\n",
    "\n",
    "def download_corp_code_xml():\n",
    "    \"\"\"DART에서 기업코드 XML 파일 다운로드 및 압축 해제\"\"\"\n",
    "    url = \"https://opendart.fss.or.kr/api/corpCode.xml\"\n",
    "    res = requests.get(url, params={\"crtfc_key\": API_KEY})\n",
    "    with zipfile.ZipFile(io.BytesIO(res.content)) as zf:\n",
    "        zf.extractall()\n",
    "\n",
    "\n",
    "def get_corp_code_dict():\n",
    "    \"\"\"기업명 → 기업코드 매핑 딕셔너리 생성\"\"\"\n",
    "    if not os.path.exists(CORP_XML_PATH):\n",
    "        download_corp_code_xml()\n",
    "\n",
    "    tree = ET.parse(CORP_XML_PATH)\n",
    "    root = tree.getroot()\n",
    "    return {\n",
    "        el.find(\"corp_name\").text.strip(): el.find(\"corp_code\").text.strip()\n",
    "        for el in root.findall(\"list\")\n",
    "    }\n",
    "\n",
    "def fetch_financial_data(corp_code: str, year: int) -> dict:\n",
    "    \"\"\"특정 기업, 연도에 대해 단일회사 전체 재무제표 조회 (연결 기준)\"\"\"\n",
    "    url = \"https://opendart.fss.or.kr/api/fnlttSinglAcntAll.json\"\n",
    "    params = {\n",
    "        \"crtfc_key\": API_KEY,\n",
    "        \"corp_code\": corp_code,\n",
    "        \"bsns_year\": year,\n",
    "        \"reprt_code\": \"11011\",  # 사업보고서\n",
    "        \"fs_div\": \"CFS\"  # 연결재무제표 기준\n",
    "    }\n",
    "    try:\n",
    "        return requests.get(url, params=params, timeout=10).json()\n",
    "    except Exception:\n",
    "        return {}\n"
   ]
  }
 ],
 "metadata": {
  "kernelspec": {
   "display_name": "Python [conda env:base] *",
   "language": "python",
   "name": "conda-base-py"
  },
  "language_info": {
   "codemirror_mode": {
    "name": "ipython",
    "version": 3
   },
   "file_extension": ".py",
   "mimetype": "text/x-python",
   "name": "python",
   "nbconvert_exporter": "python",
   "pygments_lexer": "ipython3",
   "version": "3.12.7"
  }
 },
 "nbformat": 4,
 "nbformat_minor": 5
}
