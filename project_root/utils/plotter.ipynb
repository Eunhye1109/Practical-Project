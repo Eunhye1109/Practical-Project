{
 "cells": [
  {
   "cell_type": "markdown",
   "id": "d2b614ee-7204-403f-b948-492f442b7f62",
   "metadata": {},
   "source": [
    "# 차트 생성 및 저장"
   ]
  },
  {
   "cell_type": "code",
   "execution_count": null,
   "id": "d56fd94a-0e77-432c-8764-6e27e6be5862",
   "metadata": {},
   "outputs": [],
   "source": []
  }
 ],
 "metadata": {
  "kernelspec": {
   "display_name": "Python [conda env:base] *",
   "language": "python",
   "name": "conda-base-py"
  },
  "language_info": {
   "codemirror_mode": {
    "name": "ipython",
    "version": 3
   },
   "file_extension": ".py",
   "mimetype": "text/x-python",
   "name": "python",
   "nbconvert_exporter": "python",
   "pygments_lexer": "ipython3",
   "version": "3.12.7"
  }
 },
 "nbformat": 4,
 "nbformat_minor": 5
}
