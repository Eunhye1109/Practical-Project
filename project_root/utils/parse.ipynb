{
 "cells": [
  {
   "cell_type": "markdown",
   "id": "7ef1ceae-76eb-4c4a-a57a-bd75f9e86c34",
   "metadata": {},
   "source": [
    "# 컬럼 파싱 및 금액 정제"
   ]
  },
  {
   "cell_type": "code",
   "execution_count": null,
   "id": "1639d282-92f9-4f45-9905-55a0734acbd9",
   "metadata": {},
   "outputs": [],
   "source": [
    "# utils/parser.py\n",
    "\n",
    "\"\"\"\n",
    "[기능] DART 재무 데이터 파싱 유틸\n",
    "- 금액 문자열 정제\n",
    "- 향후 컬럼 매핑/정규화용 함수도 여기에 추가 예정\n",
    "\"\"\"\n",
    "\n",
    "def parse_amount(value: str) -> int | None:\n",
    "    \"\"\"금액 문자열(예: '1,234,567') → 정수형으로 변환\"\"\"\n",
    "    if not value or value in [\"\", \"-\", None]:\n",
    "        return None\n",
    "    try:\n",
    "        return int(value.replace(\",\", \"\").replace(\" \", \"\").strip())\n",
    "    except ValueError:\n",
    "        return None\n"
   ]
  }
 ],
 "metadata": {
  "kernelspec": {
   "display_name": "Python [conda env:base] *",
   "language": "python",
   "name": "conda-base-py"
  },
  "language_info": {
   "codemirror_mode": {
    "name": "ipython",
    "version": 3
   },
   "file_extension": ".py",
   "mimetype": "text/x-python",
   "name": "python",
   "nbconvert_exporter": "python",
   "pygments_lexer": "ipython3",
   "version": "3.12.7"
  }
 },
 "nbformat": 4,
 "nbformat_minor": 5
}
