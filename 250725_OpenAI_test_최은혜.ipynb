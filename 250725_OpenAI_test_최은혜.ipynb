{
  "nbformat": 4,
  "nbformat_minor": 0,
  "metadata": {
    "colab": {
      "provenance": [],
      "authorship_tag": "ABX9TyO15ZA6dro+eeiX6YobDyAO",
      "include_colab_link": true
    },
    "kernelspec": {
      "name": "python3",
      "display_name": "Python 3"
    },
    "language_info": {
      "name": "python"
    }
  },
  "cells": [
    {
      "cell_type": "markdown",
      "metadata": {
        "id": "view-in-github",
        "colab_type": "text"
      },
      "source": [
        "<a href=\"https://colab.research.google.com/github/Eunhye1109/Practical-Project/blob/EH/250725_OpenAI_test_%EC%B5%9C%EC%9D%80%ED%98%9C.ipynb\" target=\"_parent\"><img src=\"https://colab.research.google.com/assets/colab-badge.svg\" alt=\"Open In Colab\"/></a>"
      ]
    },
    {
      "cell_type": "code",
      "source": [
        "from google.colab import drive\n",
        "drive.mount('/content/drive')\n"
      ],
      "metadata": {
        "colab": {
          "base_uri": "https://localhost:8080/"
        },
        "id": "carwRlMqZRUD",
        "outputId": "e6a4ec71-98a6-445a-8a1a-c285307bfbf4"
      },
      "execution_count": 1,
      "outputs": [
        {
          "output_type": "stream",
          "name": "stdout",
          "text": [
            "Mounted at /content/drive\n"
          ]
        }
      ]
    },
    {
      "cell_type": "code",
      "source": [
        "import os\n",
        "\n",
        "base_path = \"/content/drive/MyDrive/2. 취업 부업/7. SW개발자과정/3. 실전프로젝트\"\n",
        "for root, dirs, files in os.walk(base_path):\n",
        "    print(\"📂\", root)\n"
      ],
      "metadata": {
        "colab": {
          "base_uri": "https://localhost:8080/"
        },
        "id": "Wt0LNWkoZXml",
        "outputId": "de6faae5-1654-49ff-bf11-893eaa48aaeb"
      },
      "execution_count": 2,
      "outputs": [
        {
          "output_type": "stream",
          "name": "stdout",
          "text": [
            "📂 /content/drive/MyDrive/2. 취업 부업/7. SW개발자과정/3. 실전프로젝트\n",
            "📂 /content/drive/MyDrive/2. 취업 부업/7. SW개발자과정/3. 실전프로젝트/레퍼런스\n",
            "📂 /content/drive/MyDrive/2. 취업 부업/7. SW개발자과정/3. 실전프로젝트/[실전] 재무 관련 데이터_호성 팀\n",
            "📂 /content/drive/MyDrive/2. 취업 부업/7. SW개발자과정/3. 실전프로젝트/[실전] 재무 관련 데이터_호성 팀/재무제표 RAW 데이터 차트 추출\n",
            "📂 /content/drive/MyDrive/2. 취업 부업/7. SW개발자과정/3. 실전프로젝트/[실전] 재무 관련 데이터_호성 팀/재무제표 RAW 데이터 차트 추출/매출 차트\n",
            "📂 /content/drive/MyDrive/2. 취업 부업/7. SW개발자과정/3. 실전프로젝트/[실전] 재무 관련 데이터_호성 팀/PDF 사업 보고서\n",
            "📂 /content/drive/MyDrive/2. 취업 부업/7. SW개발자과정/3. 실전프로젝트/[실전] 재무 관련 데이터_호성 팀/250721_핵심피처(핵심컬럼) 후보 데이터 추출_호성, 은혜\n",
            "📂 /content/drive/MyDrive/2. 취업 부업/7. SW개발자과정/3. 실전프로젝트/[실전] 재무 관련 데이터_호성 팀/250721_핵심피처(핵심컬럼) 후보 데이터 추출_호성, 은혜/사업보고서_23,24,25\n",
            "📂 /content/drive/MyDrive/2. 취업 부업/7. SW개발자과정/3. 실전프로젝트/[실전] 재무 관련 데이터_호성 팀/0722_PDF summaries\n",
            "📂 /content/drive/MyDrive/2. 취업 부업/7. SW개발자과정/3. 실전프로젝트/기획\n"
          ]
        }
      ]
    },
    {
      "cell_type": "code",
      "execution_count": 3,
      "metadata": {
        "colab": {
          "base_uri": "https://localhost:8080/"
        },
        "id": "HwL0dn1TXBCe",
        "outputId": "890a9dfb-c42f-46cd-ae10-c81d5ce28d65"
      },
      "outputs": [
        {
          "output_type": "stream",
          "name": "stdout",
          "text": [
            "\u001b[2K   \u001b[90m━━━━━━━━━━━━━━━━━━━━━━━━━━━━━━━━━━━━━━━━\u001b[0m \u001b[32m24.1/24.1 MB\u001b[0m \u001b[31m64.3 MB/s\u001b[0m eta \u001b[36m0:00:00\u001b[0m\n",
            "\u001b[?25hDrive already mounted at /content/drive; to attempt to forcibly remount, call drive.mount(\"/content/drive\", force_remount=True).\n"
          ]
        }
      ],
      "source": [
        "# ✅ 0. 필수 패키지\n",
        "!pip install -q openai PyMuPDF\n",
        "\n",
        "\n",
        "# ✅ 1. Google Drive 마운트\n",
        "from google.colab import drive\n",
        "drive.mount('/content/drive')\n",
        "\n",
        "# ✅ 2. 임포트\n",
        "import os, re, unicodedata\n",
        "import fitz  # PyMuPDF\n",
        "import torch\n",
        "from sentence_transformers import SentenceTransformer, util\n",
        "import openai\n"
      ]
    },
    {
      "cell_type": "code",
      "source": [
        "# ✅ 0. 필수 설치\n",
        "!pip install --quiet openai PyMuPDF\n",
        "\n",
        "# ✅ 1. Google Drive 마운트\n",
        "from google.colab import drive\n",
        "drive.mount('/content/drive')\n",
        "\n",
        "# ✅ 2. 임포트\n",
        "import os, re, unicodedata\n",
        "import fitz\n",
        "import openai\n",
        "import torch\n",
        "from sentence_transformers import SentenceTransformer, util\n",
        "\n",
        "# ✅ 3. OpenAI 최신 방식 (openai>=1.0.0)\n",
        "client = openai.OpenAI(api_key=\"sk-...\")  # ← 여기에 OpenAI API 키 입력\n",
        "\n",
        "# ✅ 4. 사용자 입력\n",
        "company = input(\"요약할 기업명을 입력하세요: \").strip()\n",
        "company = unicodedata.normalize(\"NFC\", company)\n",
        "\n",
        "# ✅ 5. PDF 폴더 경로: 직접 지정\n",
        "search_folder = \"/content/drive/MyDrive/2. 취업 부업/7. SW개발자과정/3. 실전프로젝트/[실전] 재무 관련 데이터_호성 팀/PDF 사업 보고서\"\n",
        "if not os.path.exists(search_folder):\n",
        "    raise FileNotFoundError(\"❌ PDF 폴더 경로가 존재하지 않습니다.\")\n",
        "\n",
        "# ✅ 6. PDF 파일 검색\n",
        "files = os.listdir(search_folder)\n",
        "matched = [f for f in files if company in unicodedata.normalize(\"NFC\", f) and f.lower().endswith(\".pdf\")]\n",
        "if not matched:\n",
        "    raise FileNotFoundError(f\"❌ '{company}' 관련 PDF 파일을 찾을 수 없습니다.\")\n",
        "pdf_path = os.path.join(search_folder, matched[0])\n",
        "print(\"✅ 찾은 PDF:\", pdf_path)\n",
        "\n",
        "# ✅ 7. PDF → 텍스트 추출\n",
        "with fitz.open(pdf_path) as doc:\n",
        "    raw_text = \"\".join([page.get_text() for page in doc])\n",
        "\n",
        "# ✅ 8. 전처리\n",
        "text = re.sub(r'\\[\\d+\\]', '', raw_text)\n",
        "text = re.sub(r'\\s+', ' ', text)\n",
        "sentences = re.split(r'(?<=[.?!])\\s+', text)\n",
        "\n",
        "def is_valid(s):\n",
        "    s = s.strip()\n",
        "    return len(s) > 10 and sum(c.isdigit() for c in s)/len(s) < 0.2 and len(re.findall(r'[가-힣a-zA-Z]', s)) >= 5\n",
        "\n",
        "filtered = [s for s in sentences if is_valid(s)]\n",
        "print(f\"📚 유효 문장 수: {len(filtered)}\")\n",
        "\n",
        "# ✅ 9. 요약 주제\n",
        "topics = {\n",
        "    \"📊 재무 요약\": \"최근 3개년 손익계산서를 기준으로 매출액, 영업이익, 당기순이익 등을 요약하세요.\",\n",
        "    \"🛡️ 리스크 및 부채\": \"부채, 유동성 리스크, 지급보증, 담보 제공 등과 관련된 내용을 요약하세요.\",\n",
        "    \"🚀 사업 전략\": \"신규 사업, 투자 계획, 성장 전략 등을 요약하세요.\",\n",
        "    \"🔬 기술 및 R&D\": \"연구개발 현황, 기술 파이프라인, 기술 제휴 등을 요약하세요.\",\n",
        "    \"🌐 글로벌 진출\": \"해외 시장 전략, 수출 확대, 해외 법인 관련 내용을 요약하세요.\",\n",
        "}\n",
        "\n",
        "# ✅ 10. GPT 요약 함수\n",
        "def gpt_summarize_section(text, topic_instruction):\n",
        "    prompt = f\"\"\"다음은 한국 기업의 사업보고서 일부입니다.\n",
        "\n",
        "요약 주제:\n",
        "{topic_instruction}\n",
        "\n",
        "아래 텍스트를 기반으로 한 문단(3~5문장)으로 요약해 주세요.\n",
        "\n",
        "<본문>\n",
        "{text[:2000]}\"\"\"\n",
        "\n",
        "    try:\n",
        "        response = client.chat.completions.create(\n",
        "            model=\"gpt-4o\",\n",
        "            messages=[{\"role\": \"user\", \"content\": prompt}],\n",
        "            temperature=0.4,\n",
        "        )\n",
        "        return response.choices[0].message.content.strip()\n",
        "    except Exception as e:\n",
        "        return f\"❌ 요약 실패: {e}\"\n",
        "\n",
        "# ✅ 11. 실행\n",
        "text_sample = \" \".join(filtered[:300])\n",
        "results = {sec: gpt_summarize_section(text_sample, inst) for sec, inst in topics.items()}\n",
        "\n",
        "# ✅ 12. 결과 출력 및 저장\n",
        "output_txt = \"\"\n",
        "for sec, summ in results.items():\n",
        "    output_txt += f\"\\n\\n## {sec}\\n{summ}\"\n",
        "\n",
        "output_path = pdf_path.replace(\".pdf\", \"_GPT요약.txt\")\n",
        "with open(output_path, \"w\", encoding=\"utf-8\") as f:\n",
        "    f.write(output_txt.strip())\n",
        "\n",
        "print(\"✅ GPT 요약 완료! 저장 위치:\", output_path)\n",
        "print(output_txt)\n"
      ],
      "metadata": {
        "colab": {
          "base_uri": "https://localhost:8080/"
        },
        "id": "S7DrdNoXXDzy",
        "outputId": "4a37ee92-6c14-49c2-ffcf-c0f32e3c75cb"
      },
      "execution_count": 4,
      "outputs": [
        {
          "output_type": "stream",
          "name": "stdout",
          "text": [
            "Drive already mounted at /content/drive; to attempt to forcibly remount, call drive.mount(\"/content/drive\", force_remount=True).\n",
            "요약할 기업명을 입력하세요: 두산\n",
            "✅ 찾은 PDF: /content/drive/MyDrive/2. 취업 부업/7. SW개발자과정/3. 실전프로젝트/[실전] 재무 관련 데이터_호성 팀/PDF 사업 보고서/두산밥캣 사업보고서 (2024.12).pdf\n",
            "📚 유효 문장 수: 2296\n",
            "✅ GPT 요약 완료! 저장 위치: /content/drive/MyDrive/2. 취업 부업/7. SW개발자과정/3. 실전프로젝트/[실전] 재무 관련 데이터_호성 팀/PDF 사업 보고서/두산밥캣 사업보고서 (2024.12)_GPT요약.txt\n",
            "\n",
            "\n",
            "## 📊 재무 요약\n",
            "❌ 요약 실패: Error code: 401 - {'error': {'message': 'Incorrect API key provided: sk-.... You can find your API key at https://platform.openai.com/account/api-keys.', 'type': 'invalid_request_error', 'param': None, 'code': 'invalid_api_key'}}\n",
            "\n",
            "## 🛡️ 리스크 및 부채\n",
            "❌ 요약 실패: Error code: 401 - {'error': {'message': 'Incorrect API key provided: sk-.... You can find your API key at https://platform.openai.com/account/api-keys.', 'type': 'invalid_request_error', 'param': None, 'code': 'invalid_api_key'}}\n",
            "\n",
            "## 🚀 사업 전략\n",
            "❌ 요약 실패: Error code: 401 - {'error': {'message': 'Incorrect API key provided: sk-.... You can find your API key at https://platform.openai.com/account/api-keys.', 'type': 'invalid_request_error', 'param': None, 'code': 'invalid_api_key'}}\n",
            "\n",
            "## 🔬 기술 및 R&D\n",
            "❌ 요약 실패: Error code: 401 - {'error': {'message': 'Incorrect API key provided: sk-.... You can find your API key at https://platform.openai.com/account/api-keys.', 'type': 'invalid_request_error', 'param': None, 'code': 'invalid_api_key'}}\n",
            "\n",
            "## 🌐 글로벌 진출\n",
            "❌ 요약 실패: Error code: 401 - {'error': {'message': 'Incorrect API key provided: sk-.... You can find your API key at https://platform.openai.com/account/api-keys.', 'type': 'invalid_request_error', 'param': None, 'code': 'invalid_api_key'}}\n"
          ]
        }
      ]
    },
    {
      "cell_type": "code",
      "source": [],
      "metadata": {
        "id": "WZQkPyX2g2nW"
      },
      "execution_count": null,
      "outputs": []
    },
    {
      "cell_type": "markdown",
      "source": [
        "## OpenAI 자연어처리 성공 코드"
      ],
      "metadata": {
        "id": "ebA_2Q3kg3H9"
      }
    },
    {
      "cell_type": "code",
      "source": [
        "# ✅ 0. 필수 설치\n",
        "!pip install --quiet openai PyMuPDF\n",
        "\n",
        "# ✅ 1. Google Drive 마운트\n",
        "from google.colab import drive\n",
        "drive.mount('/content/drive')\n",
        "\n",
        "# ✅ 2. 임포트\n",
        "import os, re, unicodedata\n",
        "import fitz\n",
        "import openai\n",
        "import torch\n",
        "from sentence_transformers import SentenceTransformer, util"
      ],
      "metadata": {
        "colab": {
          "base_uri": "https://localhost:8080/"
        },
        "id": "n_iG3JF5uZQ_",
        "outputId": "34802a2d-ed75-445a-9f21-369290157740"
      },
      "execution_count": 6,
      "outputs": [
        {
          "output_type": "stream",
          "name": "stdout",
          "text": [
            "Drive already mounted at /content/drive; to attempt to forcibly remount, call drive.mount(\"/content/drive\", force_remount=True).\n"
          ]
        }
      ]
    },
    {
      "cell_type": "code",
      "source": [
        "# ✅ 3. OpenAI 최신 방식 (openai>=1.0.0)\n",
        "client = openai.OpenAI(api_key=\"키를 입력하세요\")  # ← 본인의 키 입력\n",
        "\n",
        "# ✅ 4. 사용자 입력\n",
        "company = input(\"요약할 기업명을 입력하세요: \").strip()\n",
        "company = unicodedata.normalize(\"NFC\", company)\n",
        "\n",
        "# ✅ 5. PDF 폴더 직접 지정\n",
        "search_folder = \"/content/drive/MyDrive/2. 취업 부업/7. SW개발자과정/3. 실전프로젝트/[실전] 재무 관련 데이터_호성 팀/PDF 사업 보고서\"\n",
        "assert os.path.exists(search_folder), \"❌ 지정한 PDF 폴더 경로가 존재하지 않습니다.\"\n",
        "\n",
        "# ✅ 6. PDF 파일 탐색\n",
        "files = os.listdir(search_folder)\n",
        "matched = [f for f in files if company in unicodedata.normalize(\"NFC\", f) and f.lower().endswith(\".pdf\")]\n",
        "if not matched:\n",
        "    raise FileNotFoundError(f\"❌ '{company}' 관련 PDF 파일을 찾을 수 없습니다.\")\n",
        "pdf_path = os.path.join(search_folder, matched[0])\n",
        "print(\"✅ 찾은 PDF:\", pdf_path)\n",
        "\n",
        "# ✅ 7. PDF → 텍스트 추출\n",
        "with fitz.open(pdf_path) as doc:\n",
        "    raw_text = \"\".join([page.get_text() for page in doc])\n",
        "\n",
        "# ✅ 8. 텍스트 전처리 및 문장 필터링\n",
        "text = re.sub(r'\\[\\d+\\]', '', raw_text)\n",
        "text = re.sub(r'\\s+', ' ', text)\n",
        "sentences = re.split(r'(?<=[.?!])\\s+', text)\n",
        "\n",
        "def is_valid(s):\n",
        "    s = s.strip()\n",
        "    return len(s) > 10 and sum(c.isdigit() for c in s)/len(s) < 0.2 and len(re.findall(r'[가-힣a-zA-Z]', s)) >= 5\n",
        "\n",
        "filtered = [s for s in sentences if is_valid(s)]\n",
        "print(f\"📚 유효 문장 수: {len(filtered)}\")\n",
        "\n",
        "# ✅ 9. 요약 주제 정의\n",
        "topics = {\n",
        "    \"📊 재무 요약\": \"최근 3개년 손익계산서를 기준으로 매출액, 영업이익, 당기순이익 등을 요약하세요.\",\n",
        "    \"🛡️ 리스크 및 부채\": \"부채, 유동성 리스크, 지급보증, 담보 제공 등과 관련된 내용을 요약하세요.\",\n",
        "    \"🚀 사업 전략\": \"신규 사업, 투자 계획, 성장 전략 등을 요약하세요.\",\n",
        "    \"🔬 기술 및 R&D\": \"연구개발 현황, 기술 파이프라인, 기술 제휴 등을 요약하세요.\",\n",
        "    \"🌐 글로벌 진출\": \"해외 시장 전략, 수출 확대, 해외 법인 관련 내용을 요약하세요.\",\n",
        "}\n",
        "\n",
        "# ✅ 10. GPT 요약 함수\n",
        "def gpt_summarize_section(text, topic_instruction):\n",
        "    prompt = f\"\"\"다음은 한국 기업의 사업보고서 일부입니다.\n",
        "\n",
        "요약 주제:\n",
        "{topic_instruction}\n",
        "\n",
        "아래 텍스트를 기반으로 한 문단(3~5문장)으로 요약해 주세요.\n",
        "\n",
        "<본문>\n",
        "{text[:2000]}\"\"\"  # 토큰 초과 방지\n",
        "\n",
        "    try:\n",
        "        response = client.chat.completions.create(\n",
        "            model=\"gpt-4o\",\n",
        "            messages=[{\"role\": \"user\", \"content\": prompt}],\n",
        "            temperature=0.4,\n",
        "        )\n",
        "        return response.choices[0].message.content.strip()\n",
        "    except Exception as e:\n",
        "        return f\"❌ 요약 실패: {e}\"\n",
        "\n",
        "# ✅ 11. 요약 실행\n",
        "text_sample = \" \".join(filtered[:300])\n",
        "results = {}\n",
        "for sec, inst in topics.items():\n",
        "    results[sec] = gpt_summarize_section(text_sample, inst)\n",
        "\n",
        "# ✅ 12. 결과 출력 및 저장\n",
        "output_txt = \"\"\n",
        "for sec, summ in results.items():\n",
        "    output_txt += f\"\\n\\n## {sec}\\n{summ}\"\n",
        "\n",
        "output_path = pdf_path.replace(\".pdf\", \"_GPT요약.txt\")\n",
        "with open(output_path, \"w\", encoding=\"utf-8\") as f:\n",
        "    f.write(output_txt.strip())\n",
        "\n",
        "print(\"✅ GPT 요약 완료! 저장 위치:\", output_path)\n",
        "print(output_txt)\n"
      ],
      "metadata": {
        "colab": {
          "base_uri": "https://localhost:8080/"
        },
        "id": "vbJS5HdzZy3N",
        "outputId": "6f659fcb-51d3-4d8f-ceb4-9baef33496fd"
      },
      "execution_count": 7,
      "outputs": [
        {
          "output_type": "stream",
          "name": "stdout",
          "text": [
            "요약할 기업명을 입력하세요: 카카오\n",
            "✅ 찾은 PDF: /content/drive/MyDrive/2. 취업 부업/7. SW개발자과정/3. 실전프로젝트/[실전] 재무 관련 데이터_호성 팀/PDF 사업 보고서/카카오 [기재정정]사업보고서 (2024.12).pdf\n",
            "📚 유효 문장 수: 3499\n",
            "✅ GPT 요약 완료! 저장 위치: /content/drive/MyDrive/2. 취업 부업/7. SW개발자과정/3. 실전프로젝트/[실전] 재무 관련 데이터_호성 팀/PDF 사업 보고서/카카오 [기재정정]사업보고서 (2024.12)_GPT요약.txt\n",
            "\n",
            "\n",
            "## 📊 재무 요약\n",
            "최근 3개년 손익계산서를 기준으로 한국 기업의 재무 성과를 요약하면 다음과 같습니다. 매출액은 지속적으로 증가하여 3년 전보다 약 15% 상승하였으며, 이는 주로 주요 제품 및 서비스의 수요 증가에 기인합니다. 영업이익 또한 매출 증가와 비용 절감 노력의 결과로 꾸준히 상승하여 영업이익률이 개선되었습니다. 당기순이익은 영업이익 증가와 함께 금융 비용 절감 등의 요인으로 인해 전반적으로 긍정적인 추세를 보이며, 주주들에게 안정적인 배당을 제공할 수 있는 기반을 마련하였습니다.\n",
            "\n",
            "## 🛡️ 리스크 및 부채\n",
            "이 회사의 사업보고서에 따르면, 부채 및 유동성 리스크와 관련하여 회사는 현재 부채 비율을 안정적으로 관리하고 있으며, 단기적인 유동성 문제를 해결하기 위해 다양한 금융 전략을 채택하고 있습니다. 지급보증과 관련해서는 주요 거래처와의 신뢰를 바탕으로 필요한 경우 지급보증을 제공하고 있으며, 이는 회사의 신용도를 유지하는 데 기여하고 있습니다. 또한, 담보 제공과 관련하여 회사는 필요한 경우 자산을 담보로 제공하여 금융기관으로부터 자금을 조달하고 있으며, 이는 재무 건전성을 유지하는 데 중요한 역할을 하고 있습니다.\n",
            "\n",
            "## 🚀 사업 전략\n",
            "이 한국 기업은 신규 사업으로 친환경 에너지 솔루션을 개발하고 있으며, 이를 통해 지속 가능한 성장을 목표로 하고 있습니다. 회사는 이러한 목표를 달성하기 위해 연구개발(R&D) 투자와 인프라 확장을 계획하고 있습니다. 또한, 글로벌 시장 진출을 위한 전략적 파트너십을 모색하며, 이를 통해 매출 다변화와 시장 점유율 확대를 기대하고 있습니다.\n",
            "\n",
            "## 🔬 기술 및 R&D\n",
            "이 기업은 연구개발(R&D) 부문에서 혁신적인 기술 개발을 위해 지속적으로 투자하고 있으며, 현재 다양한 기술 파이프라인을 보유하고 있습니다. 특히, 신제품 개발과 기존 제품의 성능 향상을 목표로 하는 연구 프로젝트가 활발히 진행 중입니다. 또한, 국내외 유수의 연구기관 및 기업과의 기술 제휴를 통해 기술 경쟁력을 강화하고 있으며, 이를 통해 시장에서의 입지를 더욱 공고히 하고자 합니다. 이러한 노력은 장기적으로 기업의 성장과 수익성 향상에 기여할 것으로 기대됩니다.\n",
            "\n",
            "## 🌐 글로벌 진출\n",
            "이 한국 기업은 해외 시장 전략을 통해 수출을 확대하고자 하고 있으며, 이를 위해 다양한 해외 법인을 운영하고 있습니다. 기업은 글로벌 시장에서의 경쟁력을 강화하기 위해 현지화 전략을 채택하고, 각 지역의 특성에 맞는 제품 및 서비스를 제공하고자 합니다. 또한, 해외 법인을 통해 현지 네트워크를 구축하고, 효율적인 물류 시스템을 활용하여 수출을 증대시키고 있습니다. 이를 통해 기업은 지속 가능한 성장을 도모하고, 글로벌 시장에서의 입지를 강화하려고 합니다.\n"
          ]
        }
      ]
    },
    {
      "cell_type": "markdown",
      "source": [],
      "metadata": {
        "id": "OxYKjdYQXBVM"
      }
    }
  ]
}