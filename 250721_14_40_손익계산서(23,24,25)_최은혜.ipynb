{
  "nbformat": 4,
  "nbformat_minor": 0,
  "metadata": {
    "colab": {
      "provenance": [],
      "mount_file_id": "1gXU5KLDXBm0V7GRBE5ZxnXajndeobcIP",
      "authorship_tag": "ABX9TyPer5XsYKGtb380F0xIkYK6",
      "include_colab_link": true
    },
    "kernelspec": {
      "name": "python3",
      "display_name": "Python 3"
    },
    "language_info": {
      "name": "python"
    }
  },
  "cells": [
    {
      "cell_type": "markdown",
      "metadata": {
        "id": "view-in-github",
        "colab_type": "text"
      },
      "source": [
        "<a href=\"https://colab.research.google.com/github/Eunhye1109/Practical-Project/blob/EH/250721_14_40_%EC%86%90%EC%9D%B5%EA%B3%84%EC%82%B0%EC%84%9C(23%2C24%2C25)_%EC%B5%9C%EC%9D%80%ED%98%9C.ipynb\" target=\"_parent\"><img src=\"https://colab.research.google.com/assets/colab-badge.svg\" alt=\"Open In Colab\"/></a>"
      ]
    },
    {
      "cell_type": "code",
      "execution_count": 13,
      "metadata": {
        "colab": {
          "base_uri": "https://localhost:8080/"
        },
        "collapsed": true,
        "id": "ohMlVsyufp8o",
        "outputId": "8ab52703-120a-489c-b6d0-c8d457713853"
      },
      "outputs": [
        {
          "output_type": "stream",
          "name": "stdout",
          "text": [
            "Requirement already satisfied: dart-fss in /usr/local/lib/python3.11/dist-packages (0.4.13)\n",
            "Requirement already satisfied: xmltodict in /usr/local/lib/python3.11/dist-packages (from dart-fss) (0.14.2)\n",
            "Requirement already satisfied: requests in /usr/local/lib/python3.11/dist-packages (from dart-fss) (2.32.3)\n",
            "Requirement already satisfied: arelle-release in /usr/local/lib/python3.11/dist-packages (from dart-fss) (2.37.37)\n",
            "Requirement already satisfied: numpy in /usr/local/lib/python3.11/dist-packages (from dart-fss) (2.0.2)\n",
            "Requirement already satisfied: pandas in /usr/local/lib/python3.11/dist-packages (from dart-fss) (2.2.2)\n",
            "Requirement already satisfied: tqdm in /usr/local/lib/python3.11/dist-packages (from dart-fss) (4.67.1)\n",
            "Requirement already satisfied: yaspin in /usr/local/lib/python3.11/dist-packages (from dart-fss) (3.1.0)\n",
            "Requirement already satisfied: fake-useragent>=1.5 in /usr/local/lib/python3.11/dist-packages (from dart-fss) (2.2.0)\n",
            "Requirement already satisfied: beautifulsoup4 in /usr/local/lib/python3.11/dist-packages (from dart-fss) (4.13.4)\n",
            "Requirement already satisfied: appdirs in /usr/local/lib/python3.11/dist-packages (from dart-fss) (1.4.4)\n",
            "Requirement already satisfied: bottle<0.14,>=0.13 in /usr/local/lib/python3.11/dist-packages (from arelle-release->dart-fss) (0.13.4)\n",
            "Requirement already satisfied: certifi in /usr/local/lib/python3.11/dist-packages (from arelle-release->dart-fss) (2025.7.14)\n",
            "Requirement already satisfied: filelock in /usr/local/lib/python3.11/dist-packages (from arelle-release->dart-fss) (3.18.0)\n",
            "Requirement already satisfied: jsonschema==4.* in /usr/local/lib/python3.11/dist-packages (from arelle-release->dart-fss) (4.24.0)\n",
            "Requirement already satisfied: isodate==0.* in /usr/local/lib/python3.11/dist-packages (from arelle-release->dart-fss) (0.7.2)\n",
            "Requirement already satisfied: lxml<6,>=4 in /usr/local/lib/python3.11/dist-packages (from arelle-release->dart-fss) (5.4.0)\n",
            "Requirement already satisfied: openpyxl==3.* in /usr/local/lib/python3.11/dist-packages (from arelle-release->dart-fss) (3.1.5)\n",
            "Requirement already satisfied: pillow<12,>=10 in /usr/local/lib/python3.11/dist-packages (from arelle-release->dart-fss) (11.2.1)\n",
            "Requirement already satisfied: pyparsing==3.* in /usr/local/lib/python3.11/dist-packages (from arelle-release->dart-fss) (3.2.3)\n",
            "Requirement already satisfied: python-dateutil==2.* in /usr/local/lib/python3.11/dist-packages (from arelle-release->dart-fss) (2.9.0.post0)\n",
            "Requirement already satisfied: regex in /usr/local/lib/python3.11/dist-packages (from arelle-release->dart-fss) (2024.11.6)\n",
            "Requirement already satisfied: truststore==0.* in /usr/local/lib/python3.11/dist-packages (from arelle-release->dart-fss) (0.10.1)\n",
            "Requirement already satisfied: typing-extensions==4.* in /usr/local/lib/python3.11/dist-packages (from arelle-release->dart-fss) (4.14.1)\n",
            "Requirement already satisfied: attrs>=22.2.0 in /usr/local/lib/python3.11/dist-packages (from jsonschema==4.*->arelle-release->dart-fss) (25.3.0)\n",
            "Requirement already satisfied: jsonschema-specifications>=2023.03.6 in /usr/local/lib/python3.11/dist-packages (from jsonschema==4.*->arelle-release->dart-fss) (2025.4.1)\n",
            "Requirement already satisfied: referencing>=0.28.4 in /usr/local/lib/python3.11/dist-packages (from jsonschema==4.*->arelle-release->dart-fss) (0.36.2)\n",
            "Requirement already satisfied: rpds-py>=0.7.1 in /usr/local/lib/python3.11/dist-packages (from jsonschema==4.*->arelle-release->dart-fss) (0.26.0)\n",
            "Requirement already satisfied: et-xmlfile in /usr/local/lib/python3.11/dist-packages (from openpyxl==3.*->arelle-release->dart-fss) (2.0.0)\n",
            "Requirement already satisfied: six>=1.5 in /usr/local/lib/python3.11/dist-packages (from python-dateutil==2.*->arelle-release->dart-fss) (1.17.0)\n",
            "Requirement already satisfied: soupsieve>1.2 in /usr/local/lib/python3.11/dist-packages (from beautifulsoup4->dart-fss) (2.7)\n",
            "Requirement already satisfied: pytz>=2020.1 in /usr/local/lib/python3.11/dist-packages (from pandas->dart-fss) (2025.2)\n",
            "Requirement already satisfied: tzdata>=2022.7 in /usr/local/lib/python3.11/dist-packages (from pandas->dart-fss) (2025.2)\n",
            "Requirement already satisfied: charset-normalizer<4,>=2 in /usr/local/lib/python3.11/dist-packages (from requests->dart-fss) (3.4.2)\n",
            "Requirement already satisfied: idna<4,>=2.5 in /usr/local/lib/python3.11/dist-packages (from requests->dart-fss) (3.10)\n",
            "Requirement already satisfied: urllib3<3,>=1.21.1 in /usr/local/lib/python3.11/dist-packages (from requests->dart-fss) (2.4.0)\n",
            "Requirement already satisfied: termcolor<2.4.0,>=2.2.0 in /usr/local/lib/python3.11/dist-packages (from yaspin->dart-fss) (2.3.0)\n",
            "Requirement already satisfied: OpenDartReader in /usr/local/lib/python3.11/dist-packages (0.2.3)\n",
            "Requirement already satisfied: pandas>=0.19.2 in /usr/local/lib/python3.11/dist-packages (from OpenDartReader) (2.2.2)\n",
            "Requirement already satisfied: requests>=2.3.0 in /usr/local/lib/python3.11/dist-packages (from OpenDartReader) (2.32.3)\n",
            "Requirement already satisfied: requests-file in /usr/local/lib/python3.11/dist-packages (from OpenDartReader) (2.1.0)\n",
            "Requirement already satisfied: lxml in /usr/local/lib/python3.11/dist-packages (from OpenDartReader) (5.4.0)\n",
            "Requirement already satisfied: beautifulsoup4 in /usr/local/lib/python3.11/dist-packages (from OpenDartReader) (4.13.4)\n",
            "Requirement already satisfied: numpy>=1.23.2 in /usr/local/lib/python3.11/dist-packages (from pandas>=0.19.2->OpenDartReader) (2.0.2)\n",
            "Requirement already satisfied: python-dateutil>=2.8.2 in /usr/local/lib/python3.11/dist-packages (from pandas>=0.19.2->OpenDartReader) (2.9.0.post0)\n",
            "Requirement already satisfied: pytz>=2020.1 in /usr/local/lib/python3.11/dist-packages (from pandas>=0.19.2->OpenDartReader) (2025.2)\n",
            "Requirement already satisfied: tzdata>=2022.7 in /usr/local/lib/python3.11/dist-packages (from pandas>=0.19.2->OpenDartReader) (2025.2)\n",
            "Requirement already satisfied: charset-normalizer<4,>=2 in /usr/local/lib/python3.11/dist-packages (from requests>=2.3.0->OpenDartReader) (3.4.2)\n",
            "Requirement already satisfied: idna<4,>=2.5 in /usr/local/lib/python3.11/dist-packages (from requests>=2.3.0->OpenDartReader) (3.10)\n",
            "Requirement already satisfied: urllib3<3,>=1.21.1 in /usr/local/lib/python3.11/dist-packages (from requests>=2.3.0->OpenDartReader) (2.4.0)\n",
            "Requirement already satisfied: certifi>=2017.4.17 in /usr/local/lib/python3.11/dist-packages (from requests>=2.3.0->OpenDartReader) (2025.7.14)\n",
            "Requirement already satisfied: soupsieve>1.2 in /usr/local/lib/python3.11/dist-packages (from beautifulsoup4->OpenDartReader) (2.7)\n",
            "Requirement already satisfied: typing-extensions>=4.0.0 in /usr/local/lib/python3.11/dist-packages (from beautifulsoup4->OpenDartReader) (4.14.1)\n",
            "Requirement already satisfied: six>=1.5 in /usr/local/lib/python3.11/dist-packages (from python-dateutil>=2.8.2->pandas>=0.19.2->OpenDartReader) (1.17.0)\n",
            "\u001b[31mERROR: Could not find a version that satisfies the requirement FinanceDataReader (from versions: none)\u001b[0m\u001b[31m\n",
            "\u001b[0m\u001b[31mERROR: No matching distribution found for FinanceDataReader\u001b[0m\u001b[31m\n",
            "\u001b[0mRequirement already satisfied: rapidfuzz in /usr/local/lib/python3.11/dist-packages (3.13.0)\n",
            "Requirement already satisfied: dart-fss in /usr/local/lib/python3.11/dist-packages (0.4.13)\n",
            "Requirement already satisfied: OpenDartReader in /usr/local/lib/python3.11/dist-packages (0.2.3)\n",
            "\u001b[31mERROR: Could not find a version that satisfies the requirement FinanceDataReader (from versions: none)\u001b[0m\u001b[31m\n",
            "\u001b[0m\u001b[31mERROR: No matching distribution found for FinanceDataReader\u001b[0m\u001b[31m\n",
            "\u001b[0m"
          ]
        }
      ],
      "source": [
        "\n",
        "!pip install dart-fss\n",
        "!pip install OpenDartReader\n",
        "!pip install FinanceDataReader\n",
        "!pip install rapidfuzz\n",
        "!pip install dart-fss OpenDartReader FinanceDataReader rapidfuzz\n"
      ]
    },
    {
      "cell_type": "code",
      "source": [
        "\n",
        "import os\n",
        "import pandas as pd\n",
        "from collections import defaultdict\n",
        "from difflib import SequenceMatcher\n",
        "\n",
        "# ✅ Step 1: 설정\n",
        "import os\n",
        "import pandas as pd\n",
        "input_path = '/content/drive/MyDrive/Colab Notebooks/실전프로젝트/손익계산서_2023, 2024, 2025/손익계산서_2023, 2024, 2025'\n",
        "output_path = '/content/drive/MyDrive/Colab Notebooks/실전프로젝트/손익계산서_2023, 2024, 2025/손익계산서_결과'\n",
        "similarity_threshold = 0.6\n"
      ],
      "metadata": {
        "id": "2qfuMV0igILB"
      },
      "execution_count": 21,
      "outputs": []
    },
    {
      "cell_type": "code",
      "source": [
        "\n",
        "# ✅ Step 2: 모든 파일에서 컬럼 수집\n",
        "all_columns = []\n",
        "file_columns = {}\n",
        "for file in os.listdir(folder_path):\n",
        "    if file.endswith('.xlsx'):\n",
        "        try:\n",
        "            df = pd.read_excel(os.path.join(folder_path, file), nrows=5)\n",
        "            cols = list(df.columns)\n",
        "            all_columns.extend(cols)\n",
        "            file_columns[file] = cols\n",
        "        except Exception as e:\n",
        "            print(f\"❌ {file}: {e}\")\n",
        "\n"
      ],
      "metadata": {
        "id": "kyEA-xKCjsiF"
      },
      "execution_count": 22,
      "outputs": []
    },
    {
      "cell_type": "code",
      "source": [
        "os.listdir(input_path)"
      ],
      "metadata": {
        "colab": {
          "base_uri": "https://localhost:8080/"
        },
        "id": "ZYkvOTpggdPX",
        "outputId": "1d4c092d-1869-448b-feb5-414462aa277b"
      },
      "execution_count": 23,
      "outputs": [
        {
          "output_type": "execute_result",
          "data": {
            "text/plain": [
              "['2023_사업보고서_03_포괄손익계산서_은행_연결_20241101.txt',\n",
              " '2023_사업보고서_02_손익계산서_20241101.txt',\n",
              " '2023_사업보고서_02_손익계산서_연결_20241101.txt',\n",
              " '2023_사업보고서_03_포괄손익계산서_증권_연결_20241101.txt',\n",
              " '2023_사업보고서_03_포괄손익계산서_연결_20241101.txt',\n",
              " '2023_사업보고서_03_포괄손익계산서_20241101.txt',\n",
              " '2023_사업보고서_03_포괄손익계산서_금융기타_20241101.txt',\n",
              " '2023_사업보고서_03_포괄손익계산서_은행_20241101.txt',\n",
              " '2023_사업보고서_03_포괄손익계산서_보험_연결_20241101.txt',\n",
              " '2023_사업보고서_03_포괄손익계산서_증권_20241101.txt',\n",
              " '2023_사업보고서_03_포괄손익계산서_금융기타_연결_20241101.txt',\n",
              " '2023_사업보고서_03_포괄손익계산서_보험_20241101.txt',\n",
              " '2024_사업보고서_03_포괄손익계산서_은행_연결_20250606.txt',\n",
              " '2024_사업보고서_03_포괄손익계산서_증권_20250606.txt',\n",
              " '2024_사업보고서_02_손익계산서_20250606.txt',\n",
              " '2024_사업보고서_03_포괄손익계산서_증권_연결_20250606.txt',\n",
              " '2024_사업보고서_03_포괄손익계산서_금융기타_연결_20250606.txt',\n",
              " '2024_사업보고서_03_포괄손익계산서_보험_연결_20250606.txt',\n",
              " '2024_사업보고서_03_포괄손익계산서_보험_20250606.txt',\n",
              " '2024_사업보고서_03_포괄손익계산서_연결_20250606.txt',\n",
              " '2024_사업보고서_02_손익계산서_연결_20250606.txt',\n",
              " '2024_사업보고서_03_포괄손익계산서_20250606.txt',\n",
              " '2024_사업보고서_03_포괄손익계산서_은행_20250606.txt',\n",
              " '2024_사업보고서_03_포괄손익계산서_금융기타_20250606.txt',\n",
              " '2025_1분기보고서_03_포괄손익계산서_20250606.txt',\n",
              " '2025_1분기보고서_02_손익계산서_20250606.txt',\n",
              " '2025_1분기보고서_02_손익계산서_연결_20250606.txt',\n",
              " '2025_1분기보고서_03_포괄손익계산서_증권_20250606.txt',\n",
              " '2025_1분기보고서_03_포괄손익계산서_금융기타_연결_20250606.txt',\n",
              " '2025_1분기보고서_03_포괄손익계산서_은행_20250606.txt',\n",
              " '2025_1분기보고서_03_포괄손익계산서_은행_연결_20250606.txt',\n",
              " '2025_1분기보고서_03_포괄손익계산서_보험_20250606.txt',\n",
              " '2025_1분기보고서_03_포괄손익계산서_연결_20250606.txt',\n",
              " '2025_1분기보고서_03_포괄손익계산서_증권_연결_20250606.txt',\n",
              " '2025_1분기보고서_03_포괄손익계산서_보험_연결_20250606.txt',\n",
              " '2025_1분기보고서_03_포괄손익계산서_금융기타_20250606.txt']"
            ]
          },
          "metadata": {},
          "execution_count": 23
        }
      ]
    },
    {
      "cell_type": "code",
      "source": [
        "import os\n",
        "\n",
        "def extract_balance_sheet_indicators(input_path):\n",
        "    indicators = set()\n",
        "    with open(input_path, 'r', encoding='utf-8') as f:\n",
        "        for line in f:\n",
        "            if '\\t' in line:\n",
        "                columns = line.strip().split('\\t')\n",
        "                for col in columns:\n",
        "                    # 숫자가 아닌 컬럼명만 추출\n",
        "                    if not any(char.isdigit() for char in col) and len(col.strip()) > 1:\n",
        "                        indicators.add(col.strip())\n",
        "    return indicators"
      ],
      "metadata": {
        "id": "jFy1pU_UiVXX"
      },
      "execution_count": 26,
      "outputs": []
    },
    {
      "cell_type": "code",
      "source": [
        "import os\n",
        "\n",
        "# 경로 및 대상 파일\n",
        "input_path = '/content/drive/MyDrive/Colab Notebooks/실전프로젝트/손익계산서_2023, 2024, 2025/손익계산서_2023, 2024, 2025'\n",
        "output_path = '/content/drive/MyDrive/Colab Notebooks/실전프로젝트/손익계산서_2023, 2024, 2025/손익계산서_결과'\n",
        "target_files = [f for f in os.listdir(input_path) if \"연결\" in f and f.endswith(\".txt\")]\n",
        "\n",
        "# 확인용: 첫 번째 파일만 미리 보기\n",
        "if target_files:\n",
        "    test_file = os.path.join(input_path, target_files[0])\n",
        "    print(f\"\\n✅ 테스트 파일: {target_files[0]}\\n\")\n",
        "    try:\n",
        "        with open(test_file, encoding='utf-8') as f:\n",
        "            for i in range(20):\n",
        "                print(f\"{i+1:02d}: {f.readline().strip()}\")\n",
        "    except UnicodeDecodeError:\n",
        "        with open(test_file, encoding='cp949') as f:\n",
        "            for i in range(20):\n",
        "                print(f\"{i+1:02d}: {f.readline().strip()}\")\n",
        "else:\n",
        "    print(\"❌ '연결' 포함된 txt 파일이 없습니다.\")\n"
      ],
      "metadata": {
        "colab": {
          "base_uri": "https://localhost:8080/"
        },
        "id": "lBbTa1XLku3F",
        "outputId": "5182c98e-84c5-4c6c-a2f1-c4a58af0f66b"
      },
      "execution_count": 41,
      "outputs": [
        {
          "output_type": "stream",
          "name": "stdout",
          "text": [
            "❌ '연결' 포함된 txt 파일이 없습니다.\n"
          ]
        }
      ]
    },
    {
      "cell_type": "code",
      "source": [
        "import unicodedata\n",
        "import os\n",
        "\n",
        "# 경로 설정\n",
        "input_path\n",
        "\n",
        "# 파일명 유니코드 정규화 후 '연결' 포함 여부 판단\n",
        "all_files = os.listdir(input_path)\n",
        "target_files = [\n",
        "    f for f in all_files if \"연결\" in unicodedata.normalize('NFC', f) and f.endswith('.txt')\n",
        "]\n",
        "\n",
        "# 결과 확인\n",
        "print(\"📂 '연결' 포함된 txt 파일 개수:\", len(target_files))\n",
        "for f in target_files:\n",
        "    print(\" -\", f)\n"
      ],
      "metadata": {
        "colab": {
          "base_uri": "https://localhost:8080/"
        },
        "id": "qF9XSrOZkhho",
        "outputId": "6070fb97-7971-4cc3-c866-06965554d4a9"
      },
      "execution_count": 42,
      "outputs": [
        {
          "output_type": "stream",
          "name": "stdout",
          "text": [
            "📂 '연결' 포함된 txt 파일 개수: 18\n",
            " - 2023_사업보고서_03_포괄손익계산서_은행_연결_20241101.txt\n",
            " - 2023_사업보고서_02_손익계산서_연결_20241101.txt\n",
            " - 2023_사업보고서_03_포괄손익계산서_증권_연결_20241101.txt\n",
            " - 2023_사업보고서_03_포괄손익계산서_연결_20241101.txt\n",
            " - 2023_사업보고서_03_포괄손익계산서_보험_연결_20241101.txt\n",
            " - 2023_사업보고서_03_포괄손익계산서_금융기타_연결_20241101.txt\n",
            " - 2024_사업보고서_03_포괄손익계산서_은행_연결_20250606.txt\n",
            " - 2024_사업보고서_03_포괄손익계산서_증권_연결_20250606.txt\n",
            " - 2024_사업보고서_03_포괄손익계산서_금융기타_연결_20250606.txt\n",
            " - 2024_사업보고서_03_포괄손익계산서_보험_연결_20250606.txt\n",
            " - 2024_사업보고서_03_포괄손익계산서_연결_20250606.txt\n",
            " - 2024_사업보고서_02_손익계산서_연결_20250606.txt\n",
            " - 2025_1분기보고서_02_손익계산서_연결_20250606.txt\n",
            " - 2025_1분기보고서_03_포괄손익계산서_금융기타_연결_20250606.txt\n",
            " - 2025_1분기보고서_03_포괄손익계산서_은행_연결_20250606.txt\n",
            " - 2025_1분기보고서_03_포괄손익계산서_연결_20250606.txt\n",
            " - 2025_1분기보고서_03_포괄손익계산서_증권_연결_20250606.txt\n",
            " - 2025_1분기보고서_03_포괄손익계산서_보험_연결_20250606.txt\n"
          ]
        }
      ]
    },
    {
      "cell_type": "code",
      "source": [
        "# 첫 번째 파일 경로 설정\n",
        "import unicodedata\n",
        "test_file = os.path.join(input_path, target_files[0])\n",
        "\n",
        "# 20줄만 출력해서 포맷 확인\n",
        "try:\n",
        "    with open(test_file, encoding='utf-8') as f:\n",
        "        print(f\"\\n🧾 파일: {unicodedata.normalize('NFC', target_files[0])}\\n\")\n",
        "        for i in range(20):\n",
        "            print(f\"{i+1:02d}: {f.readline().strip()}\")\n",
        "except UnicodeDecodeError:\n",
        "    with open(test_file, encoding='cp949') as f:\n",
        "        print(f\"\\n🧾 파일 (cp949): {unicodedata.normalize('NFC', target_files[0])}\\n\")\n",
        "        for i in range(20):\n",
        "            print(f\"{i+1:02d}: {f.readline().strip()}\")\n"
      ],
      "metadata": {
        "colab": {
          "base_uri": "https://localhost:8080/"
        },
        "id": "fdvxltb9k6nO",
        "outputId": "3eabd7d1-9d46-4cd0-dafd-f078a7293bfb"
      },
      "execution_count": 43,
      "outputs": [
        {
          "output_type": "stream",
          "name": "stdout",
          "text": [
            "\n",
            "🧾 파일: 2023_사업보고서_03_포괄손익계산서_은행_연결_20241101.txt\n",
            "\n",
            "\n",
            "🧾 파일 (cp949): 2023_사업보고서_03_포괄손익계산서_은행_연결_20241101.txt\n",
            "\n",
            "01: 재무제표종류\t종목코드\t회사명\t시장구분\t업종\t업종명\t결산월\t결산기준일\t보고서종류\t통화\t항목코드\t항목명\t당기\t전기\t전전기\n",
            "02: 포괄손익계산서, 은행 - 연결\t[138930]\tBNK금융지주\t유가증권시장상장법인\t649\t기타 금융업\t12\t2023-12-31\t사업보고서\tKRW\tdart_GainLossFromFinancialInstrumentsAtAmortisedCost\t      상각후원가측정금융상품관련손익\t-245,957,046\t283,596,929\t2,442,858,016\n",
            "03: 포괄손익계산서, 은행 - 연결\t[138930]\tBNK금융지주\t유가증권시장상장법인\t649\t기타 금융업\t12\t2023-12-31\t사업보고서\tKRW\tdart_GainLossFromFinancialInstrumentsAtFairValueThroughOtherComprehensiveIncome\t      기타포괄손익-공정가치측정금융상품관련손익\t4,798,390,870\t2,808,705,725\t12,719,144,999\n",
            "04: 포괄손익계산서, 은행 - 연결\t[138930]\tBNK금융지주\t유가증권시장상장법인\t649\t기타 금융업\t12\t2023-12-31\t사업보고서\tKRW\tdart_GainLossFromFinancialInstrumentsAtFairValueThroughProfitOrLoss\t      당기손익-공정가치측정금융상품관련손익\t161,584,183,296\t-4,287,240,484\t176,281,875,491\n",
            "05: 포괄손익계산서, 은행 - 연결\t[138930]\tBNK금융지주\t유가증권시장상장법인\t649\t기타 금융업\t12\t2023-12-31\t사업보고서\tKRW\tdart_NonOperatingProfitLoss\t      영업외손익\t74,386,087,514\t-30,938,525,501\t10,018,134,433\n",
            "06: 포괄손익계산서, 은행 - 연결\t[138930]\tBNK금융지주\t유가증권시장상장법인\t649\t기타 금융업\t12\t2023-12-31\t사업보고서\tKRW\tdart_NonOperatingExpense\t         기타비용\t-55,984,743,661\t-96,599,839,244\t-86,314,132,730\n",
            "07: 포괄손익계산서, 은행 - 연결\t[138930]\tBNK금융지주\t유가증권시장상장법인\t649\t기타 금융업\t12\t2023-12-31\t사업보고서\tKRW\tdart_NonOperatingIncome\t         기타수익\t76,200,479,947\t64,607,954,681\t68,234,709,211\n",
            "08: 포괄손익계산서, 은행 - 연결\t[138930]\tBNK금융지주\t유가증권시장상장법인\t649\t기타 금융업\t12\t2023-12-31\t사업보고서\tKRW\tifrs-full_ShareOfProfitLossOfAssociatesAndJointVenturesAccountedForUsingEquityMethod\t         관계기업투자손익\t54,170,351,228\t1,053,359,062\t28,097,557,952\n",
            "09: 포괄손익계산서, 은행 - 연결\t[138930]\tBNK금융지주\t유가증권시장상장법인\t649\t기타 금융업\t12\t2023-12-31\t사업보고서\tKRW\tifrs-full_AdditionalAllowanceRecognisedInProfitOrLossAllowanceAccountForCreditLossesOfFinancialAssets\t      신용손실 충당금 전입액 등\t-759,374,997,568\t-478,454,688,959\t-340,497,224,797\n",
            "10: 포괄손익계산서, 은행 - 연결\t[138930]\tBNK금융지주\t유가증권시장상장법인\t649\t기타 금융업\t12\t2023-12-31\t사업보고서\tKRW\tentity00858364_ContributionToProvisionForCreditLossOfAdditionalAllowanceRecognisedInProfitOrLossAllowanceAccountForCreditLossesOfFinancialAssets\t         신용손실충당금전입액\t868,112,465,905\t548,470,830,256\t397,230,963,654\n",
            "11: 포괄손익계산서, 은행 - 연결\t[138930]\tBNK금융지주\t유가증권시장상장법인\t649\t기타 금융업\t12\t2023-12-31\t사업보고서\tKRW\tentity00858364_GainOnDisposalOfLoansOfAdditionalAllowanceRecognisedInProfitOrLossAllowanceAccountForCreditLossesOfFinancialAssets\t         대출채권 매각손익\t108,737,468,337\t70,016,141,297\t56,733,738,857\n",
            "12: 포괄손익계산서, 은행 - 연결\t[138930]\tBNK금융지주\t유가증권시장상장법인\t649\t기타 금융업\t12\t2023-12-31\t사업보고서\tKRW\tifrs-full_ComprehensiveIncome\t      총포괄손익\t800,113,553,532\t794,966,455,172\t758,092,727,687\n",
            "13: 포괄손익계산서, 은행 - 연결\t[138930]\tBNK금융지주\t유가증권시장상장법인\t649\t기타 금융업\t12\t2023-12-31\t사업보고서\tKRW\tifrs-full_ComprehensiveIncomeAttributableToNoncontrollingInterests\t         비지배지분에 귀속되는 총포괄손익\t39,124,648,629\t48,170,521,917\t43,240,450,000\n",
            "14: 포괄손익계산서, 은행 - 연결\t[138930]\tBNK금융지주\t유가증권시장상장법인\t649\t기타 금융업\t12\t2023-12-31\t사업보고서\tKRW\tifrs-full_ComprehensiveIncomeAttributableToOwnersOfParent\t         지배기업의 소유주에게 귀속되는 총포괄손익\t760,988,904,903\t746,795,933,255\t714,852,277,687\n",
            "15: 포괄손익계산서, 은행 - 연결\t[138930]\tBNK금융지주\t유가증권시장상장법인\t649\t기타 금융업\t12\t2023-12-31\t사업보고서\tKRW\tifrs-full_BasicEarningsLossPerShare\t         보통주기본주당이익(손실)\t1,905\t2,327\t2,288\n",
            "16: 포괄손익계산서, 은행 - 연결\t[138930]\tBNK금융지주\t유가증권시장상장법인\t649\t기타 금융업\t12\t2023-12-31\t사업보고서\tKRW\tifrs-full_DilutedEarningsLossPerShare\t         보통주희석주당이익(손실)\t1,905\t2,327\t2,288\n",
            "17: 포괄손익계산서, 은행 - 연결\t[138930]\tBNK금융지주\t유가증권시장상장법인\t649\t기타 금융업\t12\t2023-12-31\t사업보고서\tKRW\tifrs-full_FeeAndCommissionIncomeExpense\t      순수수료손익\t241,278,996,280\t388,839,894,374\t460,399,975,222\n",
            "18: 포괄손익계산서, 은행 - 연결\t[138930]\tBNK금융지주\t유가증권시장상장법인\t649\t기타 금융업\t12\t2023-12-31\t사업보고서\tKRW\tifrs-full_FeeAndCommissionExpense\t         수수료비용\t-169,091,544,121\t-163,899,326,743\t-155,633,814,255\n",
            "19: 포괄손익계산서, 은행 - 연결\t[138930]\tBNK금융지주\t유가증권시장상장법인\t649\t기타 금융업\t12\t2023-12-31\t사업보고서\tKRW\tifrs-full_FeeAndCommissionIncome\t         수수료수익\t410,370,540,401\t552,739,221,117\t616,033,789,477\n",
            "20: 포괄손익계산서, 은행 - 연결\t[138930]\tBNK금융지주\t유가증권시장상장법인\t649\t기타 금융업\t12\t2023-12-31\t사업보고서\tKRW\tifrs-full_IncomeTaxExpenseContinuingOperations\t      법인세비용(수익)\t-196,655,688,108\t-292,052,188,641\t-282,930,994,692\n"
          ]
        }
      ]
    },
    {
      "cell_type": "code",
      "source": [
        "!pip install rapidfuzz tqdm"
      ],
      "metadata": {
        "colab": {
          "base_uri": "https://localhost:8080/"
        },
        "id": "7NpPYf1FlDmg",
        "outputId": "a4a06fb5-e7fc-430b-cfbd-b8044ab261a3"
      },
      "execution_count": 30,
      "outputs": [
        {
          "output_type": "stream",
          "name": "stdout",
          "text": [
            "Requirement already satisfied: rapidfuzz in /usr/local/lib/python3.11/dist-packages (3.13.0)\n",
            "Requirement already satisfied: tqdm in /usr/local/lib/python3.11/dist-packages (4.67.1)\n"
          ]
        }
      ]
    },
    {
      "cell_type": "code",
      "source": [
        "import os\n",
        "import unicodedata\n",
        "from collections import defaultdict, Counter\n",
        "from tqdm import tqdm\n",
        "from rapidfuzz import process, fuzz\n",
        "\n",
        "# ✅ 경로 설정\n",
        "input_path\n",
        "output_path\n",
        "# ✅ 항목명 추출 함수 (12번째 필드: index 11이 항목명)\n",
        "def extract_column_names(filepath):\n",
        "    column_names = []\n",
        "    try:\n",
        "        with open(filepath, encoding='utf-8') as f:\n",
        "            for i, line in enumerate(f):\n",
        "                parts = line.strip().split('\\t')\n",
        "                if len(parts) > 11 and i > 0:\n",
        "                    name = parts[11].strip()\n",
        "                    if name and name != '항목명':\n",
        "                        column_names.append(name)\n",
        "    except UnicodeDecodeError:\n",
        "        with open(filepath, encoding='cp949') as f:\n",
        "            for i, line in enumerate(f):\n",
        "                parts = line.strip().split('\\t')\n",
        "                if len(parts) > 11 and i > 0:\n",
        "                    name = parts[11].strip()\n",
        "                    if name and name != '항목명':\n",
        "                        column_names.append(name)\n",
        "    return column_names\n",
        "\n",
        "# ✅ 연결 포함된 .txt 파일 추출\n",
        "all_files = os.listdir(input_path)\n",
        "target_files = [\n",
        "    f for f in all_files if \"연결\" in unicodedata.normalize('NFC', f) and f.endswith(\".txt\")\n",
        "]\n",
        "print(f\"📁 '연결' 포함된 파일 수: {len(target_files)}개\")\n",
        "\n",
        "# ✅ 항목명 수집\n",
        "all_column_names = []\n",
        "for idx, file in enumerate(target_files, 1):\n",
        "    file_path = os.path.join(input_path, file)\n",
        "    print(f\"  [{idx}/{len(target_files)}] → {file} 처리 중\")\n",
        "    all_column_names.extend(extract_column_names(file_path))\n",
        "\n",
        "print(f\"✅ 총 추출된 항목명 수: {len(all_column_names)}개\")\n",
        "\n",
        "# ✅ 중복 제거\n",
        "unique_columns = list(set(all_column_names))\n",
        "print(f\"🧹 중복 제거 후 유니크 항목명 수: {len(unique_columns)}개\")\n",
        "\n",
        "# ✅ 유사 컬럼 그룹화\n",
        "grouped = defaultdict(list)\n",
        "visited = set()\n",
        "\n",
        "print(\"🧠 유사 컬럼 그룹화 진행 중...\")\n",
        "for col in tqdm(unique_columns):\n",
        "    if col in visited:\n",
        "        continue\n",
        "    matches = process.extract(\n",
        "        col, unique_columns,\n",
        "        scorer=fuzz.token_sort_ratio,\n",
        "        score_cutoff=75,\n",
        "        limit=20\n",
        "    )\n",
        "    matched_names = [m[0] for m in matches]\n",
        "    for m in matched_names:\n",
        "        visited.add(m)\n",
        "    grouped[col].extend(matched_names)\n",
        "\n",
        "# ✅ 대표 컬럼 추출\n",
        "freq = Counter(all_column_names)\n",
        "representatives = [max(members, key=lambda x: freq[x]) for members in grouped.values()]\n",
        "print(f\"🏷 대표컬럼 추출 완료: {len(set(representatives))}개\")\n",
        "\n",
        "# ✅ 결과 저장\n",
        "import pandas as pd\n",
        "os.makedirs(output_path, exist_ok=True)\n",
        "df = pd.DataFrame({'대표컬럼': sorted(set(representatives))})\n",
        "df.to_csv(os.path.join(output_path, \"대표컬럼목록.csv\"), index=False)\n",
        "print(\"💾 대표컬럼 CSV 저장 완료\")\n"
      ],
      "metadata": {
        "colab": {
          "base_uri": "https://localhost:8080/"
        },
        "id": "dEYHuh-blIHW",
        "outputId": "e66901f5-3fba-4a70-b026-ec2f478d1de9"
      },
      "execution_count": 44,
      "outputs": [
        {
          "output_type": "stream",
          "name": "stdout",
          "text": [
            "📁 '연결' 포함된 파일 수: 18개\n",
            "  [1/18] → 2023_사업보고서_03_포괄손익계산서_은행_연결_20241101.txt 처리 중\n",
            "  [2/18] → 2023_사업보고서_02_손익계산서_연결_20241101.txt 처리 중\n",
            "  [3/18] → 2023_사업보고서_03_포괄손익계산서_증권_연결_20241101.txt 처리 중\n",
            "  [4/18] → 2023_사업보고서_03_포괄손익계산서_연결_20241101.txt 처리 중\n",
            "  [5/18] → 2023_사업보고서_03_포괄손익계산서_보험_연결_20241101.txt 처리 중\n",
            "  [6/18] → 2023_사업보고서_03_포괄손익계산서_금융기타_연결_20241101.txt 처리 중\n",
            "  [7/18] → 2024_사업보고서_03_포괄손익계산서_은행_연결_20250606.txt 처리 중\n",
            "  [8/18] → 2024_사업보고서_03_포괄손익계산서_증권_연결_20250606.txt 처리 중\n",
            "  [9/18] → 2024_사업보고서_03_포괄손익계산서_금융기타_연결_20250606.txt 처리 중\n",
            "  [10/18] → 2024_사업보고서_03_포괄손익계산서_보험_연결_20250606.txt 처리 중\n",
            "  [11/18] → 2024_사업보고서_03_포괄손익계산서_연결_20250606.txt 처리 중\n",
            "  [12/18] → 2024_사업보고서_02_손익계산서_연결_20250606.txt 처리 중\n",
            "  [13/18] → 2025_1분기보고서_02_손익계산서_연결_20250606.txt 처리 중\n",
            "  [14/18] → 2025_1분기보고서_03_포괄손익계산서_금융기타_연결_20250606.txt 처리 중\n",
            "  [15/18] → 2025_1분기보고서_03_포괄손익계산서_은행_연결_20250606.txt 처리 중\n",
            "  [16/18] → 2025_1분기보고서_03_포괄손익계산서_연결_20250606.txt 처리 중\n",
            "  [17/18] → 2025_1분기보고서_03_포괄손익계산서_증권_연결_20250606.txt 처리 중\n",
            "  [18/18] → 2025_1분기보고서_03_포괄손익계산서_보험_연결_20250606.txt 처리 중\n",
            "✅ 총 추출된 항목명 수: 184621개\n",
            "🧹 중복 제거 후 유니크 항목명 수: 6069개\n",
            "🧠 유사 컬럼 그룹화 진행 중...\n"
          ]
        },
        {
          "output_type": "stream",
          "name": "stderr",
          "text": [
            "100%|██████████| 6069/6069 [00:07<00:00, 770.59it/s] \n"
          ]
        },
        {
          "output_type": "stream",
          "name": "stdout",
          "text": [
            "🏷 대표컬럼 추출 완료: 1269개\n",
            "💾 대표컬럼 CSV 저장 완료\n"
          ]
        }
      ]
    },
    {
      "cell_type": "code",
      "source": [
        "import pandas as pd\n",
        "\n",
        "df = pd.read_csv(\"/content/drive/MyDrive/Colab Notebooks/실전프로젝트/손익계산서_2023, 2024, 2025/손익계산서_결과/대표컬럼목록.csv\")\n",
        "print(df.columns)\n"
      ],
      "metadata": {
        "colab": {
          "base_uri": "https://localhost:8080/"
        },
        "id": "BqaJPhZelVWP",
        "outputId": "574132da-a8d9-431d-d8a5-13fc514cc68f"
      },
      "execution_count": 45,
      "outputs": [
        {
          "output_type": "stream",
          "name": "stdout",
          "text": [
            "Index(['대표컬럼'], dtype='object')\n"
          ]
        }
      ]
    },
    {
      "cell_type": "code",
      "source": [
        "import pandas as pd\n",
        "from collections import defaultdict, Counter\n",
        "from rapidfuzz import process, fuzz\n",
        "from tqdm import tqdm\n",
        "import os\n",
        "\n",
        "# ✅ 경로 설정\n",
        "output_path\n",
        "column_file_path = os.path.join(output_path, \"대표컬럼목록.csv\")  # 여기에 원본 컬럼 리스트가 있다고 가정\n",
        "output_csv_path = os.path.join(output_path, \"대표컬럼_최종정리.csv\")\n",
        "\n",
        "# ✅ 1. 컬럼 리스트 불러오기\n",
        "def load_column_list(path, col_name= \"대표컬럼\"):\n",
        "    df = pd.read_csv(path)\n",
        "    return df[col_name].dropna().tolist()\n",
        "\n",
        "# ✅ 2. 유사 컬럼끼리 그룹 묶기 (RapidFuzz 기반)\n",
        "def group_similar_columns(column_list, similarity_cutoff=75):\n",
        "    unique_columns = list(set(column_list))\n",
        "    grouped = defaultdict(list)\n",
        "    visited = set()\n",
        "\n",
        "    for col in tqdm(unique_columns, desc=\"🧠 유사 컬럼 그룹화 진행 중\"):\n",
        "        if col in visited:\n",
        "            continue\n",
        "        matches = process.extract(\n",
        "            col, unique_columns,\n",
        "            scorer=fuzz.token_sort_ratio,\n",
        "            score_cutoff=similarity_cutoff,\n",
        "            limit=20\n",
        "        )\n",
        "        matched_names = [m[0] for m in matches]\n",
        "        for m in matched_names:\n",
        "            visited.add(m)\n",
        "        grouped[col].extend(matched_names)\n",
        "\n",
        "    return grouped\n",
        "\n",
        "# ✅ 3. 각 그룹에서 대표 컬럼 선택 (빈도 기준)\n",
        "def select_representative_columns(grouped_dict, full_column_list):\n",
        "    frequency = Counter(full_column_list)\n",
        "    representative_mapping = dict()\n",
        "\n",
        "    for rep, members in grouped_dict.items():\n",
        "        best = max(members, key=lambda x: frequency[x])\n",
        "        for m in members:\n",
        "            representative_mapping[m] = best  # 유사컬럼 → 대표컬럼\n",
        "\n",
        "    return representative_mapping\n",
        "\n",
        "# ✅ 4. 실행\n",
        "column_list = load_column_list(column_file_path)\n",
        "grouped_columns = group_similar_columns(column_list, similarity_cutoff=75)\n",
        "representative_map = select_representative_columns(grouped_columns, column_list)\n",
        "\n",
        "# ✅ 5. 결과 저장\n",
        "# 대표컬럼 리스트만 정리\n",
        "final_representatives = sorted(set(representative_map.values()))\n",
        "rep_df = pd.DataFrame({\"대표컬럼\": final_representatives})\n",
        "rep_df.to_csv(output_csv_path, index=False)\n",
        "\n",
        "print(f\"✅ 대표컬럼 {len(rep_df)}개가 추출되어 저장되었습니다.\")\n"
      ],
      "metadata": {
        "colab": {
          "base_uri": "https://localhost:8080/"
        },
        "id": "dBI4zpG_m0wY",
        "outputId": "69cf859d-dd79-49ae-ffc4-e172c6cfdab5"
      },
      "execution_count": 46,
      "outputs": [
        {
          "output_type": "stream",
          "name": "stderr",
          "text": [
            "🧠 유사 컬럼 그룹화 진행 중: 100%|██████████| 1269/1269 [00:00<00:00, 2046.56it/s]"
          ]
        },
        {
          "output_type": "stream",
          "name": "stdout",
          "text": [
            "✅ 대표컬럼 954개가 추출되어 저장되었습니다.\n"
          ]
        },
        {
          "output_type": "stream",
          "name": "stderr",
          "text": [
            "\n"
          ]
        }
      ]
    },
    {
      "cell_type": "code",
      "source": [
        "# ✅ 6. 전체 컬럼 → 대표컬럼으로 치환\n",
        "replaced_columns = [representative_map.get(col, col) for col in column_list]  # 매핑 안 된 경우 본인 유지\n",
        "\n",
        "# ✅ 7. 대표컬럼별 사용 빈도 집계 및 정렬\n",
        "representative_counter = Counter(replaced_columns)\n",
        "sorted_representatives = representative_counter.most_common()\n",
        "\n",
        "# ✅ 8. 정렬된 대표컬럼 + 빈도수 저장\n",
        "freq_df = pd.DataFrame(sorted_representatives, columns=[\"대표컬럼\", \"빈도수\"])\n",
        "freq_output_path = os.path.join(output_path, \"대표컬럼_빈도순정렬.csv\")\n",
        "freq_df.to_csv(freq_output_path, index=False)\n",
        "\n",
        "# ✅ 9. 출력 확인\n",
        "print(\"📊 대표컬럼별 사용 빈도 (내림차순 정렬):\")\n",
        "for col, freq in sorted_representatives[:20]:  # 상위 20개만 보기 좋게 출력\n",
        "    print(f\"{col}: {freq}\")\n",
        "\n",
        "print(f\"\\n✅ 빈도 기준 정렬 결과가 {freq_output_path}에 저장되었습니다.\")\n"
      ],
      "metadata": {
        "colab": {
          "base_uri": "https://localhost:8080/"
        },
        "id": "9Idq0u6PnErv",
        "outputId": "dcb49599-a88c-4786-8422-aabede88707f"
      },
      "execution_count": 47,
      "outputs": [
        {
          "output_type": "stream",
          "name": "stdout",
          "text": [
            "📊 대표컬럼별 사용 빈도 (내림차순 정렬):\n",
            "기타포괄손익-공정가치지분상품평가손익: 13\n",
            "기타포괄손익-공정가치 측정 금융자산 평가손익: 7\n",
            "비지배지분 귀속 당기순이익: 7\n",
            "계속영업기본주당이익: 6\n",
            "공정가치측정금융자산평가손익: 6\n",
            "당기총포괄이익(손실): 6\n",
            "지배주주지분순이익: 6\n",
            "기본주당이익(손실): 5\n",
            "당기손익-공정가치측정금융상품관련손실: 5\n",
            "후속적으로 당기손익으로 재분류되지 않는 항목(세후기타포괄손익): 5\n",
            "법인세비용차감전순이익: 5\n",
            "지배기업의 소유주에게 귀속되는 당기순이익: 5\n",
            "계속영업 희석주당순손익: 4\n",
            "중단영업당기순이익: 4\n",
            "관계기업관련이익: 4\n",
            "관계기업 기타포괄손익지분: 4\n",
            "관계기업 기타포괄손익에 대한 평가이익: 4\n",
            "확정급여채무의 재측정요소: 4\n",
            "관계기업투자이익(손실): 4\n",
            "기타영업비용: 4\n",
            "\n",
            "✅ 빈도 기준 정렬 결과가 /content/drive/MyDrive/Colab Notebooks/실전프로젝트/손익계산서_2023, 2024, 2025/손익계산서_결과/대표컬럼_빈도순정렬.csv에 저장되었습니다.\n"
          ]
        }
      ]
    },
    {
      "cell_type": "code",
      "source": [
        "# ✅ 10. 대표컬럼 → 유사컬럼 리스트 역변환\n",
        "representative_to_similars = defaultdict(list)\n",
        "for similar_col, rep_col in representative_map.items():\n",
        "    representative_to_similars[rep_col].append(similar_col)\n",
        "\n",
        "# ✅ 11. 딕셔너리를 CSV로 저장\n",
        "rep_group_path = os.path.join(output_path, \"대표컬럼_유사컬럼_매핑.csv\")\n",
        "rep_group_df = pd.DataFrame([\n",
        "    {\"대표컬럼\": rep, \"유사컬럼들\": \", \".join(sorted(list(set(similars))))}\n",
        "    for rep, similars in representative_to_similars.items()\n",
        "])\n",
        "rep_group_df.to_csv(rep_group_path, index=False)\n",
        "\n",
        "print(f\"✅ 대표컬럼별 유사컬럼 목록이 {rep_group_path}에 저장되었습니다.\")\n"
      ],
      "metadata": {
        "colab": {
          "base_uri": "https://localhost:8080/"
        },
        "id": "6yxHZ9lYnHkv",
        "outputId": "42d545c5-2da4-4764-f272-96c7176c6c51"
      },
      "execution_count": 48,
      "outputs": [
        {
          "output_type": "stream",
          "name": "stdout",
          "text": [
            "✅ 대표컬럼별 유사컬럼 목록이 /content/drive/MyDrive/Colab Notebooks/실전프로젝트/손익계산서_2023, 2024, 2025/손익계산서_결과/대표컬럼_유사컬럼_매핑.csv에 저장되었습니다.\n"
          ]
        }
      ]
    },
    {
      "cell_type": "code",
      "source": [
        "# ✅ 12. 대표컬럼별 전체 사용 빈도 계산 (유사컬럼 등장 횟수 합산 기준)\n",
        "column_frequency = Counter(column_list)  # 원본 컬럼 리스트에서의 빈도\n",
        "\n",
        "rep_count_list = []\n",
        "for rep, similars in representative_to_similars.items():\n",
        "    total_count = sum(column_frequency[col] for col in similars if col in column_frequency)\n",
        "    rep_count_list.append((rep, total_count, similars))\n",
        "\n",
        "# ✅ 내림차순 정렬\n",
        "rep_count_list_sorted = sorted(rep_count_list, key=lambda x: x[1], reverse=True)\n",
        "\n",
        "# ✅ 13. 정리된 형태로 DataFrame 저장\n",
        "rep_count_df = pd.DataFrame([\n",
        "    {\n",
        "        \"대표컬럼\": rep,\n",
        "        \"총사용빈도\": count,\n",
        "        \"유사컬럼수\": len(similars),\n",
        "        \"유사컬럼목록\": \", \".join(sorted(set(similars)))\n",
        "    }\n",
        "    for rep, count, similars in rep_count_list_sorted\n",
        "])\n",
        "\n",
        "rep_count_path = os.path.join(output_path, \"대표컬럼_사용빈도_내림차순.csv\")\n",
        "rep_count_df.to_csv(rep_count_path, index=False)\n",
        "\n",
        "print(f\"✅ 대표컬럼 사용빈도 기준 정리 결과가 {rep_count_path}에 저장되었습니다.\")\n"
      ],
      "metadata": {
        "colab": {
          "base_uri": "https://localhost:8080/"
        },
        "id": "yCn6tsAGnI5_",
        "outputId": "7cb95505-5439-4277-d223-eda090d29738"
      },
      "execution_count": 49,
      "outputs": [
        {
          "output_type": "stream",
          "name": "stdout",
          "text": [
            "✅ 대표컬럼 사용빈도 기준 정리 결과가 /content/drive/MyDrive/Colab Notebooks/실전프로젝트/손익계산서_2023, 2024, 2025/손익계산서_결과/대표컬럼_사용빈도_내림차순.csv에 저장되었습니다.\n"
          ]
        }
      ]
    },
    {
      "cell_type": "code",
      "source": [],
      "metadata": {
        "id": "mJvVQ90xnphf"
      },
      "execution_count": null,
      "outputs": []
    }
  ]
}